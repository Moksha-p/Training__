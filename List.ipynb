{
 "cells": [
  {
   "cell_type": "markdown",
   "metadata": {},
   "source": [
    "Question-1). Write a Python function to find the second largest element in a list"
   ]
  },
  {
   "cell_type": "code",
   "execution_count": 1,
   "metadata": {},
   "outputs": [
    {
     "name": "stdout",
     "output_type": "stream",
     "text": [
      "Second largest element: 45\n"
     ]
    }
   ],
   "source": [
    "def second_largest(nums):\n",
    "    nums = list(set(nums))  \n",
    "    nums.sort()  \n",
    "    return nums[-2] if len(nums) > 1 else None  \n",
    "\n",
    "\n",
    "nums = [10, 20, 4, 45, 99, 99, 4]\n",
    "print(\"Second largest element:\", second_largest(nums))\n"
   ]
  },
  {
   "cell_type": "markdown",
   "metadata": {},
   "source": [
    "Question-2) WriteaPython program to generate all possible permutations of a list of numbers"
   ]
  },
  {
   "cell_type": "code",
   "execution_count": 2,
   "metadata": {},
   "outputs": [
    {
     "name": "stdout",
     "output_type": "stream",
     "text": [
      "[1, 2, 3]\n",
      "[1, 3, 2]\n",
      "[2, 1, 3]\n",
      "[2, 3, 1]\n",
      "[3, 1, 2]\n",
      "[3, 2, 1]\n"
     ]
    }
   ],
   "source": [
    "def generate_permutations(nums):\n",
    "    if len(nums) == 0:\n",
    "        return [[]]\n",
    "    \n",
    "    result = []\n",
    "    for i in range(len(nums)):\n",
    "        current = nums[i]\n",
    "        remaining = nums[:i] + nums[i+1:]\n",
    "        \n",
    "        for perm in generate_permutations(remaining):\n",
    "            result.append([current] + perm)\n",
    "    \n",
    "    return result\n",
    "nums = [1, 2, 3]\n",
    "permutations = generate_permutations(nums)\n",
    "for perm in permutations:\n",
    "    print(perm)\n"
   ]
  }
 ],
 "metadata": {
  "kernelspec": {
   "display_name": "Python 3",
   "language": "python",
   "name": "python3"
  },
  "language_info": {
   "codemirror_mode": {
    "name": "ipython",
    "version": 3
   },
   "file_extension": ".py",
   "mimetype": "text/x-python",
   "name": "python",
   "nbconvert_exporter": "python",
   "pygments_lexer": "ipython3",
   "version": "3.13.1"
  }
 },
 "nbformat": 4,
 "nbformat_minor": 2
}
