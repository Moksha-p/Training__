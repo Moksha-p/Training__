{
 "cells": [
  {
   "cell_type": "code",
   "execution_count": 3,
   "metadata": {},
   "outputs": [],
   "source": [
    "def longest_inc_subseq(input):\n",
    "    subsequences = [[input[0]]]\n",
    "    for i in range(1, len(input)):\n",
    "        subsequences.append([input[i]])\n",
    "        for subseq in subsequences[:-1]:\n",
    "            if subseq[-1] < input[i]:\n",
    "                subsequences[-1] = subseq + [input[i]]\n",
    "    return max(subsequences, key=len)\n"
   ]
  },
  {
   "cell_type": "code",
   "execution_count": 4,
   "metadata": {},
   "outputs": [
    {
     "data": {
      "text/plain": [
       "[9, 21, 41, 60, 80]"
      ]
     },
     "execution_count": 4,
     "metadata": {},
     "output_type": "execute_result"
    }
   ],
   "source": [
    "Input =  [10, 22, 9, 33, 21, 50, 41, 60, 80]\n",
    "longest_inc_subseq(Input)"
   ]
  },
  {
   "cell_type": "code",
   "execution_count": 11,
   "metadata": {},
   "outputs": [
    {
     "name": "stdout",
     "output_type": "stream",
     "text": [
      "[10, 22]\n"
     ]
    }
   ],
   "source": [
    "def longest_increasing_subsequence(lst):\n",
    "    subsequences = [[lst[0]]]\n",
    "    for i in range(1, len(lst)):\n",
    "        subsequences.append([lst[i]])\n",
    "        for subseq in subsequences[:-1]:\n",
    "            if subseq[-1] < lst[i]:\n",
    "                subsequences[-1] = subseq + [lst[i]]\n",
    "        return max(subsequences, key=len)\n",
    "\n",
    "print(longest_increasing_subsequence([10, 22, 9, 33, 21, 50, 41, 60, 80]))  "
   ]
  },
  {
   "cell_type": "code",
   "execution_count": 16,
   "metadata": {},
   "outputs": [],
   "source": [
    "def lis_dp(arr):\n",
    "    n = len(arr)\n",
    "    dp = [1] * n\n",
    "    prev = [-1] * n\n",
    "\n",
    "    for i in range(1,n):\n",
    "        for j in range(i):\n",
    "            if arr[i] > arr[j] and dp[i] < dp[j] +1:\n",
    "                dp[i] = dp[j] +1\n",
    "                prev[i] = j\n",
    "    max_ind = max(range(n), key = lambda i:dp[i])\n",
    "\n",
    "    lis_seq = []\n",
    "    while max_ind != -1:\n",
    "        lis_seq.append(arr[max_ind])\n",
    "        max_ind = prev[max_ind]\n",
    "    lis_seq.reverse()\n",
    "    return len(lis_seq) ,lis_seq\n",
    "        \n"
   ]
  },
  {
   "cell_type": "code",
   "execution_count": 17,
   "metadata": {},
   "outputs": [
    {
     "name": "stdout",
     "output_type": "stream",
     "text": [
      "(6, [10, 22, 33, 50, 60, 80])\n"
     ]
    }
   ],
   "source": [
    "Input =  [10, 22, 9, 33, 21, 50, 41, 60, 80]\n",
    "print(lis_dp(Input))"
   ]
  }
 ],
 "metadata": {
  "kernelspec": {
   "display_name": "Python 3",
   "language": "python",
   "name": "python3"
  },
  "language_info": {
   "codemirror_mode": {
    "name": "ipython",
    "version": 3
   },
   "file_extension": ".py",
   "mimetype": "text/x-python",
   "name": "python",
   "nbconvert_exporter": "python",
   "pygments_lexer": "ipython3",
   "version": "3.13.1"
  }
 },
 "nbformat": 4,
 "nbformat_minor": 2
}
