{
 "cells": [
  {
   "cell_type": "markdown",
   "metadata": {},
   "source": [
    "1.Create a function to merge two sorted tuples into one sorted tuple"
   ]
  },
  {
   "cell_type": "code",
   "execution_count": 7,
   "metadata": {},
   "outputs": [
    {
     "name": "stdout",
     "output_type": "stream",
     "text": [
      "(1, 2, 3, 4, 5, 6)\n"
     ]
    }
   ],
   "source": [
    "def mergetuple(t1,t2):\n",
    "    return sorted(t1+t2)\n",
    "\n",
    "\n",
    "t1=(1,3,5)\n",
    "t2=(2,4,6)\n",
    "print(tuple(mergetuple(t1,t2)))\n"
   ]
  },
  {
   "cell_type": "markdown",
   "metadata": {},
   "source": [
    "2.Write a Python program to find all unique combinations of elements in a tuple that sum\n",
    "up to a given number."
   ]
  },
  {
   "cell_type": "code",
   "execution_count": 18,
   "metadata": {},
   "outputs": [
    {
     "name": "stdout",
     "output_type": "stream",
     "text": [
      "[[2, 2, 2, 2, 2], [2, 2, 3, 3], [2, 3, 5], [5, 5], [3, 7]]\n"
     ]
    }
   ],
   "source": [
    "def combination_sum(numbers, target_sum):\n",
    "    numbers = sorted(set(numbers))\n",
    "    combinations = [[] for _ in range(target_sum + 1)]\n",
    "    combinations[0] = [[]]\n",
    "\n",
    "    for num in numbers:\n",
    "        for i in range(num, target_sum + 1):\n",
    "            for prev in combinations[i - num]:\n",
    "                combinations[i].append(prev + [num])\n",
    "\n",
    "    return combinations[target_sum]\n",
    "\n",
    "numbers = (2, 3, 5, 7)\n",
    "target_sum = 10\n",
    "print(combination_sum(numbers, target_sum))"
   ]
  }
 ],
 "metadata": {
  "kernelspec": {
   "display_name": "Python 3",
   "language": "python",
   "name": "python3"
  },
  "language_info": {
   "codemirror_mode": {
    "name": "ipython",
    "version": 3
   },
   "file_extension": ".py",
   "mimetype": "text/x-python",
   "name": "python",
   "nbconvert_exporter": "python",
   "pygments_lexer": "ipython3",
   "version": "3.13.1"
  }
 },
 "nbformat": 4,
 "nbformat_minor": 2
}
