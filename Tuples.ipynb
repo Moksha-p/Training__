{
 "cells": [
  {
   "cell_type": "markdown",
   "metadata": {},
   "source": [
    "1.Create a function to merge two sorted tuples into one sorted tuple"
   ]
  },
  {
   "cell_type": "code",
   "execution_count": 1,
   "metadata": {},
   "outputs": [
    {
     "name": "stdout",
     "output_type": "stream",
     "text": [
      "(1, 2, 3, 4, 5, 6)\n"
     ]
    }
   ],
   "source": [
    "def merge_sorted_tuples(tuple1, tuple2):\n",
    "    return tuple(sorted(tuple1 + tuple2))\n",
    "\n",
    "tuple1 = (1, 3, 5)\n",
    "tuple2 = (2, 4, 6)\n",
    "print(merge_sorted_tuples(tuple1, tuple2))  \n"
   ]
  },
  {
   "cell_type": "markdown",
   "metadata": {},
   "source": [
    "2.Write a Python program to find all unique combinations of elements in a tuple that sum\n",
    "up to a given number"
   ]
  },
  {
   "cell_type": "code",
   "execution_count": 2,
   "metadata": {},
   "outputs": [
    {
     "name": "stdout",
     "output_type": "stream",
     "text": [
      "[(3, 7), (2, 3, 5)]\n"
     ]
    }
   ],
   "source": [
    "from itertools import combinations\n",
    "\n",
    "def find_combinations(tpl, target):\n",
    "    return [combo for r in range(1, len(tpl) + 1) for combo in combinations(tpl, r) if sum(combo) == target]\n",
    "\n",
    "tpl = (2, 3, 5, 7)\n",
    "target = 10\n",
    "print(find_combinations(tpl, target))  \n"
   ]
  }
 ],
 "metadata": {
  "kernelspec": {
   "display_name": "Python 3",
   "language": "python",
   "name": "python3"
  },
  "language_info": {
   "codemirror_mode": {
    "name": "ipython",
    "version": 3
   },
   "file_extension": ".py",
   "mimetype": "text/x-python",
   "name": "python",
   "nbconvert_exporter": "python",
   "pygments_lexer": "ipython3",
   "version": "3.13.1"
  }
 },
 "nbformat": 4,
 "nbformat_minor": 2
}
