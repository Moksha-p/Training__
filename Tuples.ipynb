{
 "cells": [
  {
   "cell_type": "markdown",
   "metadata": {},
   "source": [
    "Question-1) Create a function to merge two sorted tuples into one sorted tuple.\n"
   ]
  },
  {
   "cell_type": "code",
   "execution_count": 1,
   "metadata": {},
   "outputs": [
    {
     "name": "stdout",
     "output_type": "stream",
     "text": [
      "Merged sorted tuple: (1, 2, 3, 4, 5, 6)\n"
     ]
    }
   ],
   "source": [
    "def merge_sorted_tuples(tuple1, tuple2):\n",
    "    \n",
    "    return tuple(sorted(tuple1 + tuple2))\n",
    "tuple1 = (1, 3, 5)\n",
    "tuple2 = (2, 4, 6)\n",
    "result = merge_sorted_tuples(tuple1, tuple2)\n",
    "\n",
    "print(\"Merged sorted tuple:\", result)\n"
   ]
  },
  {
   "cell_type": "markdown",
   "metadata": {},
   "source": [
    "Question-2)Write a Python program to find all unique combinations of elements in a tuple that sum\n",
    " up to a given number."
   ]
  },
  {
   "cell_type": "code",
   "execution_count": 2,
   "metadata": {},
   "outputs": [
    {
     "name": "stdout",
     "output_type": "stream",
     "text": [
      "Combinations that sum to 10 : [(3, 7), (2, 3, 5)]\n"
     ]
    }
   ],
   "source": [
    "from itertools import combinations\n",
    "\n",
    "def find_combinations(nums, target):\n",
    "    result = []\n",
    "    for r in range(1, len(nums) + 1):\n",
    "        for comb in combinations(nums, r):\n",
    "            if sum(comb) == target:\n",
    "                result.append(comb)\n",
    "    return result\n",
    "nums = (2, 3, 5, 7)\n",
    "target = 10\n",
    "result = find_combinations(nums, target)\n",
    "\n",
    "print(\"Combinations that sum to\", target, \":\", result)\n"
   ]
  }
 ],
 "metadata": {
  "kernelspec": {
   "display_name": "Python 3",
   "language": "python",
   "name": "python3"
  },
  "language_info": {
   "name": "python",
   "version": "3.13.1"
  }
 },
 "nbformat": 4,
 "nbformat_minor": 2
}
