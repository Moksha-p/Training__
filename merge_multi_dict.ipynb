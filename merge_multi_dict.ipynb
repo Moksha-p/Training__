{
 "cells": [
  {
   "cell_type": "code",
   "execution_count": 8,
   "metadata": {},
   "outputs": [
    {
     "name": "stdout",
     "output_type": "stream",
     "text": [
      "{'a': 1, 'b': 5, 'c': 8}\n"
     ]
    }
   ],
   "source": [
    "from collections import Counter\n",
    "\n",
    "def merge_and_sum_dicts(*dicts):\n",
    "    return dict(sum((Counter(d) for d in dicts), Counter()))\n",
    "\n",
    "print(merge_and_sum_dicts({'a': 1, 'b': 2, 'c': 4}, {'b': 3, 'c': 4})) "
   ]
  }
 ],
 "metadata": {
  "kernelspec": {
   "display_name": "Python 3",
   "language": "python",
   "name": "python3"
  },
  "language_info": {
   "codemirror_mode": {
    "name": "ipython",
    "version": 3
   },
   "file_extension": ".py",
   "mimetype": "text/x-python",
   "name": "python",
   "nbconvert_exporter": "python",
   "pygments_lexer": "ipython3",
   "version": "3.13.1"
  }
 },
 "nbformat": 4,
 "nbformat_minor": 2
}
