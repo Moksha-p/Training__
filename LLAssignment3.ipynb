{
 "cells": [
  {
   "cell_type": "markdown",
   "metadata": {},
   "source": [
    "1. Detect a Loop in a Linked List"
   ]
  },
  {
   "cell_type": "code",
   "execution_count": 2,
   "metadata": {},
   "outputs": [
    {
     "name": "stdout",
     "output_type": "stream",
     "text": [
      "Loop detected: True\n"
     ]
    }
   ],
   "source": [
    "class ListNode:\n",
    "    def __init__(self, val=0, next=None):\n",
    "        self.val = val\n",
    "        self.next = next\n",
    "\n",
    "def has_cycle(head):\n",
    "    slow = head\n",
    "    fast = head\n",
    "\n",
    "    while fast and fast.next:\n",
    "        slow = slow.next\n",
    "        fast = fast.next.next\n",
    "\n",
    "        if slow == fast:\n",
    "            return True\n",
    "\n",
    "    return False\n",
    "\n",
    "def create_linked_list():\n",
    "    values = list(map(int, input(\"Enter the values for the linked list (space-separated): \").split()))\n",
    "    if not values:\n",
    "        return None\n",
    "    head = ListNode(values[0])\n",
    "    current = head\n",
    "    for value in values[1:]:\n",
    "        current.next = ListNode(value)\n",
    "        current = current.next\n",
    "    return head\n",
    "\n",
    "def create_loop(head):\n",
    "    loop_index = int(input(\"Enter the index (1-based) where the loop should start: \")) - 1\n",
    "    if loop_index < 0:\n",
    "        return\n",
    "    current = head\n",
    "    for _ in range(loop_index):\n",
    "        if current:\n",
    "            current = current.next\n",
    "    if current:\n",
    "        last_node = current\n",
    "        while last_node and last_node.next:\n",
    "            last_node = last_node.next\n",
    "        if last_node:\n",
    "            last_node.next = current\n",
    "\n",
    "head = create_linked_list()\n",
    "create_loop(head)\n",
    "print(\"Loop detected:\", has_cycle(head))\n"
   ]
  },
  {
   "cell_type": "markdown",
   "metadata": {},
   "source": [
    " 2 . Remove Duplicates from a Sorted Linked List"
   ]
  },
  {
   "cell_type": "code",
   "execution_count": 3,
   "metadata": {},
   "outputs": [
    {
     "name": "stdout",
     "output_type": "stream",
     "text": [
      "Linked list after removing duplicates:\n",
      "4 -> 3 -> 6 -> 1 -> 7 -> 8 -> None\n"
     ]
    }
   ],
   "source": [
    "class ListNode:\n",
    "    def __init__(self, val=0, next=None):\n",
    "        self.val = val\n",
    "        self.next = next\n",
    "\n",
    "def remove_duplicates(head):\n",
    "    current = head\n",
    "    while current and current.next:\n",
    "        if current.val == current.next.val:\n",
    "            current.next = current.next.next\n",
    "        else:\n",
    "            current = current.next\n",
    "    return head\n",
    "\n",
    "def create_linked_list():\n",
    "    values = list(map(int, input(\"Enter the values for the linked list (space-separated): \").split()))\n",
    "    if not values:\n",
    "        return None\n",
    "    head = ListNode(values[0])\n",
    "    current = head\n",
    "    for value in values[1:]:\n",
    "        current.next = ListNode(value)\n",
    "        current = current.next\n",
    "    return head\n",
    "\n",
    "def print_linked_list(head):\n",
    "    current = head\n",
    "    while current:\n",
    "        print(current.val, end=\" -> \")\n",
    "        current = current.next\n",
    "    print(\"None\")\n",
    "\n",
    "head = create_linked_list()\n",
    "head = remove_duplicates(head)\n",
    "print(\"Linked list after removing duplicates:\")\n",
    "print_linked_list(head)\n"
   ]
  },
  {
   "cell_type": "markdown",
   "metadata": {},
   "source": [
    " 3. Check if a Linked List is a Palindrome"
   ]
  },
  {
   "cell_type": "code",
   "execution_count": 4,
   "metadata": {},
   "outputs": [
    {
     "name": "stdout",
     "output_type": "stream",
     "text": [
      "True\n"
     ]
    }
   ],
   "source": [
    "class ListNode:\n",
    "    def __init__(self, val=0, next=None):\n",
    "        self.val = val\n",
    "        self.next = next\n",
    "\n",
    "def isPalindrome(head: ListNode) -> bool:\n",
    "    values = []\n",
    "    while head:\n",
    "        values.append(head.val)\n",
    "        head = head.next\n",
    "    return values == values[::-1]\n",
    "\n",
    "head = ListNode(1)\n",
    "head.next = ListNode(2)\n",
    "head.next.next = ListNode(3)\n",
    "head.next.next.next = ListNode(2)\n",
    "head.next.next.next.next = ListNode(1)\n",
    "\n",
    "print(isPalindrome(head))  # Output: True\n"
   ]
  },
  {
   "cell_type": "markdown",
   "metadata": {},
   "source": [
    "4. Rotate a Linked List"
   ]
  },
  {
   "cell_type": "code",
   "execution_count": 7,
   "metadata": {},
   "outputs": [
    {
     "name": "stdout",
     "output_type": "stream",
     "text": [
      "4 -> 5 -> 9 -> 6 -> 7"
     ]
    }
   ],
   "source": [
    "class ListNode:\n",
    "    def __init__(self, val=0, next=None):\n",
    "        self.val = val\n",
    "        self.next = next\n",
    "\n",
    "def rotateRight(head: ListNode, k: int) -> ListNode:\n",
    "    if not head or not head.next or k == 0:\n",
    "        return head\n",
    "    \n",
    "    length = 1\n",
    "    current = head\n",
    "    while current.next:\n",
    "        length += 1\n",
    "        current = current.next\n",
    "    \n",
    "    current.next = head\n",
    "    \n",
    "    k = k % length\n",
    "    if k == 0:\n",
    "        current.next = None\n",
    "        return head\n",
    "    \n",
    "    new_tail = head\n",
    "    for _ in range(length - k - 1):\n",
    "        new_tail = new_tail.next\n",
    "    \n",
    "    new_head = new_tail.next\n",
    "    new_tail.next = None\n",
    "    \n",
    "    return new_head\n",
    "\n",
    "head = ListNode(9)\n",
    "head.next = ListNode(6)\n",
    "head.next.next = ListNode(7)\n",
    "head.next.next.next = ListNode(4)\n",
    "head.next.next.next.next = ListNode(5)\n",
    "\n",
    "k = 2\n",
    "new_head = rotateRight(head, k)\n",
    "\n",
    "current = new_head\n",
    "while current:\n",
    "    print(current.val, end=\" -> \" if current.next else \"\")\n",
    "    current = current.next\n"
   ]
  },
  {
   "cell_type": "markdown",
   "metadata": {},
   "source": [
    "5. Add Two Numbers Represented by Linked Lists\n"
   ]
  },
  {
   "cell_type": "code",
   "execution_count": 8,
   "metadata": {},
   "outputs": [
    {
     "name": "stdout",
     "output_type": "stream",
     "text": [
      "2 -> 1 -> 9"
     ]
    }
   ],
   "source": [
    "class ListNode:\n",
    "    def __init__(self, val=0, next=None):\n",
    "        self.val = val\n",
    "        self.next = next\n",
    "\n",
    "def addTwoNumbers(l1: ListNode, l2: ListNode) -> ListNode:\n",
    "    carry = 0\n",
    "    dummy_head = ListNode()\n",
    "    current = dummy_head\n",
    "    \n",
    "    while l1 or l2 or carry:\n",
    "        val1 = l1.val if l1 else 0\n",
    "        val2 = l2.val if l2 else 0\n",
    "        \n",
    "        total = val1 + val2 + carry\n",
    "        carry = total // 10\n",
    "        current.next = ListNode(total % 10)\n",
    "        \n",
    "        current = current.next\n",
    "        if l1: l1 = l1.next\n",
    "        if l2: l2 = l2.next\n",
    "    \n",
    "    return dummy_head.next\n",
    "\n",
    "l1 = ListNode(7)\n",
    "l1.next = ListNode(1)\n",
    "l1.next.next = ListNode(6)\n",
    "\n",
    "l2 = ListNode(5)\n",
    "l2.next = ListNode(9)\n",
    "l2.next.next = ListNode(2)\n",
    "\n",
    "result = addTwoNumbers(l1, l2)\n",
    "\n",
    "current = result\n",
    "while current:\n",
    "    print(current.val, end=\" -> \" if current.next else \"\")\n",
    "    current = current.next\n"
   ]
  }
 ],
 "metadata": {
  "kernelspec": {
   "display_name": "Python 3",
   "language": "python",
   "name": "python3"
  },
  "language_info": {
   "codemirror_mode": {
    "name": "ipython",
    "version": 3
   },
   "file_extension": ".py",
   "mimetype": "text/x-python",
   "name": "python",
   "nbconvert_exporter": "python",
   "pygments_lexer": "ipython3",
   "version": "3.13.1"
  }
 },
 "nbformat": 4,
 "nbformat_minor": 2
}
