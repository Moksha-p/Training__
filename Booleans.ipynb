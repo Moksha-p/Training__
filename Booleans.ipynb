{
 "cells": [
  {
   "cell_type": "markdown",
   "metadata": {},
   "source": [
    "1) question\n",
    "Create a program that evaluates a list of Boolean expressions and returns the count of\n",
    " True values."
   ]
  },
  {
   "cell_type": "code",
   "execution_count": 1,
   "metadata": {},
   "outputs": [
    {
     "name": "stdout",
     "output_type": "stream",
     "text": [
      "Number of True values: 3\n"
     ]
    }
   ],
   "source": [
    "def evaluate_expressions(expressions):\n",
    "    \n",
    "    return sum(1 for expr in expressions if eval(expr))\n",
    "expressions = [\n",
    "    \"3 > 2\",             # True\n",
    "    \"5 == 5\",            # True\n",
    "    \"2 < 1\",             # False\n",
    "    \"'hello' == 'hello'\", # True\n",
    "    \"2 != 2\",            # False\n",
    "]\n",
    "\n",
    "true_count = evaluate_expressions(expressions)\n",
    "print(f\"Number of True values: {true_count}\")\n"
   ]
  },
  {
   "cell_type": "markdown",
   "metadata": {},
   "source": [
    "question 2). WriteaPython function to evaluate a complex Boolean expression represented as a string\n"
   ]
  },
  {
   "cell_type": "code",
   "execution_count": 2,
   "metadata": {},
   "outputs": [
    {
     "name": "stdout",
     "output_type": "stream",
     "text": [
      "Result: Error: name 'true' is not defined\n"
     ]
    }
   ],
   "source": [
    "def evaluate_boolean_expression(expression):\n",
    "    try:\n",
    "        result = eval(expression)\n",
    "        return result\n",
    "    except Exception as e:\n",
    "        return f\"Error: {e}\"\n",
    "expression = input(\"Enter a Boolean expression: \")\n",
    "result = evaluate_boolean_expression(expression)\n",
    "print(\"Result:\", result)\n"
   ]
  }
 ],
 "metadata": {
  "kernelspec": {
   "display_name": "Python 3",
   "language": "python",
   "name": "python3"
  },
  "language_info": {
   "codemirror_mode": {
    "name": "ipython",
    "version": 3
   },
   "file_extension": ".py",
   "mimetype": "text/x-python",
   "name": "python",
   "nbconvert_exporter": "python",
   "pygments_lexer": "ipython3",
   "version": "3.13.1"
  }
 },
 "nbformat": 4,
 "nbformat_minor": 2
}
