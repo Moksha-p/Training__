{
 "cells": [
  {
   "cell_type": "markdown",
   "metadata": {},
   "source": [
    "# 3. Booleans"
   ]
  },
  {
   "cell_type": "markdown",
   "metadata": {},
   "source": [
    "### Create a program that evaluates a list of Boolean expressions and returns the count of True values"
   ]
  },
  {
   "cell_type": "code",
   "execution_count": 1,
   "metadata": {},
   "outputs": [
    {
     "name": "stdout",
     "output_type": "stream",
     "text": [
      "Number of True in Values in given list is: 3\n"
     ]
    }
   ],
   "source": [
    "def count_true(lst):\n",
    "    count = 0\n",
    "    for val in lst:\n",
    "        if val:\n",
    "            count += 1\n",
    "    return count\n",
    "\n",
    "print(f\"Number of True in Values in given list is: {count_true([True, False, True, True, False])}\")"
   ]
  },
  {
   "cell_type": "markdown",
   "metadata": {},
   "source": [
    "### Write a Python function to evaluate a complex Boolean expression represented as a string\n",
    "### (e.g., \"True and False or True\")."
   ]
  },
  {
   "cell_type": "code",
   "execution_count": 3,
   "metadata": {},
   "outputs": [
    {
     "name": "stdout",
     "output_type": "stream",
     "text": [
      "Evaluated Boolean result is : True\n"
     ]
    }
   ],
   "source": [
    "def evaluate_boolean_expression(expression):\n",
    "    return eval(expression)\n",
    "print(f'Evaluated Boolean result is : {evaluate_boolean_expression(\"True and False or True\")}')"
   ]
  }
 ],
 "metadata": {
  "kernelspec": {
   "display_name": "base",
   "language": "python",
   "name": "python3"
  },
  "language_info": {
   "codemirror_mode": {
    "name": "ipython",
    "version": 3
   },
   "file_extension": ".py",
   "mimetype": "text/x-python",
   "name": "python",
   "nbconvert_exporter": "python",
   "pygments_lexer": "ipython3",
   "version": "3.9.13"
  }
 },
 "nbformat": 4,
 "nbformat_minor": 2
}
