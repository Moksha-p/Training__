{
 "cells": [
  {
   "cell_type": "markdown",
   "metadata": {},
   "source": [
    "# Arrays"
   ]
  },
  {
   "cell_type": "markdown",
   "metadata": {},
   "source": [
    "### 1 . Find the Second Largest Element in an Array"
   ]
  },
  {
   "cell_type": "code",
   "execution_count": 1,
   "metadata": {},
   "outputs": [
    {
     "name": "stdout",
     "output_type": "stream",
     "text": [
      "Second Largest element in the given list is: 3\n"
     ]
    }
   ],
   "source": [
    "def second_largest(list):\n",
    "    \n",
    "    first = list[0]\n",
    "    second = list[1]\n",
    "    n = len(list)\n",
    "    \n",
    "    if n <= 2:\n",
    "        return max(list[0], list[1])\n",
    "    \n",
    "    for idx in range(1, n):\n",
    "        if list[idx] >  first:\n",
    "            second = first\n",
    "            first  = list[idx]\n",
    "    \n",
    "    \n",
    "    return second \n",
    "\n",
    "print(f'Second Largest element in the given list is: {second_largest([1, 3, 4, 2])}')"
   ]
  },
  {
   "cell_type": "markdown",
   "metadata": {},
   "source": [
    "### 2 . Move All Zeroes to the End"
   ]
  },
  {
   "cell_type": "code",
   "execution_count": null,
   "metadata": {},
   "outputs": [],
   "source": []
  }
 ],
 "metadata": {
  "kernelspec": {
   "display_name": "base",
   "language": "python",
   "name": "python3"
  },
  "language_info": {
   "codemirror_mode": {
    "name": "ipython",
    "version": 3
   },
   "file_extension": ".py",
   "mimetype": "text/x-python",
   "name": "python",
   "nbconvert_exporter": "python",
   "pygments_lexer": "ipython3",
   "version": "3.9.13"
  }
 },
 "nbformat": 4,
 "nbformat_minor": 2
}
