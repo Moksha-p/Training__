{
 "cells": [
  {
   "cell_type": "markdown",
   "metadata": {},
   "source": [
    "# Arrays"
   ]
  },
  {
   "cell_type": "markdown",
   "metadata": {},
   "source": [
    "### 1 . Find the Second Largest Element in an Array"
   ]
  },
  {
   "cell_type": "code",
   "execution_count": 1,
   "metadata": {},
   "outputs": [
    {
     "name": "stdout",
     "output_type": "stream",
     "text": [
      "Second Largest element in the given list is: 3\n"
     ]
    }
   ],
   "source": [
    "def second_largest(list):\n",
    "    \n",
    "    first = list[0]\n",
    "    second = list[1]\n",
    "    n = len(list)\n",
    "    \n",
    "    if n <= 2:\n",
    "        return max(list[0], list[1])\n",
    "    \n",
    "    for idx in range(1, n):\n",
    "        if list[idx] >  first:\n",
    "            second = first\n",
    "            first  = list[idx]\n",
    "    \n",
    "    \n",
    "    return second \n",
    "\n",
    "print(f'Second Largest element in the given list is: {second_largest([1, 3, 4, 2])}')"
   ]
  },
  {
   "cell_type": "markdown",
   "metadata": {},
   "source": [
    "### 2 . Move All Zeroes to the End"
   ]
  },
  {
   "cell_type": "code",
   "execution_count": 6,
   "metadata": {},
   "outputs": [
    {
     "name": "stdout",
     "output_type": "stream",
     "text": [
      "[12, 1, 0, 3, 0]\n",
      "[12, 1, 3, 0, 0]\n",
      "List with all zeros moves to left: [12, 1, 3, 0, 0]\n"
     ]
    }
   ],
   "source": [
    "def moveZerosToEnd(list : List[int]) -> list:\n",
    "    \n",
    "    n = len(list)\n",
    "    \n",
    "    if n <=1:\n",
    "        return list\n",
    "    \n",
    "    high, low = n - 1, 0\n",
    "    while high > low:\n",
    "        \n",
    "        if list[high] == 0:\n",
    "            high -= 1\n",
    "        elif list[low] == 0:\n",
    "            list[low],list[high] = list[high], list[low]\n",
    "            print(list)\n",
    "            low += 1\n",
    "            high -= 1\n",
    "        else:\n",
    "            low += 1\n",
    "    \n",
    "    return list\n",
    "\n",
    "print(f'List with all zeros moves to left: {moveZerosToEnd([0, 1, 0, 3, 12])}')\n",
    "    \n",
    "    "
   ]
  },
  {
   "cell_type": "markdown",
   "metadata": {},
   "source": [
    "### 3 . Find the Union and Intersection of Two Arrays"
   ]
  },
  {
   "cell_type": "code",
   "execution_count": 7,
   "metadata": {},
   "outputs": [
    {
     "name": "stdout",
     "output_type": "stream",
     "text": [
      "Union = [1, 2, 3, 4] , Intersection = [2, 3] \n"
     ]
    }
   ],
   "source": [
    "def findUnionAndIntersection(list1: list[int], list2: list[int]) -> None:\n",
    "   set1 = set(list1)\n",
    "   set2 =  set(list2)\n",
    "   \n",
    "   union = list(set1.union(set2))\n",
    "   intersection =  list(set1.intersection(set2))\n",
    "   \n",
    "   print(f\"Union = {union} , Intersection = {intersection} \")\n",
    "   \n",
    "   \n",
    "\n",
    "arr1 = [1, 2, 3]\n",
    "arr2 = [2, 3, 4]\n",
    "\n",
    "findUnionAndIntersection(arr1,arr2)"
   ]
  },
  {
   "cell_type": "markdown",
   "metadata": {},
   "source": [
    "\n",
    "### 4. Rotate an Array by K Steps"
   ]
  },
  {
   "cell_type": "code",
   "execution_count": 11,
   "metadata": {},
   "outputs": [
    {
     "name": "stdout",
     "output_type": "stream",
     "text": [
      "Roated array is:  [4, 5, 1, 2, 3]\n"
     ]
    }
   ],
   "source": [
    "\n",
    "def rotate(nums: list[int], k: int) -> None:\n",
    "    k = k % len(nums)\n",
    "    if k != 0:\n",
    "        nums[:k], nums[k:] = nums[-k:], nums[:-k]\n",
    "\n",
    "array = [1, 2, 3, 4, 5]\n",
    "rotate(array, k = 2)\n",
    "print(\"Roated array is: \", array)"
   ]
  },
  {
   "cell_type": "markdown",
   "metadata": {},
   "source": [
    "### 5. Merge Intervals"
   ]
  },
  {
   "cell_type": "code",
   "execution_count": 16,
   "metadata": {},
   "outputs": [
    {
     "name": "stdout",
     "output_type": "stream",
     "text": [
      "The Merged interval is as follows:[[1, 6], [8, 10], [15, 18]]\n"
     ]
    }
   ],
   "source": [
    "def merge(intervals: list[list[int]]) -> list[list[list[int]]]:\n",
    "    intervals = sorted(intervals, key=lambda x: x [0])\n",
    "\n",
    "    ans = []\n",
    "\n",
    "    for interval in intervals:\n",
    "        if not ans or ans[-1][1] < interval[0]:\n",
    "            ans.append(interval)\n",
    "        else:\n",
    "            ans[-1][1] = max(ans[-1][1], interval[1])\n",
    "    \n",
    "    return ans\n",
    "\n",
    "print(f\"The Merged interval is as follows:{merge([[1, 3], [2, 6], [8, 10], [15, 18]] )}\")"
   ]
  }
 ],
 "metadata": {
  "kernelspec": {
   "display_name": "base",
   "language": "python",
   "name": "python3"
  },
  "language_info": {
   "codemirror_mode": {
    "name": "ipython",
    "version": 3
   },
   "file_extension": ".py",
   "mimetype": "text/x-python",
   "name": "python",
   "nbconvert_exporter": "python",
   "pygments_lexer": "ipython3",
   "version": "3.9.13"
  }
 },
 "nbformat": 4,
 "nbformat_minor": 2
}
