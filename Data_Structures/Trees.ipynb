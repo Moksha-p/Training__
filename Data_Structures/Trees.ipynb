{
 "cells": [
  {
   "cell_type": "markdown",
   "metadata": {},
   "source": [
    "# Trees"
   ]
  },
  {
   "cell_type": "markdown",
   "metadata": {},
   "source": [
    "### Binary Tree Inorder Traversal:-\n",
    "#### Write a function to perform an inorder traversal of a binary tree and return the list of values.\n"
   ]
  },
  {
   "cell_type": "code",
   "execution_count": 1,
   "metadata": {},
   "outputs": [
    {
     "name": "stdout",
     "output_type": "stream",
     "text": [
      "[1, 3, 2]\n"
     ]
    }
   ],
   "source": [
    "class TreeNode:\n",
    "    def __init__(self, val=0, left=None, right=None):\n",
    "        self.val = val\n",
    "        self.left = left\n",
    "        self.right = right\n",
    "\n",
    "def inorderTraversal(root: TreeNode) -> list[int]:\n",
    "    result = []\n",
    "\n",
    "    def traverse(node):\n",
    "        if not node:\n",
    "            return\n",
    "        traverse(node.left)   \n",
    "        result.append(node.val) \n",
    "        traverse(node.right)  \n",
    "\n",
    "    traverse(root)\n",
    "    return result\n",
    "\n",
    "\n",
    "root = TreeNode(1, None, TreeNode(2, TreeNode(3), None))\n",
    "print(inorderTraversal(root))  \n"
   ]
  },
  {
   "cell_type": "markdown",
   "metadata": {},
   "source": [
    "### 2. Maximum Depth of a Binary Tree\n",
    "\n",
    "#### Write a function to find the maximum depth of a binary tree.\n"
   ]
  },
  {
   "cell_type": "code",
   "execution_count": 2,
   "metadata": {},
   "outputs": [
    {
     "name": "stdout",
     "output_type": "stream",
     "text": [
      "3\n"
     ]
    }
   ],
   "source": [
    "def maxDepth(root: TreeNode) -> int:\n",
    "    if not root:\n",
    "        return 0\n",
    "    left_depth = maxDepth(root.left)\n",
    "    right_depth = maxDepth(root.right)\n",
    "    return 1 + max(left_depth, right_depth)\n",
    "\n",
    "\n",
    "root = TreeNode(3, TreeNode(9), TreeNode(20, TreeNode(15), TreeNode(7)))\n",
    "print(maxDepth(root))  \n"
   ]
  },
  {
   "cell_type": "markdown",
   "metadata": {},
   "source": [
    "### 3 .Check if Two Trees are Identical\n",
    "\n",
    "#### Write a function to check if two binary trees are identical. Two binary trees are identical if they have the same structure and node values.\n"
   ]
  },
  {
   "cell_type": "code",
   "execution_count": 3,
   "metadata": {},
   "outputs": [
    {
     "name": "stdout",
     "output_type": "stream",
     "text": [
      "True\n"
     ]
    }
   ],
   "source": [
    "def isIdentical(tree1: TreeNode, tree2: TreeNode) -> bool:\n",
    "    if not tree1 and not tree2:\n",
    "        return True\n",
    "    if not tree1 or not tree2:\n",
    "        return False\n",
    "    if tree1.val != tree2.val:\n",
    "        return False\n",
    "    return isIdentical(tree1.left, tree2.left) and isIdentical(tree1.right, tree2.right)\n",
    "\n",
    "\n",
    "tree1 = TreeNode(1, TreeNode(2), TreeNode(3))\n",
    "tree2 = TreeNode(1, TreeNode(2), TreeNode(3))\n",
    "print(isIdentical(tree1, tree2))  \n"
   ]
  },
  {
   "cell_type": "markdown",
   "metadata": {},
   "source": [
    "### 4. Level Order Traversal\n",
    "#### Write a function to perform a level-order (breadth-first) traversal of a binary tree."
   ]
  },
  {
   "cell_type": "code",
   "execution_count": 4,
   "metadata": {},
   "outputs": [
    {
     "name": "stdout",
     "output_type": "stream",
     "text": [
      "[[1], [2, 3], [4, 5]]\n"
     ]
    }
   ],
   "source": [
    "from collections import deque\n",
    "\n",
    "class TreeNode:\n",
    "    def __init__(self, val=0, left=None, right=None):\n",
    "        self.val = val\n",
    "        self.left = left\n",
    "        self.right = right\n",
    "\n",
    "def levelOrderTraversal(root: TreeNode) -> list[list[int]]:\n",
    "    if not root:\n",
    "        return []\n",
    "    \n",
    "    result = []  \n",
    "    queue = deque([root])  \n",
    "    \n",
    "    while queue:\n",
    "        level = []  \n",
    "        for _ in range(len(queue)):  \n",
    "            node = queue.popleft()\n",
    "            level.append(node.val)\n",
    "            if node.left:\n",
    "                queue.append(node.left)\n",
    "            if node.right:\n",
    "                queue.append(node.right)\n",
    "        result.append(level)  \n",
    "    \n",
    "    return result\n",
    "\n",
    "\n",
    "root = TreeNode(1, TreeNode(2, TreeNode(4), TreeNode(5)), TreeNode(3))\n",
    "print(levelOrderTraversal(root))  \n"
   ]
  },
  {
   "cell_type": "markdown",
   "metadata": {},
   "source": [
    "### 5 .Diameter of a Binary Tree\n",
    "#### Write a function to find the diameter (longest path between two nodes) of a binary tree."
   ]
  },
  {
   "cell_type": "code",
   "execution_count": 6,
   "metadata": {},
   "outputs": [
    {
     "name": "stdout",
     "output_type": "stream",
     "text": [
      "3\n"
     ]
    }
   ],
   "source": [
    "def diameterOfBinaryTree(root: TreeNode) -> int:\n",
    "    diameter = 0  \n",
    "\n",
    "    def height(node):\n",
    "        nonlocal diameter\n",
    "        if not node:\n",
    "            return 0\n",
    "        \n",
    "        left_height = height(node.left)\n",
    "        right_height = height(node.right)\n",
    "\n",
    "        diameter = max(diameter, left_height + right_height)\n",
    "        return 1 + max(left_height, right_height)\n",
    "\n",
    "    height(root) \n",
    "    return diameter\n",
    "\n",
    "# Example:\n",
    "root = TreeNode(1, TreeNode(2, TreeNode(4), TreeNode(5)), TreeNode(3))\n",
    "print(diameterOfBinaryTree(root))  "
   ]
  }
 ],
 "metadata": {
  "kernelspec": {
   "display_name": "base",
   "language": "python",
   "name": "python3"
  },
  "language_info": {
   "codemirror_mode": {
    "name": "ipython",
    "version": 3
   },
   "file_extension": ".py",
   "mimetype": "text/x-python",
   "name": "python",
   "nbconvert_exporter": "python",
   "pygments_lexer": "ipython3",
   "version": "3.9.13"
  }
 },
 "nbformat": 4,
 "nbformat_minor": 2
}
