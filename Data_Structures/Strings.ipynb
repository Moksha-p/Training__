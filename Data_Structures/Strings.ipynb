{
 "cells": [
  {
   "cell_type": "markdown",
   "metadata": {},
   "source": [
    "# Strings"
   ]
  },
  {
   "cell_type": "markdown",
   "metadata": {},
   "source": [
    "### 1 . Find the Frequency of Each Character"
   ]
  },
  {
   "cell_type": "code",
   "execution_count": 1,
   "metadata": {},
   "outputs": [
    {
     "name": "stdout",
     "output_type": "stream",
     "text": [
      "{'a': 1, 'p': 2, 'l': 1, 'e': 1}\n"
     ]
    }
   ],
   "source": [
    "def frequency(word: str):\n",
    "\n",
    "    count = {}\n",
    "    \n",
    "    for letter in word:\n",
    "       count[letter] =  count.get(letter, 0) + 1\n",
    "       \n",
    "    return count\n",
    "\n",
    "print(frequency(\"apple\"))"
   ]
  },
  {
   "cell_type": "markdown",
   "metadata": {},
   "source": [
    "### 2. Remove Duplicates from a String"
   ]
  },
  {
   "cell_type": "code",
   "execution_count": 5,
   "metadata": {},
   "outputs": [
    {
     "name": "stdout",
     "output_type": "stream",
     "text": [
      "{'a', 'g', 'i', 'p', 'm', 'r', 'n', 'o'}\n",
      "Strings without duplicates : progamin\n"
     ]
    }
   ],
   "source": [
    "def removeDuplicates(word: str):\n",
    "    \n",
    "    dupli = set()\n",
    "    \n",
    "    result = \"\"\n",
    "    \n",
    "    for letter in word:\n",
    "        if letter not in dupli:\n",
    "            result = result + letter\n",
    "            dupli.add(letter)\n",
    "       \n",
    "  \n",
    "    return result\n",
    "            \n",
    "print(f'Strings without duplicates : {removeDuplicates(\"programming\")}')"
   ]
  },
  {
   "cell_type": "markdown",
   "metadata": {},
   "source": [
    "### 3. Find the First Non-Repeating Character"
   ]
  },
  {
   "cell_type": "code",
   "execution_count": 13,
   "metadata": {},
   "outputs": [
    {
     "name": "stdout",
     "output_type": "stream",
     "text": [
      "First Non-repeating character in the given string is: w\n"
     ]
    }
   ],
   "source": [
    "def firstNonRepeating(word: str) -> str:\n",
    "    n =  len(word)\n",
    "    \n",
    "    \n",
    "    # for idx in range(n):\n",
    "    #     repeating = False\n",
    "    #     for sidx in range(n):\n",
    "    #         if word[idx] == word[sidx] and idx != sidx:\n",
    "    #             repeating = True\n",
    "                \n",
    "    #             break\n",
    "    #     if not repeating:\n",
    "    #         return word[idx]\n",
    "    \n",
    "    counts = [0] * 256\n",
    "\n",
    "    for letter in word:\n",
    "        counts[ord(letter)] += 1\n",
    "\n",
    "    \n",
    "    for letter in word:\n",
    "        if counts[ord(letter)] == 1:\n",
    "            return letter       \n",
    "\n",
    "print(f'First Non-repeating character in the given string is: {firstNonRepeating(\"swiss\")}')\n",
    "        \n",
    "    "
   ]
  },
  {
   "cell_type": "markdown",
   "metadata": {},
   "source": [
    "### 4 . Check if a String is a Rotation of Another"
   ]
  },
  {
   "cell_type": "code",
   "execution_count": 15,
   "metadata": {},
   "outputs": [
    {
     "name": "stdout",
     "output_type": "stream",
     "text": [
      "Result of given strings being a rotation of each other is: True\n"
     ]
    }
   ],
   "source": [
    "def checkRotation(word: str, word2: str) -> bool:\n",
    "    if len(word)!= len(word2):\n",
    "        return False\n",
    "    \n",
    "    count1, count2 = {}, {}\n",
    "    \n",
    "    for idx in range(len(word)):\n",
    "        count1[word[idx]] = count1.get(word[idx], 0) + 1\n",
    "        count2[word2[idx]] = count2.get(word2[idx], 0) + 1\n",
    "    \n",
    "    for idx in range(len(word)):\n",
    "        if word[idx] not in count2 or count1[word[idx]] != count2[word[idx]]:\n",
    "            return False\n",
    "    \n",
    "    return True\n",
    "\n",
    "print(f'Result of given strings being a rotation of each other is: {checkRotation(\"abcde\", \"cdeab\")}')"
   ]
  },
  {
   "cell_type": "markdown",
   "metadata": {},
   "source": [
    "### 5.Compress a String Using the Counts of Repeated Characters"
   ]
  },
  {
   "cell_type": "code",
   "execution_count": 18,
   "metadata": {},
   "outputs": [
    {
     "name": "stdout",
     "output_type": "stream",
     "text": [
      "Result of Compressed string is : a3b2c1\n"
     ]
    }
   ],
   "source": [
    "def compressString(word: str) -> str:\n",
    "    \n",
    "    if not word:\n",
    "        return \"\"\n",
    "    \n",
    "    compressed = []\n",
    "    count = 1  # Start with the first character\n",
    "    \n",
    "    for i in range(1, len(word)):\n",
    "        if word[i] == word[i - 1]:\n",
    "            count += 1\n",
    "        else:\n",
    "            compressed.append(word[i - 1] + str(count))  # Append character and count\n",
    "            count = 1  # Reset count for the new character\n",
    "    \n",
    "    # Append the last character and its count\n",
    "    compressed.append(word[-1] + str(count))\n",
    "    \n",
    "    return \"\".join(compressed)\n",
    "\n",
    "print(f'Result of Compressed string is : {compressString(\"aaabbc\")}')"
   ]
  }
 ],
 "metadata": {
  "kernelspec": {
   "display_name": "base",
   "language": "python",
   "name": "python3"
  },
  "language_info": {
   "codemirror_mode": {
    "name": "ipython",
    "version": 3
   },
   "file_extension": ".py",
   "mimetype": "text/x-python",
   "name": "python",
   "nbconvert_exporter": "python",
   "pygments_lexer": "ipython3",
   "version": "3.9.13"
  }
 },
 "nbformat": 4,
 "nbformat_minor": 2
}
