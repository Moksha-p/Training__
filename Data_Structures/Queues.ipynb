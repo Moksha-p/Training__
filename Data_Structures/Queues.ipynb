{
 "cells": [
  {
   "cell_type": "markdown",
   "metadata": {},
   "source": [
    "# Queues"
   ]
  },
  {
   "cell_type": "markdown",
   "metadata": {},
   "source": [
    "### 1.Implement a Queue Using Lists"
   ]
  },
  {
   "cell_type": "code",
   "execution_count": 2,
   "metadata": {},
   "outputs": [
    {
     "name": "stdout",
     "output_type": "stream",
     "text": [
      "[1, 2, 3]\n",
      "1\n",
      "[2, 3]\n"
     ]
    }
   ],
   "source": [
    "class Queue:\n",
    "    def __init__(self):\n",
    "        self.queue = []\n",
    "\n",
    "    def enqueue(self, item):\n",
    "        self.queue.append(item) \n",
    "\n",
    "    def dequeue(self):\n",
    "        if not self.is_empty():\n",
    "            return self.queue.pop(0)  \n",
    "        return \"Queue is empty!\"\n",
    "\n",
    "    def display(self):\n",
    "        return self.queue\n",
    "\n",
    "    def is_empty(self):\n",
    "        return len(self.queue) == 0\n",
    "\n",
    "# Example Usage\n",
    "q = Queue()\n",
    "q.enqueue(1)\n",
    "q.enqueue(2)\n",
    "q.enqueue(3)\n",
    "print(q.display())  \n",
    "print(q.dequeue())  \n",
    "print(q.display()) "
   ]
  },
  {
   "cell_type": "markdown",
   "metadata": {},
   "source": [
    "### 2 . Check for a Palindrome Using a Queue"
   ]
  },
  {
   "cell_type": "code",
   "execution_count": 3,
   "metadata": {},
   "outputs": [
    {
     "name": "stdout",
     "output_type": "stream",
     "text": [
      "True\n"
     ]
    }
   ],
   "source": [
    "def is_palindrome(s: str) -> bool:\n",
    "    queue = list(s)  \n",
    "    while len(queue) > 1:\n",
    "        if queue.pop(0) != queue.pop(): \n",
    "            return False\n",
    "    return True\n",
    "\n",
    "\n",
    "print(is_palindrome(\"radar\"))  \n",
    "\n"
   ]
  },
  {
   "cell_type": "markdown",
   "metadata": {},
   "source": [
    "### 3 . Implement a Circular Queue"
   ]
  },
  {
   "cell_type": "code",
   "execution_count": 4,
   "metadata": {},
   "outputs": [
    {
     "name": "stdout",
     "output_type": "stream",
     "text": [
      "[1, 2, 3]\n",
      "[2, 3]\n"
     ]
    }
   ],
   "source": [
    "class CircularQueue:\n",
    "    def __init__(self, size):\n",
    "        self.size = size\n",
    "        self.queue = [None] * size\n",
    "        self.front = self.rear = -1\n",
    "\n",
    "    def enqueue(self, item):\n",
    "        if (self.rear + 1) % self.size == self.front:  \n",
    "            return \"Queue is full!\"\n",
    "        elif self.front == -1: \n",
    "            self.front = self.rear = 0\n",
    "        else:\n",
    "            self.rear = (self.rear + 1) % self.size\n",
    "        self.queue[self.rear] = item\n",
    "\n",
    "    def dequeue(self):\n",
    "        if self.front == -1:  \n",
    "            return \"Queue is empty!\"\n",
    "        elif self.front == self.rear:  \n",
    "            item = self.queue[self.front]\n",
    "            self.front = self.rear = -1\n",
    "        else:\n",
    "            item = self.queue[self.front]\n",
    "            self.front = (self.front + 1) % self.size\n",
    "        return item\n",
    "\n",
    "    def display(self):\n",
    "        if self.front == -1:  \n",
    "            return []\n",
    "        elif self.rear >= self.front:\n",
    "            return self.queue[self.front:self.rear + 1]\n",
    "        else:\n",
    "            return self.queue[self.front:] + self.queue[:self.rear + 1]\n",
    "\n",
    "\n",
    "cq = CircularQueue(5)\n",
    "cq.enqueue(1)\n",
    "cq.enqueue(2)\n",
    "cq.enqueue(3)\n",
    "print(cq.display())  \n",
    "cq.dequeue()\n",
    "print(cq.display())  \n"
   ]
  },
  {
   "cell_type": "markdown",
   "metadata": {},
   "source": [
    "### 4 . Sort a Queue"
   ]
  },
  {
   "cell_type": "code",
   "execution_count": 6,
   "metadata": {},
   "outputs": [
    {
     "name": "stdout",
     "output_type": "stream",
     "text": [
      "[1, 2, 3, 4]\n"
     ]
    }
   ],
   "source": [
    "def sort_queue(queue):\n",
    "    n = len(queue)\n",
    "    for i in range(n):\n",
    "        for j in range(0, n - i - 1):\n",
    "            if queue[j] > queue[j + 1]:\n",
    "                queue[j], queue[j + 1] = queue[j + 1], queue[j]\n",
    "    return queue\n",
    "\n",
    "\n",
    "q = [3, 1, 4, 2]\n",
    "sorted_q = sort_queue(q)\n",
    "print(sorted_q) \n"
   ]
  },
  {
   "cell_type": "markdown",
   "metadata": {},
   "source": [
    "### 5 .Implement an LRU Cache"
   ]
  },
  {
   "cell_type": "code",
   "execution_count": 7,
   "metadata": {},
   "outputs": [
    {
     "name": "stdout",
     "output_type": "stream",
     "text": [
      "[(1, 'A'), (2, 'B'), (3, 'C')]\n",
      "[(3, 'C'), (1, 'A'), (4, 'D')]\n"
     ]
    }
   ],
   "source": [
    "class LRUCache:\n",
    "    def __init__(self, capacity):\n",
    "        self.capacity = capacity\n",
    "        self.cache = {}\n",
    "        self.order = []\n",
    "\n",
    "    def get(self, key):\n",
    "        if key in self.cache:\n",
    "            \n",
    "            self.order.remove(key)\n",
    "            self.order.append(key)\n",
    "            return self.cache[key]\n",
    "        return -1\n",
    "\n",
    "    def put(self, key, value):\n",
    "        if key in self.cache:\n",
    "            \n",
    "            self.order.remove(key)\n",
    "        elif len(self.cache) >= self.capacity:\n",
    "           \n",
    "            lru = self.order.pop(0)\n",
    "            del self.cache[lru]\n",
    "        \n",
    "        self.cache[key] = value\n",
    "        self.order.append(key)\n",
    "\n",
    "    def display(self):\n",
    "        return [(key, self.cache[key]) for key in self.order]\n",
    "\n",
    "\n",
    "lru = LRUCache(3)\n",
    "lru.put(1, \"A\")\n",
    "lru.put(2, \"B\")\n",
    "lru.put(3, \"C\")\n",
    "print(lru.display())  \n",
    "lru.get(1)\n",
    "lru.put(4, \"D\")\n",
    "print(lru.display())  \n"
   ]
  }
 ],
 "metadata": {
  "kernelspec": {
   "display_name": "base",
   "language": "python",
   "name": "python3"
  },
  "language_info": {
   "codemirror_mode": {
    "name": "ipython",
    "version": 3
   },
   "file_extension": ".py",
   "mimetype": "text/x-python",
   "name": "python",
   "nbconvert_exporter": "python",
   "pygments_lexer": "ipython3",
   "version": "3.9.13"
  }
 },
 "nbformat": 4,
 "nbformat_minor": 2
}
