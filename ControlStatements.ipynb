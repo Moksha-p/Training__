{
 "cells": [
  {
   "cell_type": "markdown",
   "metadata": {},
   "source": [
    "1.Write a Python program to classify a given year as a leap year or a non-leap year.\n"
   ]
  },
  {
   "cell_type": "code",
   "execution_count": 1,
   "metadata": {},
   "outputs": [
    {
     "name": "stdout",
     "output_type": "stream",
     "text": [
      "Leap Year\n"
     ]
    }
   ],
   "source": [
    "year=2020\n",
    "if year%2==0:\n",
    "    print(\"Leap Year\")\n",
    "else:\n",
    "    print(\"Non Lear year\")"
   ]
  },
  {
   "cell_type": "markdown",
   "metadata": {},
   "source": [
    "2.Write a Python program to solve a quadratic equation (ax^2 + bx + c = 0) and classify the\n",
    "roots as real, complex, or equal"
   ]
  },
  {
   "cell_type": "code",
   "execution_count": 1,
   "metadata": {},
   "outputs": [
    {
     "name": "stdout",
     "output_type": "stream",
     "text": [
      "Roots are real and different: 2.0, 1.0\n"
     ]
    }
   ],
   "source": [
    "import math\n",
    "\n",
    "def solve_quadratic(a, b, c):\n",
    "    d = b**2 - 4*a*c\n",
    "    if d > 0:\n",
    "        root1 = (-b + math.sqrt(d)) / (2*a)\n",
    "        root2 = (-b - math.sqrt(d)) / (2*a)\n",
    "        return f\"Roots are real and different: {root1}, {root2}\"\n",
    "    \n",
    "    elif d == 0:\n",
    "        root = -b / (2*a)\n",
    "        return f\"Roots are real and equal: {root}\"\n",
    "    \n",
    "    else:\n",
    "        real_part = -b / (2*a)\n",
    "        imaginary_part = math.sqrt(-d) / (2*a)\n",
    "        return f\"Roots are complex: {real_part} + {imaginary_part}i, {real_part} - {imaginary_part}i\"\n",
    "\n",
    "a = 1\n",
    "b = -3\n",
    "c = 2\n",
    "print(solve_quadratic(a, b, c))"
   ]
  },
  {
   "cell_type": "markdown",
   "metadata": {},
   "source": [
    "3.Write a Python function to generate the Fibonacci series up to a given number of terms.\n"
   ]
  },
  {
   "cell_type": "code",
   "execution_count": 9,
   "metadata": {},
   "outputs": [
    {
     "name": "stdout",
     "output_type": "stream",
     "text": [
      "[0, 1, 1, 2, 3]\n"
     ]
    }
   ],
   "source": [
    "def fibonac(n):\n",
    "    if n <= 0:\n",
    "        return []\n",
    "    elif n == 1:\n",
    "        return [0]\n",
    "    elif n == 2:\n",
    "        return [0, 1]\n",
    "\n",
    "    fib = [0, 1]\n",
    "    for i in range(2, n):\n",
    "        fib.append(fib[-1] + fib[-2])\n",
    "\n",
    "    return fib\n",
    "\n",
    "\n",
    "n=5\n",
    "print(fibonac(n))"
   ]
  },
  {
   "cell_type": "markdown",
   "metadata": {},
   "source": [
    "4.Write a Python program to find the longest increasing subsequence in a given list of\n",
    "numbers.\n"
   ]
  },
  {
   "cell_type": "code",
   "execution_count": 11,
   "metadata": {},
   "outputs": [
    {
     "name": "stdout",
     "output_type": "stream",
     "text": [
      "[10, 22, 33, 50, 60, 80]\n"
     ]
    }
   ],
   "source": [
    "def longest(nums):\n",
    "    if not nums:\n",
    "        return []\n",
    "\n",
    "    dp = [[num] for num in nums]\n",
    "\n",
    "    for i in range(len(nums)):\n",
    "        for j in range(i):\n",
    "            if nums[i] > nums[j] and len(dp[i]) < len(dp[j]) + 1:\n",
    "                dp[i] = dp[j] + [nums[i]]\n",
    "\n",
    "    return max(dp, key=len)\n",
    "\n",
    "print(longest([10, 22, 9, 33, 21, 50, 41, 60, 80]))"
   ]
  },
  {
   "cell_type": "markdown",
   "metadata": {},
   "source": [
    "5.Write a Python program to find the greatest common divisor (GCD) of two numbers\n",
    "using the Euclidean algorithm"
   ]
  },
  {
   "cell_type": "code",
   "execution_count": 12,
   "metadata": {},
   "outputs": [
    {
     "name": "stdout",
     "output_type": "stream",
     "text": [
      "6\n"
     ]
    }
   ],
   "source": [
    "def gcd(num1, num2):\n",
    "    while num2 != 0:\n",
    "        num1, num2 = num2, num1 % num2\n",
    "    return num1\n",
    "\n",
    "num1 = 48\n",
    "num2 = 18\n",
    "print(gcd(num1, num2))"
   ]
  },
  {
   "cell_type": "markdown",
   "metadata": {},
   "source": [
    "6.Write a Python program to implement a basic version of the Collatz conjecture"
   ]
  },
  {
   "cell_type": "code",
   "execution_count": 13,
   "metadata": {},
   "outputs": [
    {
     "name": "stdout",
     "output_type": "stream",
     "text": [
      "[13, 40, 20, 10, 5, 16, 8, 4, 2, 1]\n"
     ]
    }
   ],
   "source": [
    "def cc(n):\n",
    "    s = [n]\n",
    "    while n != 1:\n",
    "        if n % 2 == 0:\n",
    "            n = n // 2\n",
    "        else:\n",
    "            n = 3 * n + 1\n",
    "        s.append(n)\n",
    "    return s\n",
    "\n",
    "number = 13\n",
    "print(cc(number))"
   ]
  }
 ],
 "metadata": {
  "kernelspec": {
   "display_name": "Python 3",
   "language": "python",
   "name": "python3"
  },
  "language_info": {
   "codemirror_mode": {
    "name": "ipython",
    "version": 3
   },
   "file_extension": ".py",
   "mimetype": "text/x-python",
   "name": "python",
   "nbconvert_exporter": "python",
   "pygments_lexer": "ipython3",
   "version": "3.13.1"
  }
 },
 "nbformat": 4,
 "nbformat_minor": 2
}
