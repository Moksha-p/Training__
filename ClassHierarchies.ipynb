{
 "cells": [
  {
   "cell_type": "markdown",
   "metadata": {},
   "source": [
    "Question-1) Create a base class Shape with methods to calculate area and perimeter, and\n",
    " derive classes Circle and Square."
   ]
  },
  {
   "cell_type": "code",
   "execution_count": 1,
   "metadata": {},
   "outputs": [
    {
     "name": "stdout",
     "output_type": "stream",
     "text": [
      "Circle Area: 78.53981633974483\n",
      "Circle Perimeter: 31.41592653589793\n",
      "Square Area: 16\n",
      "Square Perimeter: 16\n"
     ]
    }
   ],
   "source": [
    "import math\n",
    "\n",
    "class Shape:\n",
    "    def area(self):\n",
    "        pass\n",
    "\n",
    "    def perimeter(self):\n",
    "        pass\n",
    "\n",
    "# Derived class Circle\n",
    "class Circle(Shape):\n",
    "    def __init__(self, radius):\n",
    "        self.radius = radius\n",
    "\n",
    "    def area(self):\n",
    "        return math.pi * self.radius ** 2\n",
    "\n",
    "    def perimeter(self):\n",
    "        return 2 * math.pi * self.radius\n",
    "\n",
    "# Derived class Square\n",
    "class Square(Shape):\n",
    "    def __init__(self, side):\n",
    "        self.side = side\n",
    "\n",
    "    def area(self):\n",
    "        return self.side ** 2\n",
    "\n",
    "    def perimeter(self):\n",
    "        return 4 * self.side\n",
    "\n",
    "# Example usage\n",
    "circle = Circle(5)\n",
    "print(f\"Circle Area: {circle.area()}\")  # Area of circle\n",
    "print(f\"Circle Perimeter: {circle.perimeter()}\")  # Perimeter of circle\n",
    "\n",
    "square = Square(4)\n",
    "print(f\"Square Area: {square.area()}\")  # Area of square\n",
    "print(f\"Square Perimeter: {square.perimeter()}\")  # Perimeter of square\n"
   ]
  },
  {
   "cell_type": "markdown",
   "metadata": {},
   "source": [
    "Question-2) Implement a class hierarchy to represent different types of employees (Manager,\n",
    " Engineer) with their attributes."
   ]
  },
  {
   "cell_type": "code",
   "execution_count": 2,
   "metadata": {},
   "outputs": [
    {
     "name": "stdout",
     "output_type": "stream",
     "text": [
      "Manager: Pavitra Yadav, Department: Engineering\n",
      "Engineer: Pakhi Yadav, Field: Management\n"
     ]
    }
   ],
   "source": [
    "\n",
    "class Employee:\n",
    "    def __init__(self, name):\n",
    "        self.name = name\n",
    "\n",
    "class Manager(Employee):\n",
    "    def __init__(self, name, department):\n",
    "        super().__init__(name)\n",
    "        self.department = department\n",
    "\n",
    "    def __str__(self):\n",
    "        return f\"Manager: {self.name}, Department: {self.department}\"\n",
    "\n",
    "class Engineer(Employee):\n",
    "    def __init__(self, name, field):\n",
    "        super().__init__(name)\n",
    "        self.field = field\n",
    "\n",
    "    def __str__(self):\n",
    "        return f\"Engineer: {self.name}, Field: {self.field}\"\n",
    "\n",
    "# Taking input from user\n",
    "manager_name = input(\"Enter the name of the Manager: \")\n",
    "manager_department = input(\"Enter the department of the Manager: \")\n",
    "\n",
    "engineer_name = input(\"Enter the name of the Engineer: \")\n",
    "engineer_field = input(\"Enter the field of the Engineer: \")\n",
    "\n",
    "# Creating instances with user input\n",
    "manager = Manager(name=manager_name, department=manager_department)\n",
    "engineer = Engineer(name=engineer_name, field=engineer_field)\n",
    "\n",
    "# Output the details\n",
    "print(manager)  # Manager details\n",
    "print(engineer)  # Engineer details\n"
   ]
  },
  {
   "cell_type": "markdown",
   "metadata": {},
   "source": [
    "Question-3) Write a Python program that uses inheritance to represent a hierarchy of shapes\n",
    " (Triangle, Rectangle, etc.)."
   ]
  },
  {
   "cell_type": "code",
   "execution_count": 7,
   "metadata": {},
   "outputs": [
    {
     "name": "stdout",
     "output_type": "stream",
     "text": [
      "Triangle area: 10.0\n",
      "Rectangle area: 36.0\n"
     ]
    }
   ],
   "source": [
    "# Base class Shape\n",
    "class Shape:\n",
    "    def area(self):\n",
    "        pass\n",
    "\n",
    "# Derived class Triangle\n",
    "class Triangle(Shape):\n",
    "    def __init__(self, base, height):\n",
    "        self.base = base\n",
    "        self.height = height\n",
    "\n",
    "    def area(self):\n",
    "        return 0.5 * self.base * self.height\n",
    "\n",
    "# Derived class Rectangle\n",
    "class Rectangle(Shape):\n",
    "    def __init__(self, length, width):\n",
    "        self.length = length\n",
    "        self.width = width\n",
    "\n",
    "    def area(self):\n",
    "        return self.length * self.width\n",
    "\n",
    "# Taking input from the user\n",
    "base = float(input(\"Enter the base of the triangle: \"))\n",
    "height = float(input(\"Enter the height of the triangle: \"))\n",
    "length = float(input(\"Enter the length of the rectangle: \"))\n",
    "width = float(input(\"Enter the width of the rectangle: \"))\n",
    "\n",
    "# Creating instances\n",
    "triangle = Triangle(base, height)\n",
    "rectangle = Rectangle(length, width)\n",
    "\n",
    "# Output\n",
    "print(f\"Triangle area: {triangle.area()}\")\n",
    "print(f\"Rectangle area: {rectangle.area()}\")\n"
   ]
  },
  {
   "cell_type": "markdown",
   "metadata": {},
   "source": [
    "Question-4) Create a class hierarchy to represent different types of animals (Bird, Fish) with\n",
    " their own attributes and methods."
   ]
  },
  {
   "cell_type": "code",
   "execution_count": 8,
   "metadata": {},
   "outputs": [
    {
     "name": "stdout",
     "output_type": "stream",
     "text": [
      "Bird: sparrow, Can Fly: False\n",
      "Fish: startfish, Can Swim: False\n"
     ]
    }
   ],
   "source": [
    "# Base class Animal\n",
    "class Animal:\n",
    "    def __init__(self, name):\n",
    "        self.name = name\n",
    "\n",
    "# Derived class Bird\n",
    "class Bird(Animal):\n",
    "    def __init__(self, name, can_fly):\n",
    "        super().__init__(name)\n",
    "        self.can_fly = can_fly\n",
    "\n",
    "    def __str__(self):\n",
    "        return f\"Bird: {self.name}, Can Fly: {self.can_fly}\"\n",
    "\n",
    "# Derived class Fish\n",
    "class Fish(Animal):\n",
    "    def __init__(self, name, can_swim):\n",
    "        super().__init__(name)\n",
    "        self.can_swim = can_swim\n",
    "\n",
    "    def __str__(self):\n",
    "        return f\"Fish: {self.name}, Can Swim: {self.can_swim}\"\n",
    "\n",
    "# Taking input from the user\n",
    "bird_name = input(\"Enter the name of the bird: \")\n",
    "can_fly = input(\"Can the bird fly? (True/False): \").strip().capitalize() == 'True'\n",
    "\n",
    "fish_name = input(\"Enter the name of the fish: \")\n",
    "can_swim = input(\"Can the fish swim? (True/False): \").strip().capitalize() == 'True'\n",
    "\n",
    "# Creating instances\n",
    "bird = Bird(bird_name, can_fly)\n",
    "fish = Fish(fish_name, can_swim)\n",
    "\n",
    "# Output\n",
    "print(bird)\n",
    "print(fish)\n"
   ]
  },
  {
   "cell_type": "markdown",
   "metadata": {},
   "source": [
    "Question-5)  Given a JSON file with product details (name, price, quantity), create a Product\n",
    " class with encapsulated attributes"
   ]
  },
  {
   "cell_type": "code",
   "execution_count": 9,
   "metadata": {},
   "outputs": [
    {
     "name": "stdout",
     "output_type": "stream",
     "text": [
      "Product(name=table, price=1000.0, quantity=1)\n"
     ]
    }
   ],
   "source": [
    "# Product class\n",
    "class Product:\n",
    "    def __init__(self, name, price, quantity):\n",
    "        self.__name = name\n",
    "        self.__price = price\n",
    "        self.__quantity = quantity\n",
    "\n",
    "    # Getters\n",
    "    def get_name(self):\n",
    "        return self.__name\n",
    "\n",
    "    def get_price(self):\n",
    "        return self.__price\n",
    "\n",
    "    def get_quantity(self):\n",
    "        return self.__quantity\n",
    "\n",
    "    def __str__(self):\n",
    "        return f\"Product(name={self.__name}, price={self.__price}, quantity={self.__quantity})\"\n",
    "\n",
    "# Taking input from the user\n",
    "name = input(\"Enter the product name: \")\n",
    "price = float(input(\"Enter the product price: \"))\n",
    "quantity = int(input(\"Enter the product quantity: \"))\n",
    "\n",
    "# Creating a Product object\n",
    "product = Product(name, price, quantity)\n",
    "\n",
    "# Output\n",
    "print(product)\n"
   ]
  },
  {
   "cell_type": "markdown",
   "metadata": {},
   "source": [
    "Question-6).Implement a program that uses inheritance to represent a hierarchy of vehicles\n",
    " (Car, Bike, Truck, etc.)."
   ]
  },
  {
   "cell_type": "code",
   "execution_count": 10,
   "metadata": {},
   "outputs": [
    {
     "name": "stdout",
     "output_type": "stream",
     "text": [
      "Car: hyundai i20\n",
      "Bike: tata hero\n"
     ]
    }
   ],
   "source": [
    "# Base class Vehicle\n",
    "class Vehicle:\n",
    "    def __init__(self, make, model):\n",
    "        self.make = make\n",
    "        self.model = model\n",
    "\n",
    "    def __str__(self):\n",
    "        return f\"{self.__class__.__name__}: {self.make} {self.model}\"\n",
    "\n",
    "# Derived class Car\n",
    "class Car(Vehicle):\n",
    "    def __init__(self, make, model):\n",
    "        super().__init__(make, model)\n",
    "\n",
    "# Derived class Bike\n",
    "class Bike(Vehicle):\n",
    "    def __init__(self, make, model):\n",
    "        super().__init__(make, model)\n",
    "\n",
    "# Derived class Truck (optional, if needed)\n",
    "class Truck(Vehicle):\n",
    "    def __init__(self, make, model):\n",
    "        super().__init__(make, model)\n",
    "\n",
    "# Input: Get user input for the Car and Bike\n",
    "car_make = input(\"Enter the make of the car: \")\n",
    "car_model = input(\"Enter the model of the car: \")\n",
    "\n",
    "bike_make = input(\"Enter the make of the bike: \")\n",
    "bike_model = input(\"Enter the model of the bike: \")\n",
    "\n",
    "# Create instances\n",
    "car = Car(make=car_make, model=car_model)\n",
    "bike = Bike(make=bike_make, model=bike_model)\n",
    "\n",
    "# Output\n",
    "print(car)  # Car details\n",
    "print(bike)  # Bike details\n"
   ]
  },
  {
   "cell_type": "markdown",
   "metadata": {},
   "source": [
    "Question-7)  Write a Python program that uses encapsulation to protect sensitive information\n",
    " in a User class."
   ]
  },
  {
   "cell_type": "code",
   "execution_count": 11,
   "metadata": {},
   "outputs": [
    {
     "name": "stdout",
     "output_type": "stream",
     "text": [
      "username: \"Pavitra_YADAV\", password: \"******\"\n"
     ]
    }
   ],
   "source": [
    "# User class with encapsulation\n",
    "class User:\n",
    "    def __init__(self, username, password):\n",
    "        self.username = username\n",
    "        self.__password = password  # Private attribute to protect the password\n",
    "\n",
    "    # Getter method for password\n",
    "    def get_password(self):\n",
    "        return \"******\"  # Hides the actual password\n",
    "\n",
    "    # Method to display user details\n",
    "    def display_user(self):\n",
    "        return f'username: \"{self.username}\", password: \"{self.get_password()}\"'\n",
    "\n",
    "# Input: Take user input for username and password\n",
    "username = input(\"Enter the username: \")\n",
    "password = input(\"Enter the password: \")\n",
    "\n",
    "# Create User object\n",
    "user = User(username=username, password=password)\n",
    "\n",
    "# Output: Display user details with protected password\n",
    "print(user.display_user())\n"
   ]
  }
 ],
 "metadata": {
  "kernelspec": {
   "display_name": "Python 3",
   "language": "python",
   "name": "python3"
  },
  "language_info": {
   "codemirror_mode": {
    "name": "ipython",
    "version": 3
   },
   "file_extension": ".py",
   "mimetype": "text/x-python",
   "name": "python",
   "nbconvert_exporter": "python",
   "pygments_lexer": "ipython3",
   "version": "3.13.1"
  }
 },
 "nbformat": 4,
 "nbformat_minor": 2
}
