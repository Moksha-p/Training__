{
 "cells": [
  {
   "cell_type": "markdown",
   "metadata": {},
   "source": [
    "Find the Second Largest Element in an Array\n",
    "Example: Input: [1, 3, 4, 2] → Output: 3\n"
   ]
  },
  {
   "cell_type": "code",
   "execution_count": 1,
   "metadata": {},
   "outputs": [
    {
     "name": "stdout",
     "output_type": "stream",
     "text": [
      "Second Largest Element: 3\n"
     ]
    }
   ],
   "source": [
    "def second_largest(arr):\n",
    "    unique_arr = list(set(arr))\n",
    "    \n",
    "    unique_arr.sort(reverse=True)\n",
    "    \n",
    "    return unique_arr[1] if len(unique_arr) > 1 else None\n",
    "\n",
    "array = [1, 3, 4, 2]\n",
    "result = second_largest(array)\n",
    "print(\"Second Largest Element:\", result)\n"
   ]
  },
  {
   "cell_type": "markdown",
   "metadata": {},
   "source": [
    "Move All Zeroes to the End\n",
    "Example: Input: [0, 1, 0, 3, 12] → Output: [1, 3, 12, 0, 0]\n"
   ]
  },
  {
   "cell_type": "code",
   "execution_count": 4,
   "metadata": {},
   "outputs": [
    {
     "name": "stdout",
     "output_type": "stream",
     "text": [
      "Array after moving zeroes: [1, 3, 12, 0, 0]\n"
     ]
    }
   ],
   "source": [
    "def move_zeroes(nums):\n",
    "    pos = 0\n",
    " \n",
    "    for num in nums:\n",
    "        if num != 0:\n",
    "            \n",
    "            nums[pos] = num\n",
    "            pos += 1\n",
    "\n",
    "    for i in range(pos, len(nums)):\n",
    "        nums[i] = 0\n",
    "\n",
    "    return nums\n",
    "array = [0, 1, 0, 3, 12]\n",
    "result = move_zeroes(array)\n",
    "print(\"Array after moving zeroes:\", result)\n"
   ]
  },
  {
   "cell_type": "markdown",
   "metadata": {},
   "source": [
    " Find the Union and Intersection of Two Arrays\n",
    "Example: Input: arr1 = [1, 2, 3], arr2 = [2, 3, 4]\n",
    "Output: Union: [1, 2, 3, 4], Intersection: [2, 3]\n"
   ]
  },
  {
   "cell_type": "code",
   "execution_count": 5,
   "metadata": {},
   "outputs": [
    {
     "name": "stdout",
     "output_type": "stream",
     "text": [
      "Union: [1, 2, 3, 4]\n",
      "Intersection: [2, 3]\n"
     ]
    }
   ],
   "source": [
    "def union_and_intersection(arr1, arr2):\n",
    "    union = list(set(arr1) | set(arr2))\n",
    "    intersection = list(set(arr1) & set(arr2))\n",
    "    \n",
    "    return union, intersection\n",
    "\n",
    "arr1 = [1, 2, 3]\n",
    "arr2 = [2, 3, 4]\n",
    "\n",
    "union, intersection = union_and_intersection(arr1, arr2)\n",
    "print(\"Union:\", union)\n",
    "print(\"Intersection:\", intersection)\n"
   ]
  },
  {
   "cell_type": "markdown",
   "metadata": {},
   "source": [
    "Rotate an Array by K Steps\n",
    "Example: Input: arr = [1, 2, 3, 4, 5], k = 2 → Output: [4, 5, 1, 2, 3]\n"
   ]
  },
  {
   "cell_type": "code",
   "execution_count": 6,
   "metadata": {},
   "outputs": [
    {
     "name": "stdout",
     "output_type": "stream",
     "text": [
      "Rotated Array: [4, 5, 1, 2, 3]\n"
     ]
    }
   ],
   "source": [
    "def rotate_array(arr, k):\n",
    "    k %= len(arr)\n",
    "    \n",
    "    arr[:] = arr[-k:] + arr[:-k]\n",
    "    return arr\n",
    "\n",
    "arr = [1, 2, 3, 4, 5]\n",
    "k = 2\n",
    "result = rotate_array(arr, k)\n",
    "print(\"Rotated Array:\", result)\n"
   ]
  },
  {
   "cell_type": "markdown",
   "metadata": {},
   "source": [
    "Merge Intervals\n",
    "Example: Input: [[1, 3], [2, 6], [8, 10], [15, 18]] → Output: [[1, 6], [8, 10], [15, 18]]\n"
   ]
  },
  {
   "cell_type": "code",
   "execution_count": 7,
   "metadata": {},
   "outputs": [
    {
     "name": "stdout",
     "output_type": "stream",
     "text": [
      "Merged Intervals: [[1, 6], [8, 10], [15, 18]]\n"
     ]
    }
   ],
   "source": [
    "def merge_intervals(intervals):\n",
    "    intervals.sort(key=lambda x: x[0])\n",
    "    \n",
    "    merged = []\n",
    "    \n",
    "    for interval in intervals:\n",
    "    \n",
    "        if not merged or merged[-1][1] < interval[0]:\n",
    "            merged.append(interval)\n",
    "        else:\n",
    "    \n",
    "            merged[-1][1] = max(merged[-1][1], interval[1])\n",
    "    \n",
    "    return merged\n",
    "\n",
    "intervals = [[1, 3], [2, 6], [8, 10], [15, 18]]\n",
    "result = merge_intervals(intervals)\n",
    "print(\"Merged Intervals:\", result)\n"
   ]
  },
  {
   "cell_type": "markdown",
   "metadata": {},
   "source": [
    "String"
   ]
  },
  {
   "cell_type": "markdown",
   "metadata": {},
   "source": [
    " Find the Frequency of Each Character\n",
    "Example: Input: \"apple\" → Output: {'a': 1, 'p': 2, 'l': 1, 'e': 1}\n"
   ]
  },
  {
   "cell_type": "code",
   "execution_count": 8,
   "metadata": {},
   "outputs": [
    {
     "name": "stdout",
     "output_type": "stream",
     "text": [
      "Character Frequencies: {'a': 1, 'p': 2, 'l': 1, 'e': 1}\n"
     ]
    }
   ],
   "source": [
    "def character_frequency(s):\n",
    "    freq = {}\n",
    "    \n",
    "    for char in s:\n",
    "        freq[char] = freq.get(char, 0) + 1\n",
    "    \n",
    "    return freq\n",
    "input_str = \"apple\"\n",
    "result = character_frequency(input_str)\n",
    "print(\"Character Frequencies:\", result)\n"
   ]
  },
  {
   "cell_type": "markdown",
   "metadata": {},
   "source": [
    "Remove Duplicates from a String\n",
    "Example: Input: \"programming\" → Output: \"progamin\"\n"
   ]
  },
  {
   "cell_type": "code",
   "execution_count": 9,
   "metadata": {},
   "outputs": [
    {
     "name": "stdout",
     "output_type": "stream",
     "text": [
      "String after removing duplicates: progamin\n"
     ]
    }
   ],
   "source": [
    "def remove_duplicates(s):\n",
    "\n",
    "    seen = set()\n",
    "    result = []\n",
    "    \n",
    "    for char in s:\n",
    "        if char not in seen:\n",
    "            seen.add(char)\n",
    "            result.append(char)\n",
    "    \n",
    "    return ''.join(result)\n",
    "\n",
    "input_str = \"programming\"\n",
    "result = remove_duplicates(input_str)\n",
    "print(\"String after removing duplicates:\", result)\n"
   ]
  },
  {
   "cell_type": "markdown",
   "metadata": {},
   "source": [
    "Find the First Non-Repeating Character\n",
    "Example: Input: \"swiss\" → Output: \"w\"\n"
   ]
  },
  {
   "cell_type": "code",
   "execution_count": 10,
   "metadata": {},
   "outputs": [
    {
     "name": "stdout",
     "output_type": "stream",
     "text": [
      "First Non-Repeating Character: w\n"
     ]
    }
   ],
   "source": [
    "def first_non_repeating_char(s):\n",
    "    char_count = {}\n",
    "    \n",
    "    for char in s:\n",
    "        char_count[char] = char_count.get(char, 0) + 1\n",
    "    \n",
    "    for char in s:\n",
    "        if char_count[char] == 1:\n",
    "            return char\n",
    "    \n",
    "    return None \n",
    "\n",
    "input_str = \"swiss\"\n",
    "result = first_non_repeating_char(input_str)\n",
    "print(\"First Non-Repeating Character:\", result)\n"
   ]
  },
  {
   "cell_type": "markdown",
   "metadata": {},
   "source": [
    " Check if a String is a Rotation of Another\n",
    "Example: Input: \"abcde\", \"cdeab\" → Output: True\n"
   ]
  },
  {
   "cell_type": "code",
   "execution_count": 11,
   "metadata": {},
   "outputs": [
    {
     "name": "stdout",
     "output_type": "stream",
     "text": [
      "Is Rotation: True\n"
     ]
    }
   ],
   "source": [
    "def is_rotation(s1, s2):\n",
    "    return len(s1) == len(s2) and s2 in (s1 + s1)\n",
    "\n",
    "s1 = \"abcde\"\n",
    "s2 = \"cdeab\"\n",
    "result = is_rotation(s1, s2)\n",
    "print(\"Is Rotation:\", result)\n"
   ]
  },
  {
   "cell_type": "markdown",
   "metadata": {},
   "source": [
    ".Compress a String Using the Counts of Repeated Characters\n",
    "Example: Input: \"aaabbc\" → Output: \"a3b2c1\"\n"
   ]
  },
  {
   "cell_type": "code",
   "execution_count": 12,
   "metadata": {},
   "outputs": [
    {
     "name": "stdout",
     "output_type": "stream",
     "text": [
      "Compressed String: a3b2c1\n"
     ]
    }
   ],
   "source": [
    "def compress_string(s):\n",
    "    if not s:\n",
    "        return \"\"\n",
    "\n",
    "    compressed = []\n",
    "    count = 1\n",
    "    for i in range(1, len(s)):\n",
    "        if s[i] == s[i - 1]:\n",
    "            count += 1\n",
    "        else:\n",
    "            compressed.append(s[i - 1] + str(count))\n",
    "            count = 1 \n",
    "\n",
    "    compressed.append(s[-1] + str(count))\n",
    "\n",
    "    return ''.join(compressed)\n",
    "\n",
    "input_str = \"aaabbc\"\n",
    "result = compress_string(input_str)\n",
    "print(\"Compressed String:\", result)\n"
   ]
  },
  {
   "cell_type": "markdown",
   "metadata": {},
   "source": [
    "Queues:\n"
   ]
  },
  {
   "cell_type": "markdown",
   "metadata": {},
   "source": [
    ".Implement a Queue Using Lists\n",
    "Implement enqueue, dequeue, and display operations using a Python list.\n"
   ]
  },
  {
   "cell_type": "code",
   "execution_count": 13,
   "metadata": {},
   "outputs": [
    {
     "name": "stdout",
     "output_type": "stream",
     "text": [
      "Queue after enqueue operations: [10, 20, 30]\n",
      "Dequeued item: 10\n",
      "Queue after dequeue operation: [20, 30]\n"
     ]
    }
   ],
   "source": [
    "class Queue:\n",
    "    def __init__(self):\n",
    "        self.queue = []\n",
    "\n",
    "    def enqueue(self, item):\n",
    "        \"\"\"Adds an item to the end of the queue.\"\"\"\n",
    "        self.queue.append(item)\n",
    "\n",
    "    def dequeue(self):\n",
    "        \"\"\"Removes and returns the item from the front of the queue.\"\"\"\n",
    "        if len(self.queue) > 0:\n",
    "            return self.queue.pop(0)\n",
    "        else:\n",
    "            return \"Queue is empty\"\n",
    "\n",
    "    def display(self):\n",
    "        \"\"\"Displays the current elements of the queue.\"\"\"\n",
    "        if len(self.queue) > 0:\n",
    "            return self.queue\n",
    "        else:\n",
    "            return \"Queue is empty\"\n",
    "q = Queue()\n",
    "q.enqueue(10)\n",
    "q.enqueue(20)\n",
    "q.enqueue(30)\n",
    "\n",
    "print(\"Queue after enqueue operations:\", q.display())\n",
    "\n",
    "dequeued_item = q.dequeue()\n",
    "print(\"Dequeued item:\", dequeued_item)\n",
    "\n",
    "print(\"Queue after dequeue operation:\", q.display())\n"
   ]
  },
  {
   "cell_type": "markdown",
   "metadata": {},
   "source": [
    " Check for a Palindrome Using a Queue\n",
    "Example: Input: \"radar\" → Output: True\n"
   ]
  },
  {
   "cell_type": "code",
   "execution_count": 14,
   "metadata": {},
   "outputs": [
    {
     "name": "stdout",
     "output_type": "stream",
     "text": [
      "Is Palindrome: True\n"
     ]
    }
   ],
   "source": [
    "from collections import deque\n",
    "\n",
    "def is_palindrome(s):\n",
    "    queue = deque(s)\n",
    "\n",
    "    while len(queue) > 1:\n",
    "        if queue.popleft() != queue.pop():\n",
    "            return False\n",
    "    return True\n",
    "\n",
    "input_str = \"radar\"\n",
    "result = is_palindrome(input_str)\n",
    "print(\"Is Palindrome:\", result)\n"
   ]
  },
  {
   "cell_type": "markdown",
   "metadata": {},
   "source": [
    "Implement a Circular Queue\n",
    "Design and implement a circular queue with enqueue, dequeue, and display operations.\n"
   ]
  },
  {
   "cell_type": "code",
   "execution_count": 15,
   "metadata": {},
   "outputs": [
    {
     "name": "stdout",
     "output_type": "stream",
     "text": [
      "Queue after enqueue operations:\n",
      "10 20 30 40 50\n",
      "Dequeued: 10\n",
      "Queue after dequeue operation:\n",
      "20 30 40 50\n",
      "Queue after enqueue 60:\n",
      "20 30 40 50 60\n"
     ]
    }
   ],
   "source": [
    "class CircularQueue:\n",
    "    def __init__(self, size):\n",
    "\n",
    "        self.size = size\n",
    "        self.queue = [None] * size\n",
    "        self.front = -1\n",
    "        self.rear = -1\n",
    "\n",
    "    def enqueue(self, item):\n",
    "        \"\"\"Add an item to the queue.\"\"\"\n",
    "        if (self.rear + 1) % self.size == self.front:\n",
    "            print(\"Queue is full!\")\n",
    "            return\n",
    "        \n",
    "        if self.front == -1:\n",
    "            self.front = 0\n",
    "        self.rear = (self.rear + 1) % self.size\n",
    "        self.queue[self.rear] = item\n",
    "\n",
    "    def dequeue(self):\n",
    "        \"\"\"Remove and return the item from the queue.\"\"\"\n",
    "        if self.front == -1:\n",
    "            print(\"Queue is empty!\")\n",
    "            return None\n",
    "        \n",
    "        item = self.queue[self.front]\n",
    "        if self.front == self.rear:\n",
    "            self.front = self.rear = -1  \n",
    "        else:\n",
    "            self.front = (self.front + 1) % self.size\n",
    "        return item\n",
    "\n",
    "    def display(self):\n",
    "        \"\"\"Display the current elements in the queue.\"\"\"\n",
    "        if self.front == -1:\n",
    "            print(\"Queue is empty!\")\n",
    "            return\n",
    "\n",
    "        i = self.front\n",
    "        while i != self.rear:\n",
    "            print(self.queue[i], end=\" \")\n",
    "            i = (i + 1) % self.size\n",
    "        print(self.queue[self.rear])  \n",
    "\n",
    "cq = CircularQueue(5)\n",
    "\n",
    "cq.enqueue(10)\n",
    "cq.enqueue(20)\n",
    "cq.enqueue(30)\n",
    "cq.enqueue(40)\n",
    "cq.enqueue(50)\n",
    "\n",
    "print(\"Queue after enqueue operations:\")\n",
    "cq.display()\n",
    "\n",
    "print(\"Dequeued:\", cq.dequeue())\n",
    "\n",
    "print(\"Queue after dequeue operation:\")\n",
    "cq.display()\n",
    "\n",
    "cq.enqueue(60)\n",
    "\n",
    "print(\"Queue after enqueue 60:\")\n",
    "cq.display()\n"
   ]
  },
  {
   "cell_type": "markdown",
   "metadata": {},
   "source": [
    "Sort a Queue\n",
    "Sort the elements of a queue without using any extra data structure.\n",
    "Example: Input: [3, 1, 4, 2] → Output: [1, 2, 3, 4]\n"
   ]
  },
  {
   "cell_type": "code",
   "execution_count": 19,
   "metadata": {},
   "outputs": [
    {
     "name": "stdout",
     "output_type": "stream",
     "text": [
      "Sorted Queue: [2, 3, 1, 4]\n"
     ]
    }
   ],
   "source": [
    "from collections import deque\n",
    "\n",
    "def sort_queue(queue):\n",
    "    n = len(queue)\n",
    "\n",
    "    for i in range(n):\n",
    "        min_index = 0\n",
    "\n",
    "        for j in range(1, n - i):\n",
    "            if queue[j] < queue[min_index]:\n",
    "                min_index = j\n",
    "\n",
    "        for _ in range(min_index):\n",
    "            queue.append(queue.popleft())\n",
    "        queue.append(queue.popleft())\n",
    "        \n",
    "    return queue\n",
    "\n",
    "queue = deque([3, 1, 4, 2])\n",
    "sorted_queue = sort_queue(queue)\n",
    "print(\"Sorted Queue:\", list(sorted_queue))"
   ]
  }
 ],
 "metadata": {
  "kernelspec": {
   "display_name": "Python 3",
   "language": "python",
   "name": "python3"
  },
  "language_info": {
   "codemirror_mode": {
    "name": "ipython",
    "version": 3
   },
   "file_extension": ".py",
   "mimetype": "text/x-python",
   "name": "python",
   "nbconvert_exporter": "python",
   "pygments_lexer": "ipython3",
   "version": "3.13.1"
  }
 },
 "nbformat": 4,
 "nbformat_minor": 2
}
