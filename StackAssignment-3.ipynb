{
 "cells": [
  {
   "cell_type": "markdown",
   "metadata": {},
   "source": [
    "1.Find the Minimum Element in a Stack"
   ]
  },
  {
   "cell_type": "code",
   "execution_count": 2,
   "metadata": {},
   "outputs": [
    {
     "name": "stdout",
     "output_type": "stream",
     "text": [
      "3\n",
      "1\n",
      "2\n",
      "3\n"
     ]
    }
   ],
   "source": [
    "class SpecialStack:\n",
    "    def __init__(self):\n",
    "        self.stack = []\n",
    "        self.min_stack = []\n",
    "\n",
    "    def push(self, x: int):\n",
    "        self.stack.append(x)\n",
    "        if not self.min_stack or x <= self.min_stack[-1]:\n",
    "            self.min_stack.append(x)\n",
    "\n",
    "    def pop(self):\n",
    "        if self.stack:\n",
    "            popped_element = self.stack.pop()\n",
    "            if popped_element == self.min_stack[-1]:\n",
    "                self.min_stack.pop()\n",
    "\n",
    "    def get_min(self) -> int:\n",
    "        return self.min_stack[-1] if self.min_stack else None\n",
    "\n",
    "# Example usage\n",
    "stack = SpecialStack()\n",
    "stack.push(3)\n",
    "stack.push(5)\n",
    "print(stack.get_min())  # Output: 3\n",
    "stack.push(2)\n",
    "stack.push(1)\n",
    "print(stack.get_min())  # Output: 1\n",
    "stack.pop()\n",
    "print(stack.get_min())  # Output: 2\n",
    "stack.pop()\n",
    "print(stack.get_min())  # Output: 3\n"
   ]
  },
  {
   "cell_type": "markdown",
   "metadata": {},
   "source": [
    "2. Reverse a String Using a Stack"
   ]
  },
  {
   "cell_type": "code",
   "execution_count": 3,
   "metadata": {},
   "outputs": [
    {
     "name": "stdout",
     "output_type": "stream",
     "text": [
      "Reversed string: aaartivap\n"
     ]
    }
   ],
   "source": [
    "class StringReversal:\n",
    "    def __init__(self):\n",
    "        self.stack = []\n",
    "\n",
    "    def reverse_string(self, input_string: str) -> str:\n",
    "        # Push all characters of the string onto the stack\n",
    "        for char in input_string:\n",
    "            self.stack.append(char)\n",
    "        \n",
    "        # Pop characters from the stack to form the reversed string\n",
    "        reversed_string = ''\n",
    "        while self.stack:\n",
    "            reversed_string += self.stack.pop()\n",
    "        \n",
    "        return reversed_string\n",
    "\n",
    "# Example usage\n",
    "reversal = StringReversal()\n",
    "input_string = input(\"Enter a string to reverse: \")\n",
    "print(\"Reversed string:\", reversal.reverse_string(input_string))\n"
   ]
  },
  {
   "cell_type": "markdown",
   "metadata": {},
   "source": [
    "3. Next Greater Element"
   ]
  },
  {
   "cell_type": "code",
   "execution_count": 4,
   "metadata": {},
   "outputs": [
    {
     "name": "stdout",
     "output_type": "stream",
     "text": [
      "[5, 25, 25, -1]\n"
     ]
    }
   ],
   "source": [
    "def next_greater_element(arr):\n",
    "    stack = []\n",
    "    result = [-1] * len(arr)  # Initialize result with -1\n",
    "\n",
    "    for i in range(len(arr)):\n",
    "        while stack and arr[stack[-1]] < arr[i]:\n",
    "            idx = stack.pop()\n",
    "            result[idx] = arr[i]\n",
    "        stack.append(i)\n",
    "\n",
    "    return result\n",
    "\n",
    "# Example usage\n",
    "arr = [4, 5, 2, 25]\n",
    "print(next_greater_element(arr))  # Output: [5, 25, 25, -1]\n"
   ]
  },
  {
   "cell_type": "markdown",
   "metadata": {},
   "source": [
    "4. Implement a Stack Using Two Queues"
   ]
  },
  {
   "cell_type": "code",
   "execution_count": 5,
   "metadata": {},
   "outputs": [
    {
     "name": "stdout",
     "output_type": "stream",
     "text": [
      "30\n",
      "20\n",
      "10\n"
     ]
    }
   ],
   "source": [
    "from queue import Queue\n",
    "\n",
    "class StackUsingTwoQueues:\n",
    "    def __init__(self):\n",
    "        self.queue1 = Queue()\n",
    "        self.queue2 = Queue()\n",
    "\n",
    "    def push(self, x):\n",
    "        self.queue1.put(x)\n",
    "\n",
    "    def pop(self):\n",
    "        if self.queue1.empty():\n",
    "            return None\n",
    "        \n",
    "        while self.queue1.qsize() > 1:\n",
    "            self.queue2.put(self.queue1.get())\n",
    "        \n",
    "        popped_element = self.queue1.get()  # Last element\n",
    "        self.queue1, self.queue2 = self.queue2, self.queue1  # Swap queues\n",
    "        return popped_element\n",
    "\n",
    "# Example usage\n",
    "stack = StackUsingTwoQueues()\n",
    "stack.push(10)\n",
    "stack.push(20)\n",
    "stack.push(30)\n",
    "\n",
    "print(stack.pop())  # Output: 30\n",
    "print(stack.pop())  # Output: 20\n",
    "print(stack.pop())  # Output: 10\n"
   ]
  },
  {
   "cell_type": "markdown",
   "metadata": {},
   "source": [
    "5. Decode a String"
   ]
  },
  {
   "cell_type": "code",
   "execution_count": 6,
   "metadata": {},
   "outputs": [
    {
     "name": "stdout",
     "output_type": "stream",
     "text": [
      "Next Greater Element: [5, 7, 8, -1, -1]\n"
     ]
    }
   ],
   "source": [
    "def next_greater_element(arr):\n",
    "    stack = []\n",
    "    result = [-1] * len(arr)  # Initialize result with -1\n",
    "\n",
    "    for i in range(len(arr)):\n",
    "        while stack and arr[stack[-1]] < arr[i]:\n",
    "            idx = stack.pop()\n",
    "            result[idx] = arr[i]\n",
    "        stack.append(i)\n",
    "\n",
    "    return result\n",
    "\n",
    "# Example usage with input\n",
    "arr = list(map(int, input(\"Enter the elements of the array (space-separated): \").split()))\n",
    "print(\"Next Greater Element:\", next_greater_element(arr))\n"
   ]
  }
 ],
 "metadata": {
  "kernelspec": {
   "display_name": "Python 3",
   "language": "python",
   "name": "python3"
  },
  "language_info": {
   "codemirror_mode": {
    "name": "ipython",
    "version": 3
   },
   "file_extension": ".py",
   "mimetype": "text/x-python",
   "name": "python",
   "nbconvert_exporter": "python",
   "pygments_lexer": "ipython3",
   "version": "3.13.1"
  }
 },
 "nbformat": 4,
 "nbformat_minor": 2
}
