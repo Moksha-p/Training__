{
 "cells": [
  {
   "cell_type": "markdown",
   "metadata": {},
   "source": [
    "1.Write a Python function to find the second largest element in a list."
   ]
  },
  {
   "cell_type": "code",
   "execution_count": null,
   "metadata": {},
   "outputs": [],
   "source": [
    "def second_largest(numbers):\n",
    "    unique_numbers = list(set(numbers))  \n",
    "    unique_numbers.sort() \n",
    "    return unique_numbers[-2] if len(unique_numbers) >= 2 else None\n",
    "\n",
    "numbers = [10, 20, 4, 45, 99]\n",
    "\n",
    "print(second_largest(numbers))\n"
   ]
  },
  {
   "cell_type": "markdown",
   "metadata": {},
   "source": [
    "2.Write a Python program to generate all possible permutations of a list of numbers.\n"
   ]
  },
  {
   "cell_type": "code",
   "execution_count": 1,
   "metadata": {},
   "outputs": [
    {
     "name": "stdout",
     "output_type": "stream",
     "text": [
      "[[1, 2, 3], [1, 3, 2], [2, 1, 3], [2, 3, 1], [3, 1, 2], [3, 2, 1]]\n"
     ]
    }
   ],
   "source": [
    "import itertools\n",
    "\n",
    "def generate_permutations(numbers):\n",
    "    return [list(perm) for perm in itertools.permutations(numbers)]\n",
    "\n",
    "numbers = [1, 2, 3]\n",
    "\n",
    "print(generate_permutations(numbers))\n"
   ]
  }
 ],
 "metadata": {
  "kernelspec": {
   "display_name": "Python 3",
   "language": "python",
   "name": "python3"
  },
  "language_info": {
   "codemirror_mode": {
    "name": "ipython",
    "version": 3
   },
   "file_extension": ".py",
   "mimetype": "text/x-python",
   "name": "python",
   "nbconvert_exporter": "python",
   "pygments_lexer": "ipython3",
   "version": "3.13.1"
  }
 },
 "nbformat": 4,
 "nbformat_minor": 2
}
