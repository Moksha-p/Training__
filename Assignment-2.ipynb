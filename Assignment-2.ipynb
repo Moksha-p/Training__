{
 "cells": [
  {
   "cell_type": "markdown",
   "metadata": {},
   "source": [
    "Question-1)Create a class Library with attributes like name, address, and a\n",
    " list of books. Implement methods to add and remove books.\n",
    "\n",
    "Question-2)Create a class House with attributes like address, num_rooms, and\n",
    " price. Implement a method to display the house details"
   ]
  },
  {
   "cell_type": "code",
   "execution_count": 1,
   "metadata": {},
   "outputs": [
    {
     "name": "stdout",
     "output_type": "stream",
     "text": [
      "name: \"manmandir\", address: \"27,samvad Nagar Indore\", books: ['endgame']\n",
      "address: \"116,kaveri vihar indore\", num_rooms: 116, price: 300000.0\n"
     ]
    }
   ],
   "source": [
    "class Library:\n",
    "    def __init__(self, name, address, books=None):\n",
    "        self.name = name\n",
    "        self.address = address\n",
    "        self.books = books if books is not None else []\n",
    "\n",
    "    def add_book(self, book):\n",
    "        self.books.append(book)\n",
    "\n",
    "    def remove_book(self, book):\n",
    "        if book in self.books:\n",
    "            self.books.remove(book)\n",
    "\n",
    "    def __str__(self):\n",
    "        return f\"name: \\\"{self.name}\\\", address: \\\"{self.address}\\\", books: {self.books}\"\n",
    "\n",
    "\n",
    "# Input for Library Test Case\n",
    "name = input(\"Enter library name: \")\n",
    "address = input(\"Enter library address: \")\n",
    "books = []\n",
    "library = Library(name=name, address=address, books=books)\n",
    "while True:\n",
    "    action = input(\"Enter 'add' to add a book, 'remove' to remove a book, or 'done' to finish: \").strip().lower()\n",
    "    if action == 'add':\n",
    "        book = input(\"Enter the name of the book to add: \")\n",
    "        library.add_book(book)\n",
    "    elif action == 'remove':\n",
    "        book = input(\"Enter the name of the book to remove: \")\n",
    "        library.remove_book(book)\n",
    "    elif action == 'done':\n",
    "        break\n",
    "    else:\n",
    "        print(\"Invalid action. Please enter 'add', 'remove', or 'done'.\")\n",
    "print(library)\n",
    "\n",
    "\n",
    "class House:\n",
    "    def __init__(self, address, num_rooms, price):\n",
    "        self.address = address\n",
    "        self.num_rooms = num_rooms\n",
    "        self.price = price\n",
    "\n",
    "    def display_details(self):\n",
    "        return f\"address: \\\"{self.address}\\\", num_rooms: {self.num_rooms}, price: {self.price}\"\n",
    "\n",
    "\n",
    "# Input for House Test Case\n",
    "address = input(\"Enter house address: \")\n",
    "num_rooms = int(input(\"Enter the number of rooms: \"))\n",
    "price = float(input(\"Enter the price of the house: \"))\n",
    "house = House(address=address, num_rooms=num_rooms, price=price)\n",
    "print(house.display_details())\n"
   ]
  },
  {
   "cell_type": "markdown",
   "metadata": {},
   "source": [
    "Question-3)  Create a class Book with attributes title, author, and price.\n",
    " Implement a method discount to apply a discount to the book's\n",
    " price"
   ]
  },
  {
   "cell_type": "code",
   "execution_count": 2,
   "metadata": {},
   "outputs": [
    {
     "name": "stdout",
     "output_type": "stream",
     "text": [
      "title: \"Example Book\", author: \"John Doe\", price: 100.00\n",
      "After 10% discount:\n",
      "title: \"Example Book\", author: \"John Doe\", price: 90.00\n"
     ]
    }
   ],
   "source": [
    "class Book:\n",
    "    def __init__(self, title, author, price):\n",
    "        self.title = title\n",
    "        self.author = author\n",
    "        self.price = price\n",
    "\n",
    "    def discount(self, percentage):\n",
    "        if 0 <= percentage <= 100:\n",
    "            self.price -= self.price * (percentage / 100)\n",
    "        else:\n",
    "            raise ValueError(\"Percentage must be between 0 and 100.\")\n",
    "\n",
    "    def __str__(self):\n",
    "        return f\"title: \\\"{self.title}\\\", author: \\\"{self.author}\\\", price: {self.price:.2f}\"\n",
    "\n",
    "\n",
    "# Example Test Case for Book\n",
    "book = Book(title=\"Example Book\", author=\"John Doe\", price=100.0)\n",
    "print(book)\n",
    "book.discount(10)\n",
    "print(\"After 10% discount:\")\n",
    "print(book)\n"
   ]
  },
  {
   "cell_type": "markdown",
   "metadata": {},
   "source": [
    "Question-4)  Create a class Restaurant with attributes name, cuisine_type, and\n",
    " rating. Implement a method update_rating to change the\n",
    " restaurant's rating"
   ]
  },
  {
   "cell_type": "code",
   "execution_count": 3,
   "metadata": {},
   "outputs": [
    {
     "name": "stdout",
     "output_type": "stream",
     "text": [
      "Restaurant Name: corriandar leaf\n",
      "Cuisine Type: regular\n",
      "Rating: 5.0/5\n",
      "Rating updated to 5.0/5\n"
     ]
    }
   ],
   "source": [
    "class Restaurant:\n",
    "    def __init__(self, name, cuisine_type, rating):\n",
    "        self.name = name\n",
    "        self.cuisine_type = cuisine_type\n",
    "        self.rating = rating\n",
    "\n",
    "    def display_info(self):\n",
    "        print(f\"Restaurant Name: {self.name}\")\n",
    "        print(f\"Cuisine Type: {self.cuisine_type}\")\n",
    "        print(f\"Rating: {self.rating}/5\")\n",
    "\n",
    "    def update_rating(self, new_rating):\n",
    "        if 0 <= new_rating <= 5:\n",
    "            self.rating = new_rating\n",
    "            print(f\"Rating updated to {self.rating}/5\")\n",
    "        else:\n",
    "            print(\"Invalid rating. Please enter a value between 0 and 5.\")\n",
    "\n",
    "# Input to create a restaurant object\n",
    "name = input(\"Enter the name of the restaurant: \")\n",
    "cuisine_type = input(\"Enter the cuisine type: \")\n",
    "while True:\n",
    "    try:\n",
    "        rating = float(input(\"Enter the rating (0-5): \"))\n",
    "        if 0 <= rating <= 5:\n",
    "            break\n",
    "        else:\n",
    "            print(\"Please enter a rating between 0 and 5.\")\n",
    "    except ValueError:\n",
    "        print(\"Invalid input. Please enter a numeric value.\")\n",
    "\n",
    "# Create Restaurant object\n",
    "restaurant = Restaurant(name, cuisine_type, rating)\n",
    "\n",
    "# Display restaurant info\n",
    "restaurant.display_info()\n",
    "\n",
    "# Update the rating\n",
    "while True:\n",
    "    try:\n",
    "        new_rating = float(input(\"Enter the new rating (0-5): \"))\n",
    "        restaurant.update_rating(new_rating)\n",
    "        break\n",
    "    except ValueError:\n",
    "        print(\"Invalid input. Please enter a numeric value.\")\n"
   ]
  },
  {
   "cell_type": "markdown",
   "metadata": {},
   "source": [
    "Question-5) Create a class School with a class variable total_students and\n",
    " instance variables name and students. Implement a method to\n",
    " enroll students and update the total count."
   ]
  },
  {
   "cell_type": "code",
   "execution_count": 5,
   "metadata": {},
   "outputs": [
    {
     "name": "stdout",
     "output_type": "stream",
     "text": [
      "800 students enrolled in kendriya vidyalaya khandwa.\n",
      "50 students enrolled in kendriya vidyalaya khandwa.\n",
      "School Name: kendriya vidyalaya khandwa\n",
      "Students Enrolled: 850\n",
      "Total Students Across All Schools: 850\n"
     ]
    }
   ],
   "source": [
    "class School:\n",
    "    # Class variable to keep track of the total number of students\n",
    "    total_students = 0\n",
    "\n",
    "    def __init__(self, name):\n",
    "        self.name = name  # Instance variable for the school's name\n",
    "        self.students = 0  # Instance variable for the number of students in this school\n",
    "\n",
    "    def enroll_students(self, count):\n",
    "        if count > 0:\n",
    "            self.students += count\n",
    "            School.total_students += count  # Update the class variable\n",
    "            print(f\"{count} students enrolled in {self.name}.\")\n",
    "        else:\n",
    "            print(\"Invalid count. Please provide a positive number.\")\n",
    "\n",
    "    def display_info(self):\n",
    "        print(f\"School Name: {self.name}\")\n",
    "        print(f\"Students Enrolled: {self.students}\")\n",
    "        print(f\"Total Students Across All Schools: {School.total_students}\")\n",
    "\n",
    "\n",
    "# Taking input to create a school instance\n",
    "school_name = input(\"Enter the name of the school: \")\n",
    "\n",
    "# Create a School object\n",
    "school = School(school_name)\n",
    "\n",
    "# Enroll initial students\n",
    "while True:\n",
    "    try:\n",
    "        initial_students = int(input(f\"Enter the initial number of students in {school_name}: \"))\n",
    "        if initial_students >= 0:\n",
    "            school.enroll_students(initial_students)\n",
    "            break\n",
    "        else:\n",
    "            print(\"Please enter a non-negative number.\")\n",
    "    except ValueError:\n",
    "        print(\"Invalid input. Please enter an integer.\")\n",
    "\n",
    "# Enroll additional students\n",
    "while True:\n",
    "    try:\n",
    "        additional_students = int(input(f\"Enter the number of additional students to enroll in {school_name}: \"))\n",
    "        if additional_students >= 0:\n",
    "            school.enroll_students(additional_students)\n",
    "            break\n",
    "        else:\n",
    "            print(\"Please enter a non-negative number.\")\n",
    "    except ValueError:\n",
    "        print(\"Invalid input. Please enter an integer.\")\n",
    "\n",
    "# Display final information\n",
    "school.display_info()\n"
   ]
  },
  {
   "cell_type": "markdown",
   "metadata": {},
   "source": [
    "Question-6) Create a class Company with a class variable industry and\n",
    " instance variables name and num_employees. Implement a method to\n",
    " update the number of employees."
   ]
  },
  {
   "cell_type": "code",
   "execution_count": 6,
   "metadata": {},
   "outputs": [
    {
     "name": "stdout",
     "output_type": "stream",
     "text": [
      "Company Name: Care Health Insurance\n",
      "Number of Employees: 500\n",
      "Industry: Technology\n",
      "Number of employees updated to 100.\n",
      "Company Name: Care Health Insurance\n",
      "Number of Employees: 100\n",
      "Industry: Technology\n"
     ]
    }
   ],
   "source": [
    "class Company:\n",
    "    # Class variable shared by all instances\n",
    "    industry = \"Technology\"\n",
    "\n",
    "    def __init__(self, name, num_employees):\n",
    "        self.name = name  # Instance variable for company name\n",
    "        self.num_employees = num_employees  # Instance variable for number of employees\n",
    "\n",
    "    def update_employees(self, new_num_employees):\n",
    "        if new_num_employees >= 0:\n",
    "            self.num_employees = new_num_employees\n",
    "            print(f\"Number of employees updated to {self.num_employees}.\")\n",
    "        else:\n",
    "            print(\"Invalid input. Number of employees cannot be negative.\")\n",
    "\n",
    "    def display_info(self):\n",
    "        print(f\"Company Name: {self.name}\")\n",
    "        print(f\"Number of Employees: {self.num_employees}\")\n",
    "        print(f\"Industry: {Company.industry}\")\n",
    "\n",
    "\n",
    "# Interactive input\n",
    "company_name = input(\"Enter the company name: \")\n",
    "while True:\n",
    "    try:\n",
    "        initial_employees = int(input(\"Enter the initial number of employees: \"))\n",
    "        if initial_employees >= 0:\n",
    "            break\n",
    "        else:\n",
    "            print(\"Please enter a non-negative number.\")\n",
    "    except ValueError:\n",
    "        print(\"Invalid input. Please enter an integer.\")\n",
    "\n",
    "# Create a Company object\n",
    "company = Company(company_name, initial_employees)\n",
    "\n",
    "# Display initial company info\n",
    "company.display_info()\n",
    "\n",
    "# Update the number of employees\n",
    "while True:\n",
    "    try:\n",
    "        new_employee_count = int(input(\"Enter the updated number of employees: \"))\n",
    "        if new_employee_count >= 0:\n",
    "            company.update_employees(new_employee_count)\n",
    "            break\n",
    "        else:\n",
    "            print(\"Please enter a non-negative number.\")\n",
    "    except ValueError:\n",
    "        print(\"Invalid input. Please enter an integer.\")\n",
    "\n",
    "# Display updated company info\n",
    "company.display_info()\n"
   ]
  },
  {
   "cell_type": "code",
   "execution_count": 3,
   "metadata": {},
   "outputs": [
    {
     "name": "stdout",
     "output_type": "stream",
     "text": [
      "False\n"
     ]
    }
   ],
   "source": [
    "def reverse_string(s):\n",
    "    return s==s[::-1]\n",
    "print(reverse_string(\"hello\"))\n"
   ]
  }
 ],
 "metadata": {
  "kernelspec": {
   "display_name": "Python 3",
   "language": "python",
   "name": "python3"
  },
  "language_info": {
   "codemirror_mode": {
    "name": "ipython",
    "version": 3
   },
   "file_extension": ".py",
   "mimetype": "text/x-python",
   "name": "python",
   "nbconvert_exporter": "python",
   "pygments_lexer": "ipython3",
   "version": "3.13.1"
  }
 },
 "nbformat": 4,
 "nbformat_minor": 2
}
