{
 "cells": [
  {
   "cell_type": "markdown",
   "metadata": {},
   "source": [
    "Stack "
   ]
  },
  {
   "cell_type": "markdown",
   "metadata": {},
   "source": [
    "Find the Minimum Element in a Stack\n",
    "Implement a special stack that supports push, pop, and retrieving the minimum element in O(1) time.\n"
   ]
  },
  {
   "cell_type": "code",
   "execution_count": 6,
   "metadata": {},
   "outputs": [
    {
     "name": "stdout",
     "output_type": "stream",
     "text": [
      "Minimum element: 5\n"
     ]
    }
   ],
   "source": [
    "class MinStack:\n",
    "    def __init__(self):\n",
    "        self.stack = []\n",
    "        self.min_stack = []\n",
    "\n",
    "    def push(self, val):\n",
    "        self.stack.append(val)\n",
    "        if not self.min_stack or val <= self.min_stack[-1]:\n",
    "            self.min_stack.append(val)\n",
    "\n",
    "    def pop(self):\n",
    "        if self.stack:\n",
    "            val = self.stack.pop()\n",
    "            if val == self.min_stack[-1]:\n",
    "                self.min_stack.pop()\n",
    "            return val\n",
    "        return None \n",
    "\n",
    "    def get_min(self):\n",
    "        if self.min_stack:\n",
    "            return self.min_stack[-1]\n",
    "        return None\n",
    "\n",
    "min_stack = MinStack()\n",
    "min_stack.push(30)\n",
    "min_stack.push(5)\n",
    "min_stack.push(20)\n",
    "min_stack.push(10)\n",
    "print(\"Minimum element:\", min_stack.get_min()) "
   ]
  },
  {
   "cell_type": "markdown",
   "metadata": {},
   "source": [
    "Reverse a String Using a Stack\n",
    "Example: Input: \"hello\" → Output: \"olleh\"\n"
   ]
  },
  {
   "cell_type": "code",
   "execution_count": 1,
   "metadata": {},
   "outputs": [
    {
     "name": "stdout",
     "output_type": "stream",
     "text": [
      "Input: \"hello\" → Output: \"olleh\"\n"
     ]
    }
   ],
   "source": [
    "def reverse_string(s):\n",
    "    return \"\".join(reversed(s))\n",
    "\n",
    "input_string = \"hello\"\n",
    "output_string = reverse_string(input_string)\n",
    "print(f\"Input: \\\"{input_string}\\\" → Output: \\\"{output_string}\\\"\")\n"
   ]
  },
  {
   "cell_type": "markdown",
   "metadata": {},
   "source": [
    "Next Greater Element\n",
    "For each element in the array, find the next greater element.\n",
    "Example: Input: [4, 5, 2, 25] → Output: [5, 25, 25, -1]\n"
   ]
  },
  {
   "cell_type": "code",
   "execution_count": 2,
   "metadata": {},
   "outputs": [
    {
     "name": "stdout",
     "output_type": "stream",
     "text": [
      "Input: [4, 5, 2, 25] → Output: [5, 25, 25, -1]\n"
     ]
    }
   ],
   "source": [
    "def next_greater_element(arr):\n",
    "    n = len(arr)\n",
    "    result = [-1] * n  \n",
    "    stack = []         \n",
    "\n",
    "    for i in range(n - 1, -1, -1):\n",
    "\n",
    "        while stack and arr[stack[-1]] <= arr[i]:\n",
    "            stack.pop()\n",
    "        \n",
    "        if stack:\n",
    "            result[i] = arr[stack[-1]]\n",
    "\n",
    "        stack.append(i)\n",
    "    \n",
    "    return result\n",
    "\n",
    "input_array = [4, 5, 2, 25]\n",
    "output_array = next_greater_element(input_array)\n",
    "print(f\"Input: {input_array} → Output: {output_array}\")\n"
   ]
  },
  {
   "cell_type": "markdown",
   "metadata": {},
   "source": [
    " Implement a Stack Using Two Queues\n",
    "Design a stack using only two queues.\n"
   ]
  },
  {
   "cell_type": "code",
   "execution_count": 3,
   "metadata": {},
   "outputs": [
    {
     "name": "stdout",
     "output_type": "stream",
     "text": [
      "3\n",
      "3\n",
      "2\n",
      "False\n"
     ]
    }
   ],
   "source": [
    "from collections import deque\n",
    "\n",
    "class StackUsingQueues:\n",
    "    def __init__(self):\n",
    "        self.queue1 = deque() \n",
    "        self.queue2 = deque()  \n",
    "\n",
    "    def push(self, x):\n",
    "        self.queue2.append(x)\n",
    "        while self.queue1:\n",
    "            self.queue2.append(self.queue1.popleft())\n",
    "        self.queue1, self.queue2 = self.queue2, self.queue1\n",
    "\n",
    "    def pop(self):\n",
    "        if self.queue1:\n",
    "            return self.queue1.popleft()\n",
    "        return None\n",
    "\n",
    "    def top(self):\n",
    "       \n",
    "        if self.queue1:\n",
    "            return self.queue1[0]\n",
    "        return None\n",
    "\n",
    "    def empty(self):\n",
    "        return not self.queue1\n",
    "    \n",
    "stack = StackUsingQueues()\n",
    "stack.push(1)\n",
    "stack.push(2)\n",
    "stack.push(3)\n",
    "print(stack.top())   \n",
    "print(stack.pop())   \n",
    "print(stack.top())   \n",
    "print(stack.empty()) \n"
   ]
  },
  {
   "cell_type": "markdown",
   "metadata": {},
   "source": [
    " Decode a String\n",
    "Decode strings with a pattern like \"3[a2[c]]\" → Output: \"accaccacc\"\n"
   ]
  },
  {
   "cell_type": "markdown",
   "metadata": {},
   "source": []
  },
  {
   "cell_type": "code",
   "execution_count": 4,
   "metadata": {},
   "outputs": [
    {
     "name": "stdout",
     "output_type": "stream",
     "text": [
      "Input: \"3[a2[c]]\" → Output: \"accaccacc\"\n"
     ]
    }
   ],
   "source": [
    "def decode_string(s):\n",
    "    def helper(index):\n",
    "        result = \"\"\n",
    "        number = 0\n",
    "\n",
    "        while index < len(s):\n",
    "            char = s[index]\n",
    "\n",
    "            if char.isdigit():\n",
    "                number = number * 10 + int(char)\n",
    "            elif char == \"[\":\n",
    "                substring, index = helper(index + 1)\n",
    "                result += number * substring\n",
    "                number = 0\n",
    "            elif char == \"]\":\n",
    "                return result, index\n",
    "            else:\n",
    "                result += char\n",
    "            \n",
    "            index += 1\n",
    "\n",
    "        return result, index\n",
    "\n",
    "    decoded_string, _ = helper(0)\n",
    "    return decoded_string\n",
    "input_string = \"3[a2[c]]\"\n",
    "output_string = decode_string(input_string)\n",
    "print(f\"Input: \\\"{input_string}\\\" → Output: \\\"{output_string}\\\"\")\n"
   ]
  },
  {
   "cell_type": "markdown",
   "metadata": {},
   "source": [
    "Linked List \n"
   ]
  },
  {
   "cell_type": "markdown",
   "metadata": {},
   "source": [
    " Detect a Loop in a Linked List\n",
    "               Example: Input: 1 -> 2 -> 3 -> 4 -> 2 (loop) → Output: True"
   ]
  },
  {
   "cell_type": "code",
   "execution_count": 5,
   "metadata": {},
   "outputs": [
    {
     "name": "stdout",
     "output_type": "stream",
     "text": [
      "True\n"
     ]
    }
   ],
   "source": [
    "class ListNode:\n",
    "    def __init__(self, value=0, next=None):\n",
    "        self.value = value\n",
    "        self.next = next\n",
    "\n",
    "def hasCycle(head):\n",
    "    if not head:\n",
    "        return False\n",
    "\n",
    "    slow = head\n",
    "    fast = head\n",
    "\n",
    "    while fast and fast.next:\n",
    "        slow = slow.next         \n",
    "        fast = fast.next.next     \n",
    "\n",
    "        if slow == fast:          \n",
    "            return True\n",
    "\n",
    "    return False                 \n",
    "\n",
    "node1 = ListNode(1)\n",
    "node2 = ListNode(2)\n",
    "node3 = ListNode(3)\n",
    "node4 = ListNode(4)\n",
    "\n",
    "node1.next = node2\n",
    "node2.next = node3\n",
    "node3.next = node4\n",
    "node4.next = node2  \n",
    "print(hasCycle(node1))  "
   ]
  },
  {
   "cell_type": "markdown",
   "metadata": {},
   "source": [
    "Remove Duplicates from a Sorted Linked List\n",
    "Example: Input: 1 -> 1 -> 2 -> 3 -> 3 -> None → Output: 1 -> 2 -> 3 -> None\n"
   ]
  },
  {
   "cell_type": "code",
   "execution_count": 6,
   "metadata": {},
   "outputs": [
    {
     "name": "stdout",
     "output_type": "stream",
     "text": [
      "1 -> 2 -> 3 -> None\n"
     ]
    }
   ],
   "source": [
    "class ListNode:\n",
    "    def __init__(self, value=0, next=None):\n",
    "        self.value = value\n",
    "        self.next = next\n",
    "\n",
    "def deleteDuplicates(head):\n",
    "    current = head\n",
    "\n",
    "    while current and current.next:\n",
    "        if current.value == current.next.value:\n",
    "          \n",
    "            current.next = current.next.next\n",
    "        else:\n",
    "        \n",
    "            current = current.next\n",
    "\n",
    "    return head\n",
    "\n",
    "node1 = ListNode(1)\n",
    "node2 = ListNode(1)\n",
    "node3 = ListNode(2)\n",
    "node4 = ListNode(3)\n",
    "node5 = ListNode(3)\n",
    "\n",
    "node1.next = node2\n",
    "node2.next = node3\n",
    "node3.next = node4\n",
    "node4.next = node5\n",
    "\n",
    "new_head = deleteDuplicates(node1)\n",
    "current = new_head\n",
    "while current:\n",
    "    print(current.value, end=\" -> \")\n",
    "    current = current.next\n",
    "print(\"None\") "
   ]
  },
  {
   "cell_type": "markdown",
   "metadata": {},
   "source": [
    "Check if a Linked List is a Palindrome\n",
    "Example: Input: 1 -> 2 -> 3 -> 2 -> 1 → Output: True\n"
   ]
  },
  {
   "cell_type": "code",
   "execution_count": 7,
   "metadata": {},
   "outputs": [
    {
     "name": "stdout",
     "output_type": "stream",
     "text": [
      "True\n"
     ]
    }
   ],
   "source": [
    "class ListNode:\n",
    "    def __init__(self, value=0, next=None):\n",
    "        self.value = value\n",
    "        self.next = next\n",
    "\n",
    "def isPalindrome(head):\n",
    "    if not head or not head.next:\n",
    "        return True\n",
    "\n",
    "    slow = head\n",
    "    fast = head\n",
    "    while fast and fast.next:\n",
    "        slow = slow.next\n",
    "        fast = fast.next.next\n",
    "\n",
    "    prev = None\n",
    "    while slow:\n",
    "        next_node = slow.next\n",
    "        slow.next = prev\n",
    "        prev = slow\n",
    "        slow = next_node\n",
    "\n",
    "    left, right = head, prev\n",
    "    while right: \n",
    "        if left.value != right.value:\n",
    "            return False\n",
    "        left = left.next\n",
    "        right = right.next\n",
    "\n",
    "    return True\n",
    "\n",
    "node1 = ListNode(1)\n",
    "node2 = ListNode(2)\n",
    "node3 = ListNode(3)\n",
    "node4 = ListNode(2)\n",
    "node5 = ListNode(1)\n",
    "\n",
    "node1.next = node2\n",
    "node2.next = node3\n",
    "node3.next = node4\n",
    "node4.next = node5\n",
    "\n",
    "print(isPalindrome(node1)) "
   ]
  },
  {
   "cell_type": "markdown",
   "metadata": {},
   "source": [
    "Rotate a Linked List\n",
    "Example: Input: 1 -> 2 -> 3 -> 4 -> 5, k = 2 → Output: 4 -> 5 -> 1 -> 2 -> 3\n"
   ]
  },
  {
   "cell_type": "code",
   "execution_count": 8,
   "metadata": {},
   "outputs": [
    {
     "name": "stdout",
     "output_type": "stream",
     "text": [
      "4 -> 5 -> 1 -> 2 -> 3 -> None\n"
     ]
    }
   ],
   "source": [
    "class ListNode:\n",
    "    def __init__(self, value=0, next=None):\n",
    "        self.value = value\n",
    "        self.next = next\n",
    "\n",
    "def rotateRight(head, k):\n",
    "    if not head or not head.next or k == 0:\n",
    "        return head\n",
    "\n",
    "    length = 1\n",
    "    current = head\n",
    "    while current.next:\n",
    "        current = current.next\n",
    "        length += 1\n",
    "\n",
    "    k %= length\n",
    "    if k == 0:\n",
    "        return head\n",
    "    new_tail = head\n",
    "    for _ in range(length - k - 1):\n",
    "        new_tail = new_tail.next\n",
    "\n",
    "    new_head = new_tail.next\n",
    "    new_tail.next = None\n",
    "    current.next = head\n",
    "\n",
    "    return new_head\n",
    "\n",
    "node1 = ListNode(1)\n",
    "node1.next = ListNode(2)\n",
    "node1.next.next = ListNode(3)\n",
    "node1.next.next.next = ListNode(4)\n",
    "node1.next.next.next.next = ListNode(5)\n",
    "\n",
    "k = 2\n",
    "new_head = rotateRight(node1, k)\n",
    "\n",
    "current = new_head\n",
    "while current:\n",
    "    print(current.value, end=\" -> \")\n",
    "    current = current.next\n",
    "print(\"None\")"
   ]
  },
  {
   "cell_type": "markdown",
   "metadata": {},
   "source": [
    ".Add Two Numbers Represented by Linked Lists\n",
    "Example: Input: 7 -> 1 -> 6 (617) and 5 -> 9 -> 2 (295) → Output: 2 -> 1 -> 9 (912) \n"
   ]
  },
  {
   "cell_type": "code",
   "execution_count": 9,
   "metadata": {},
   "outputs": [
    {
     "name": "stdout",
     "output_type": "stream",
     "text": [
      "2 -> 1 -> 9 -> None\n"
     ]
    }
   ],
   "source": [
    "class ListNode:\n",
    "    def __init__(self, value=0, next=None):\n",
    "        self.value = value\n",
    "        self.next = next\n",
    "\n",
    "def addTwoNumbers(l1, l2):\n",
    "    dummy_head = ListNode(0) \n",
    "    current = dummy_head\n",
    "    carry = 0\n",
    "\n",
    "    while l1 or l2 or carry:\n",
    "        val1 = l1.value if l1 else 0\n",
    "        val2 = l2.value if l2 else 0\n",
    "        \n",
    "        total = val1 + val2 + carry\n",
    "        carry = total // 10  \n",
    "        current.next = ListNode(total % 10)  \n",
    "        current = current.next \n",
    "\n",
    "        if l1:\n",
    "            l1 = l1.next\n",
    "        if l2:\n",
    "            l2 = l2.next\n",
    "\n",
    "    return dummy_head.next  \n",
    "\n",
    "l1 = ListNode(7)\n",
    "l1.next = ListNode(1)\n",
    "l1.next.next = ListNode(6)\n",
    "\n",
    "l2 = ListNode(5)\n",
    "l2.next = ListNode(9)\n",
    "l2.next.next = ListNode(2)\n",
    "\n",
    "result = addTwoNumbers(l1, l2)\n",
    "current = result\n",
    "while current:\n",
    "    print(current.value, end=\" -> \")\n",
    "    current = current.next\n",
    "print(\"None\")  "
   ]
  }
 ],
 "metadata": {
  "kernelspec": {
   "display_name": "Python 3",
   "language": "python",
   "name": "python3"
  },
  "language_info": {
   "codemirror_mode": {
    "name": "ipython",
    "version": 3
   },
   "file_extension": ".py",
   "mimetype": "text/x-python",
   "name": "python",
   "nbconvert_exporter": "python",
   "pygments_lexer": "ipython3",
   "version": "3.13.1"
  }
 },
 "nbformat": 4,
 "nbformat_minor": 2
}
