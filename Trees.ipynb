{
 "cells": [
  {
   "cell_type": "markdown",
   "metadata": {},
   "source": [
    "Binary Tree Inorder Traversal\n",
    "Write a function to perform an inorder traversal of a binary tree and return the list of values.\n",
    "Input:\n",
    "\n",
    "   1\n",
    "     \\\n",
    "      2\n",
    "     /\n",
    "    3\n",
    "\n",
    "Output: [1, 3, 2]\n",
    "\n"
   ]
  },
  {
   "cell_type": "code",
   "execution_count": 1,
   "metadata": {},
   "outputs": [
    {
     "name": "stdout",
     "output_type": "stream",
     "text": [
      "[1, 3, 2]\n"
     ]
    }
   ],
   "source": [
    "class TreeNode:\n",
    "    def __init__(self, val=0, left=None, right=None):\n",
    "        self.val = val\n",
    "        self.left = left\n",
    "        self.right = right\n",
    "\n",
    "def inorder_traversal(root):\n",
    "    result = []\n",
    "\n",
    "    def traverse(node):\n",
    "        if not node:\n",
    "            return\n",
    "        traverse(node.left)\n",
    "        result.append(node.val)\n",
    "        traverse(node.right)\n",
    "\n",
    "    traverse(root)\n",
    "    return result\n",
    "root = TreeNode(1)\n",
    "root.right = TreeNode(2)\n",
    "root.right.left = TreeNode(3)\n",
    "\n",
    "print(inorder_traversal(root))  \n"
   ]
  },
  {
   "cell_type": "markdown",
   "metadata": {},
   "source": [
    " Maximum Depth of a Binary Tree\n",
    "\n",
    "Write a function to find the maximum depth of a binary tree.\n",
    "\n",
    "\n",
    "    3\n",
    "   / \\\n",
    "  9  20\n",
    "     /  \\\n",
    "    15   7\n",
    "Output: 3\n"
   ]
  },
  {
   "cell_type": "code",
   "execution_count": 2,
   "metadata": {},
   "outputs": [
    {
     "name": "stdout",
     "output_type": "stream",
     "text": [
      "3\n"
     ]
    }
   ],
   "source": [
    "class TreeNode:\n",
    "    def __init__(self, val=0, left=None, right=None):\n",
    "        self.val = val\n",
    "        self.left = left\n",
    "        self.right = right\n",
    "\n",
    "def max_depth(root):\n",
    "    if not root:\n",
    "        return 0\n",
    "    left_depth = max_depth(root.left)\n",
    "    right_depth = max_depth(root.right)\n",
    "    return max(left_depth, right_depth) + 1\n",
    "\n",
    "root = TreeNode(3)\n",
    "root.left = TreeNode(9)\n",
    "root.right = TreeNode(20)\n",
    "root.right.left = TreeNode(15)\n",
    "root.right.right = TreeNode(7)\n",
    "\n",
    "print(max_depth(root)) \n"
   ]
  },
  {
   "cell_type": "markdown",
   "metadata": {},
   "source": [
    ".Check if Two Trees are Identical\n",
    "\n",
    "Write a function to check if two binary trees are identical. Two binary trees are identical if they have the same structure and node values.\n",
    "Input:\n",
    "\n",
    "Tree 1:    1       Tree 2:    1\n",
    "          / \\                 / \\\n",
    "         2   3               2   3\n",
    "Output: True\n"
   ]
  },
  {
   "cell_type": "code",
   "execution_count": 3,
   "metadata": {},
   "outputs": [
    {
     "name": "stdout",
     "output_type": "stream",
     "text": [
      "True\n"
     ]
    }
   ],
   "source": [
    "class TreeNode:\n",
    "    def __init__(self, val=0, left=None, right=None):\n",
    "        self.val = val\n",
    "        self.left = left\n",
    "        self.right = right\n",
    "\n",
    "def are_trees_identical(tree1, tree2):\n",
    "    if not tree1 and not tree2:\n",
    "        return True  \n",
    "    if not tree1 or not tree2:\n",
    "        return False  \n",
    "    if tree1.val != tree2.val:\n",
    "        return False  \n",
    "    \n",
    "    return are_trees_identical(tree1.left, tree2.left) and are_trees_identical(tree1.right, tree2.right)\n",
    "\n",
    "tree1 = TreeNode(1)\n",
    "tree1.left = TreeNode(2)\n",
    "tree1.right = TreeNode(3)\n",
    "\n",
    "tree2 = TreeNode(1)\n",
    "tree2.left = TreeNode(2)\n",
    "tree2.right = TreeNode(3)\n",
    "\n",
    "print(are_trees_identical(tree1, tree2)) \n"
   ]
  },
  {
   "cell_type": "markdown",
   "metadata": {},
   "source": [
    "Level Order Traversal\n",
    "Write a function to perform a level-order (breadth-first) traversal of a binary tree.\n",
    "Input:\n",
    "\n",
    "   1\n",
    "   / \\\n",
    "  2   3\n",
    " / \\\n",
    "4   5\n",
    "\n",
    "Output: [[1], [2, 3], [4, 5]]\n"
   ]
  },
  {
   "cell_type": "code",
   "execution_count": 4,
   "metadata": {},
   "outputs": [
    {
     "name": "stdout",
     "output_type": "stream",
     "text": [
      "[[1], [2, 3], [4, 5]]\n"
     ]
    }
   ],
   "source": [
    "from collections import deque\n",
    "\n",
    "class TreeNode:\n",
    "    def __init__(self, val=0, left=None, right=None):\n",
    "        self.val = val\n",
    "        self.left = left\n",
    "        self.right = right\n",
    "\n",
    "def level_order_traversal(root):\n",
    "    if not root:\n",
    "        return []\n",
    "\n",
    "    result = []\n",
    "    queue = deque([root])  \n",
    "\n",
    "    while queue:\n",
    "        level = []  \n",
    "        for _ in range(len(queue)):\n",
    "            node = queue.popleft()  \n",
    "            level.append(node.val)\n",
    "            if node.left:\n",
    "                queue.append(node.left)  \n",
    "            if node.right:\n",
    "                queue.append(node.right)  \n",
    "        result.append(level)  \n",
    "\n",
    "    return result\n",
    "root = TreeNode(1)\n",
    "root.left = TreeNode(2)\n",
    "root.right = TreeNode(3)\n",
    "root.left.left = TreeNode(4)\n",
    "root.left.right = TreeNode(5)\n",
    "\n",
    "print(level_order_traversal(root))  \n"
   ]
  },
  {
   "cell_type": "markdown",
   "metadata": {},
   "source": [
    "Diameter of a Binary Tree\n",
    "Write a function to find the diameter (longest path between two nodes) of a binary tree.\n",
    "Input:\n",
    "\n",
    "   1\n",
    "   / \\\n",
    "  2   3\n",
    " / \\\n",
    "4   5\n",
    "\n",
    "Output: 3 (Path is 4 -> 2 -> 5 or 4 -> 2 -> 1 -> 3)\n"
   ]
  },
  {
   "cell_type": "code",
   "execution_count": 5,
   "metadata": {},
   "outputs": [
    {
     "name": "stdout",
     "output_type": "stream",
     "text": [
      "3\n"
     ]
    }
   ],
   "source": [
    "class TreeNode:\n",
    "    def __init__(self, val=0, left=None, right=None):\n",
    "        self.val = val\n",
    "        self.left = left\n",
    "        self.right = right\n",
    "\n",
    "def diameter_of_binary_tree(root):\n",
    "    diameter = 0\n",
    "\n",
    "    def depth(node):\n",
    "        nonlocal diameter\n",
    "        if not node:\n",
    "            return 0\n",
    "        \n",
    "        left_depth = depth(node.left)\n",
    "        right_depth = depth(node.right)\n",
    "\n",
    "        diameter = max(diameter, left_depth + right_depth)\n",
    "        return max(left_depth, right_depth) + 1\n",
    "\n",
    "    depth(root)\n",
    "    return diameter\n",
    "\n",
    "root = TreeNode(1)\n",
    "root.left = TreeNode(2)\n",
    "root.right = TreeNode(3)\n",
    "root.left.left = TreeNode(4)\n",
    "root.left.right = TreeNode(5)\n",
    "\n",
    "print(diameter_of_binary_tree(root))  \n"
   ]
  }
 ],
 "metadata": {
  "kernelspec": {
   "display_name": "Python 3",
   "language": "python",
   "name": "python3"
  },
  "language_info": {
   "codemirror_mode": {
    "name": "ipython",
    "version": 3
   },
   "file_extension": ".py",
   "mimetype": "text/x-python",
   "name": "python",
   "nbconvert_exporter": "python",
   "pygments_lexer": "ipython3",
   "version": "3.13.1"
  }
 },
 "nbformat": 4,
 "nbformat_minor": 2
}
