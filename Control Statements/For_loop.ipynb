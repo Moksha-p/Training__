{
 "cells": [
  {
   "cell_type": "markdown",
   "metadata": {},
   "source": [
    "# 2. For Loop"
   ]
  },
  {
   "cell_type": "markdown",
   "metadata": {},
   "source": [
    "### Write a Python function to generate the Fibonacci series up to a given number of terms."
   ]
  },
  {
   "cell_type": "code",
   "execution_count": 8,
   "metadata": {},
   "outputs": [
    {
     "name": "stdout",
     "output_type": "stream",
     "text": [
      "Fibonacci series for given range is [0, 1, 1, 2, 3]\n"
     ]
    }
   ],
   "source": [
    "def fibonacci(n):\n",
    "    if n == 1:\n",
    "        return [0]\n",
    "    elif n == 2:\n",
    "        return [0, 1]\n",
    "    series = [0]* n\n",
    "    series[0], series[1] = 0, 1\n",
    "    for i in range(2, n):\n",
    "        series[i] = series[i-1] + series[i-2]\n",
    "    return series\n",
    "\n",
    "print(f\"Fibonacci series for given range is {fibonacci(5)}\")"
   ]
  },
  {
   "cell_type": "markdown",
   "metadata": {},
   "source": [
    "### Write a Python program to find the longest increasing subsequence in a given list of numbers."
   ]
  },
  {
   "cell_type": "code",
   "execution_count": 9,
   "metadata": {},
   "outputs": [
    {
     "name": "stdout",
     "output_type": "stream",
     "text": [
      "Longest increasing subsequence for given list is [10, 22, 33, 41, 60, 80]\n"
     ]
    }
   ],
   "source": [
    "def longest_increasing_subsequence(lst):\n",
    "    def lis_helper(subsequence, remaining):\n",
    "        if not remaining:\n",
    "            return subsequence\n",
    "        if not subsequence or remaining[0] > subsequence[-1]:\n",
    "            include = lis_helper(subsequence + [remaining[0]], remaining[1:])\n",
    "        else:\n",
    "            include = subsequence\n",
    "        exclude = lis_helper(subsequence, remaining[1:])\n",
    "        return include if len(include) > len(exclude) else exclude\n",
    "\n",
    "    return lis_helper([], lst)\n",
    "\n",
    "print(f\"Longest increasing subsequence for given list is {longest_increasing_subsequence([10, 22, 9, 33, 21, 50, 41, 60, 80])}\")"
   ]
  }
 ],
 "metadata": {
  "kernelspec": {
   "display_name": "base",
   "language": "python",
   "name": "python3"
  },
  "language_info": {
   "codemirror_mode": {
    "name": "ipython",
    "version": 3
   },
   "file_extension": ".py",
   "mimetype": "text/x-python",
   "name": "python",
   "nbconvert_exporter": "python",
   "pygments_lexer": "ipython3",
   "version": "3.9.13"
  }
 },
 "nbformat": 4,
 "nbformat_minor": 2
}
