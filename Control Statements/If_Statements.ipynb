{
 "cells": [
  {
   "cell_type": "markdown",
   "metadata": {},
   "source": [
    "# 1. If Statements"
   ]
  },
  {
   "cell_type": "markdown",
   "metadata": {},
   "source": [
    "### Write a Python program to classify a given year as a leap year or a non-leap year."
   ]
  },
  {
   "cell_type": "code",
   "execution_count": 1,
   "metadata": {},
   "outputs": [
    {
     "name": "stdout",
     "output_type": "stream",
     "text": [
      "The given year is : Leap Year\n"
     ]
    }
   ],
   "source": [
    "def is_leap_year(year):\n",
    "    if (year % 4 == 0 and year % 100 != 0) or (year % 400 == 0):\n",
    "        return \"Leap Year\"\n",
    "    return \"Non-Leap Year\"\n",
    "\n",
    "print(f\"The given year is : {is_leap_year(2020)}\")"
   ]
  },
  {
   "cell_type": "markdown",
   "metadata": {},
   "source": [
    "### Write a Python program to solve a quadratic equation (ax^2 + bx + c = 0) and classify the roots as real, complex, or equal"
   ]
  },
  {
   "cell_type": "code",
   "execution_count": 2,
   "metadata": {},
   "outputs": [
    {
     "name": "stdout",
     "output_type": "stream",
     "text": [
      "The result is : Real roots: 2.0, 1.0\n"
     ]
    }
   ],
   "source": [
    "def solve_quadratic(a, b, c):\n",
    "    discriminant = b**2 - 4*a*c\n",
    "    if discriminant == 0:\n",
    "        root = -b / (2 * a)\n",
    "        return f\"Equal roots: {root}\"\n",
    "    elif discriminant > 0:\n",
    "        root1 = (-b + discriminant**0.5) / (2 * a)\n",
    "        root2 = (-b - discriminant**0.5) / (2 * a)\n",
    "        return f\"Real roots: {root1}, {root2}\"\n",
    "    else:\n",
    "        real_part = -b / (2 * a)\n",
    "        imaginary_part = (abs(discriminant)**0.5) / (2 * a)\n",
    "        return f\"Complex roots: {real_part} + {imaginary_part}i, {real_part} - {imaginary_part}i\"\n",
    "\n",
    "print(f\"The result is : {solve_quadratic(1, -3 , 2)}\")"
   ]
  }
 ],
 "metadata": {
  "kernelspec": {
   "display_name": "base",
   "language": "python",
   "name": "python3"
  },
  "language_info": {
   "codemirror_mode": {
    "name": "ipython",
    "version": 3
   },
   "file_extension": ".py",
   "mimetype": "text/x-python",
   "name": "python",
   "nbconvert_exporter": "python",
   "pygments_lexer": "ipython3",
   "version": "3.9.13"
  }
 },
 "nbformat": 4,
 "nbformat_minor": 2
}
