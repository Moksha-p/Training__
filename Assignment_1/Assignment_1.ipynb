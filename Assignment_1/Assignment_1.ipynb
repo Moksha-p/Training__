{
 "cells": [
  {
   "cell_type": "markdown",
   "metadata": {},
   "source": [
    "# Class Definition and Object Instantiation"
   ]
  },
  {
   "cell_type": "markdown",
   "metadata": {},
   "source": [
    "### 1. Create a class to represent a Student with attributes like name, age, and grades."
   ]
  },
  {
   "cell_type": "code",
   "execution_count": 5,
   "metadata": {},
   "outputs": [
    {
     "name": "stdout",
     "output_type": "stream",
     "text": [
      "Name: \"Alice\", age: 20, grades: [90, 85, 88]\n"
     ]
    }
   ],
   "source": [
    "class Student:\n",
    "    def __init__(self, name, age, grades):\n",
    "        self.name = name\n",
    "        self.age = age\n",
    "        self.grades = grades\n",
    "    \n",
    "    def student_info(self):\n",
    "        print(f'Name: \"{self.name}\", age: {self.age}, grades: {self.grades}')\n",
    "\n",
    "student1 = Student(\"Alice\", 20, [90, 85, 88])\n",
    "student1.student_info()\n",
    "    "
   ]
  },
  {
   "cell_type": "markdown",
   "metadata": {},
   "source": [
    "# 2. Given a CSV file with employee details (name, position, salary), create a class to represent an Employee."
   ]
  },
  {
   "cell_type": "code",
   "execution_count": 6,
   "metadata": {},
   "outputs": [
    {
     "name": "stdout",
     "output_type": "stream",
     "text": [
      "Employee(name='John Doe', position='Manager', salary=75000)\n",
      "Employee(name='Jane Smith', position='Engineer', salary=80000)\n"
     ]
    }
   ],
   "source": [
    "class Employee:\n",
    "    def __init__(self, name, position, salary):\n",
    "        self.name = name\n",
    "        self.position = position\n",
    "        self.salary = salary\n",
    "    \n",
    "    def __repr__(self):\n",
    "        return f\"Employee(name='{self.name}', position='{self.position}', salary={self.salary})\"\n",
    "\n",
    "file_content = [[\"John Doe\", \"Manager\", 75000],[\"Jane Smith\", \"Engineer\", 80000]]\n",
    "    \n",
    "for emp in file_content:\n",
    "    print(Employee(name = emp[0],position = emp[1], salary = emp[2]))\n"
   ]
  },
  {
   "cell_type": "markdown",
   "metadata": {},
   "source": [
    "### Implement a program that simulates a basic bank account using a BankAccount class."
   ]
  },
  {
   "cell_type": "code",
   "execution_count": 11,
   "metadata": {},
   "outputs": [
    {
     "name": "stdout",
     "output_type": "stream",
     "text": [
      "account_number='12345678', balance=1000)\n",
      "Deposited 200. New balance: 1200\n",
      "Withdrew 300. New balance: 900\n"
     ]
    }
   ],
   "source": [
    "class BankAccount:\n",
    "    def __init__(self, account_number, balance):\n",
    "        self.account_number = account_number\n",
    "        self.balance = balance\n",
    "        \n",
    "    def __repr__(self):\n",
    "        return f\"account_number='{self.account_number}', balance={self.balance})\"\n",
    "\n",
    "        \n",
    "    def deposit(self, amount):\n",
    "    \n",
    "        if amount <= 0:\n",
    "            return \"Deposit amount must be greater than zero.\"\n",
    "        self.balance += amount\n",
    "        return f\"Deposited {amount}. New balance: {self.balance}\"\n",
    "\n",
    "    def withdraw(self, amount):\n",
    "       \n",
    "        if amount <= 0:\n",
    "            return \"Withdrawal amount must be greater than zero.\"\n",
    "        if amount > self.balance:\n",
    "            return \"Insufficient balance.\"\n",
    "        self.balance -= amount\n",
    "        return f\"Withdrew {amount}. New balance: {self.balance}\"\n",
    "\n",
    "account = BankAccount(\"12345678\", 1000)\n",
    "print(account)\n",
    "print(account.deposit(200))  \n",
    "print(account.withdraw(300))\n",
    "\n",
    "  "
   ]
  },
  {
   "cell_type": "markdown",
   "metadata": {},
   "source": [
    "### 4. Write a Python program that uses a Rectangle class to calculate the area and\n",
    "perimeter of a rectangle."
   ]
  },
  {
   "cell_type": "code",
   "execution_count": 13,
   "metadata": {},
   "outputs": [
    {
     "name": "stdout",
     "output_type": "stream",
     "text": [
      "area: 24, perimeter: 48\n"
     ]
    }
   ],
   "source": [
    "class Rectangle:\n",
    "    def __init__(self, length, width):\n",
    "        self.length = length\n",
    "        self.width = width\n",
    "    \n",
    "    def perimeter(self):\n",
    "        return 2 * self.length * self.width\n",
    "    \n",
    "    def area(self):\n",
    "        return self.length * self.width\n",
    "    \n",
    "rectangle = Rectangle(4,6)\n",
    "print(f\"area: {rectangle.area()}, perimeter: {rectangle.perimeter()}\")\n",
    "        "
   ]
  },
  {
   "cell_type": "markdown",
   "metadata": {},
   "source": [
    "### 5. Create a class to represent a Car with attributes like make, model, and year."
   ]
  },
  {
   "cell_type": "code",
   "execution_count": 14,
   "metadata": {},
   "outputs": [
    {
     "name": "stdout",
     "output_type": "stream",
     "text": [
      "make: \"Toyota\", model: \"Camry\", year: 2020\n"
     ]
    }
   ],
   "source": [
    "class Car:\n",
    "    def __init__(self, make, model, year):\n",
    "        self.make = make\n",
    "        self.model = model\n",
    "        self.year = year\n",
    "        \n",
    "    def __repr__(self):\n",
    "        return f'make: \"{self.make}\", model: \"{self.model}\", year: {self.year}'\n",
    "car = Car(make = \"Toyota\", model = \"Camry\", year = 2020)\n",
    "print(car)"
   ]
  },
  {
   "cell_type": "markdown",
   "metadata": {},
   "source": [
    "### 6.  Given a JSON file with customer data, create a Customer class to store and manipulate the data."
   ]
  },
  {
   "cell_type": "code",
   "execution_count": 21,
   "metadata": {},
   "outputs": [
    {
     "name": "stdout",
     "output_type": "stream",
     "text": [
      "Customer(name='John Doe', email='john.doe@example.com')\n"
     ]
    }
   ],
   "source": [
    "import json\n",
    "\n",
    "class Customer:\n",
    "    def __init__(self, name, email):\n",
    "        self.name = name\n",
    "        self.email = email\n",
    "\n",
    "    def read_data_from_json(json_content):\n",
    "        data = json.loads(json_content)\n",
    "        return Customer(name=data.get(\"name\"), email=data.get(\"email\"))\n",
    "\n",
    "    def __repr__(self):\n",
    "        return f\"Customer(name='{self.name}', email='{self.email}')\"\n",
    "\n",
    "json_file_content = '{\"name\": \"John Doe\", \"email\": \"john.doe@example.com\"}'\n",
    "customer = Customer.read_data_from_json(json_file_content)\n",
    "print(customer)"
   ]
  },
  {
   "cell_type": "markdown",
   "metadata": {},
   "source": [
    "### 7. Write a program that uses a Person class to keep track of a person's name, age, and address."
   ]
  },
  {
   "cell_type": "code",
   "execution_count": 23,
   "metadata": {},
   "outputs": [
    {
     "name": "stdout",
     "output_type": "stream",
     "text": [
      "Name: John Doe, Age: 30, Address: 123 Main St\n",
      "Updated -> Name: Jane Smith, Age: 28, Address: 456 Elm St\n",
      "Person(name='Jane Smith', age=28, address='456 Elm St')\n"
     ]
    }
   ],
   "source": [
    "class Person:\n",
    "    def __init__(self, name, age, address):\n",
    "      \n",
    "        self._name = name  # Private attribute\n",
    "        self._age = age    # Private attribute\n",
    "        self._address = address  # Private attribute\n",
    "\n",
    "    # Getter for name\n",
    "    @property\n",
    "    def name(self):\n",
    "        return self._name\n",
    "\n",
    "    # Setter for name\n",
    "    @name.setter\n",
    "    def name(self, new_name):\n",
    "        if isinstance(new_name, str) and new_name.strip():\n",
    "            self._name = new_name\n",
    "        else:\n",
    "            raise ValueError(\"Name must be a non-empty string.\")\n",
    "\n",
    "    # Getter for age\n",
    "    @property\n",
    "    def age(self):\n",
    "        return self._age\n",
    "\n",
    "    # Setter for age\n",
    "    @age.setter\n",
    "    def age(self, new_age):\n",
    "        if isinstance(new_age, int) and new_age > 0:\n",
    "            self._age = new_age\n",
    "        else:\n",
    "            raise ValueError(\"Age must be a positive integer.\")\n",
    "\n",
    "    # Getter for address\n",
    "    @property\n",
    "    def address(self):\n",
    "        return self._address\n",
    "\n",
    "    # Setter for address\n",
    "    @address.setter\n",
    "    def address(self, new_address):\n",
    "        if isinstance(new_address, str) and new_address.strip():\n",
    "            self._address = new_address\n",
    "        else:\n",
    "            raise ValueError(\"Address must be a non-empty string.\")\n",
    "\n",
    "    def __repr__(self):\n",
    "       \n",
    "        return f\"Person(name='{self._name}', age={self._age}, address='{self._address}')\"\n",
    "\n",
    "\n",
    "person = Person(\"John Doe\", 30, \"123 Main St\")\n",
    "\n",
    "\n",
    "print(f\"Name: {person.name}, Age: {person.age}, Address: {person.address}\")\n",
    "\n",
    "# Update attributes \n",
    "person.name = \"Jane Smith\"\n",
    "person.age = 28\n",
    "person.address = \"456 Elm St\"\n",
    "\n",
    "# Display updated attributes\n",
    "print(f\"Updated -> Name: {person.name}, Age: {person.age}, Address: {person.address}\")\n",
    "\n",
    "# Print full object\n",
    "print(person)\n"
   ]
  },
  {
   "cell_type": "markdown",
   "metadata": {},
   "source": [
    "### 8. Implement a program that uses a Circle class to calculate the area and circumference of multiple circles."
   ]
  },
  {
   "cell_type": "code",
   "execution_count": 25,
   "metadata": {},
   "outputs": [
    {
     "name": "stdout",
     "output_type": "stream",
     "text": [
      "Area: 50.27, Circumference: 25.13\n"
     ]
    }
   ],
   "source": [
    "import math  \n",
    "\n",
    "class Circle:\n",
    "    def __init__(self, radius):\n",
    "        self.radius = radius\n",
    "\n",
    "    def calculate_area(self):\n",
    " \n",
    "        return math.pi * (self.radius ** 2)\n",
    "\n",
    "    def calculate_circumference(self):\n",
    "        return 2 * math.pi * self.radius\n",
    "\n",
    "circle = Circle(4)\n",
    "    \n",
    "\n",
    "area = circle.calculate_area()\n",
    "circumference = circle.calculate_circumference()\n",
    "\n",
    "print(f\"Area: {area:.2f}, Circumference: {circumference:.2f}\")\n"
   ]
  },
  {
   "cell_type": "markdown",
   "metadata": {},
   "source": [
    "### 9. Given a CSV file with product details (name, price, quantity), create a Product class to manage the data."
   ]
  },
  {
   "cell_type": "code",
   "execution_count": 27,
   "metadata": {},
   "outputs": [
    {
     "name": "stdout",
     "output_type": "stream",
     "text": [
      "Product(name=\"Laptop\", price=1000, quantity=5)\n",
      "Product(name=\"Phone\", price=500, quantity=10)\n"
     ]
    }
   ],
   "source": [
    "class Product:\n",
    "    def __init__(self, name, price, quantity):\n",
    "        self.name = name\n",
    "        self.price = price\n",
    "        self.quantity = quantity\n",
    "\n",
    "    def __repr__(self):\n",
    "        return f'Product(name=\"{self.name}\", price={self.price}, quantity={self.quantity})'\n",
    "\n",
    "# Test case (CSV parsing)\n",
    "product_file_data = [[\"Laptop\", 1000, 5], [\"Phone\", 500, 10]]\n",
    "\n",
    "for prod in product_file_data:\n",
    "    print(Product(name = prod[0], price = prod[1],quantity = prod[2]))"
   ]
  },
  {
   "cell_type": "markdown",
   "metadata": {},
   "source": [
    "### 10. Create a class to represent a Movie with attributes like title, director, and rating."
   ]
  },
  {
   "cell_type": "code",
   "execution_count": 28,
   "metadata": {},
   "outputs": [
    {
     "name": "stdout",
     "output_type": "stream",
     "text": [
      "title: \"Inception\", director: \"Christopher Nolan\", rating: 8.8\n"
     ]
    }
   ],
   "source": [
    "class Movie:\n",
    "    def __init__(self, title, director, rating):\n",
    "        self.title = title\n",
    "        self.director = director\n",
    "        self.rating = rating\n",
    "\n",
    "    def __repr__(self):\n",
    "        return f'title: \"{self.title}\", director: \"{self.director}\", rating: {self.rating}'\n",
    "\n",
    "movie = Movie(title=\"Inception\", director=\"Christopher Nolan\", rating=8.8)\n",
    "print(movie)"
   ]
  },
  {
   "cell_type": "markdown",
   "metadata": {},
   "source": [
    "# Class Hierarchies and Inheritance"
   ]
  },
  {
   "cell_type": "markdown",
   "metadata": {},
   "source": [
    "### 1. Create a base class Shape with methods to calculate area and perimeter, and derive classes Circle and Square."
   ]
  },
  {
   "cell_type": "code",
   "execution_count": 31,
   "metadata": {},
   "outputs": [
    {
     "name": "stdout",
     "output_type": "stream",
     "text": [
      "Circle area: 50.27, Circle perimeter: 25.13\n",
      "Square area: 25, Square perimeter: 20\n"
     ]
    }
   ],
   "source": [
    "\n",
    "class Shape:\n",
    "    def area(self):\n",
    "        pass\n",
    "\n",
    "    def perimeter(self):\n",
    "        pass\n",
    "\n",
    "\n",
    "class Circle(Shape):\n",
    "    def __init__(self, radius):\n",
    "        self.radius = radius\n",
    "\n",
    "    def area(self):\n",
    "        return math.pi * self.radius ** 2\n",
    "\n",
    "    def perimeter(self):\n",
    "        return 2 * math.pi * self.radius\n",
    "\n",
    "\n",
    "\n",
    "class Square(Shape):\n",
    "    def __init__(self, side):\n",
    "        self.side = side\n",
    "\n",
    "    def area(self):\n",
    "        return self.side ** 2\n",
    "\n",
    "    def perimeter(self):\n",
    "        return 4 * self.side\n",
    "\n",
    "circle = Circle(radius=4)\n",
    "square = Square(side=5)\n",
    "\n",
    "# Calculate and output the area and perimeter for Circle\n",
    "circle_area = circle.area()\n",
    "circle_perimeter = circle.perimeter()\n",
    "print(f\"Circle area: {circle_area:.2f}, Circle perimeter: {circle_perimeter:.2f}\")\n",
    "\n",
    "# Calculate and output the area and perimeter for Square\n",
    "square_area = square.area()\n",
    "square_perimeter = square.perimeter()\n",
    "print(f\"Square area: {square_area}, Square perimeter: {square_perimeter}\")\n"
   ]
  },
  {
   "cell_type": "markdown",
   "metadata": {},
   "source": [
    "### 2. Implement a class hierarchy to represent different types of employees (Manager,Engineer) with their attributes"
   ]
  }
 ],
 "metadata": {
  "kernelspec": {
   "display_name": "base",
   "language": "python",
   "name": "python3"
  },
  "language_info": {
   "codemirror_mode": {
    "name": "ipython",
    "version": 3
   },
   "file_extension": ".py",
   "mimetype": "text/x-python",
   "name": "python",
   "nbconvert_exporter": "python",
   "pygments_lexer": "ipython3",
   "version": "3.9.13"
  }
 },
 "nbformat": 4,
 "nbformat_minor": 2
}
