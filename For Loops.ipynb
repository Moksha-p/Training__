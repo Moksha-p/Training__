{
 "cells": [
  {
   "cell_type": "markdown",
   "metadata": {},
   "source": [
    "Write a Python function to generate the Fibonacci series up to a given number of terms."
   ]
  },
  {
   "cell_type": "code",
   "execution_count": 1,
   "metadata": {},
   "outputs": [
    {
     "name": "stdout",
     "output_type": "stream",
     "text": [
      "[0, 1, 1, 2, 3]\n"
     ]
    }
   ],
   "source": [
    "def fibonacci_series(terms):\n",
    "    if terms <= 0:\n",
    "        return []\n",
    "    fib = [0, 1]\n",
    "    for _ in range(2, terms):\n",
    "        fib.append(fib[-1] + fib[-2])\n",
    "    return fib[:terms]\n",
    "\n",
    "terms = 5\n",
    "print(fibonacci_series(terms))  \n"
   ]
  },
  {
   "cell_type": "markdown",
   "metadata": {},
   "source": [
    "2.Write a Python program to find the longest increasing subsequence in a given list of\n",
    "numbers"
   ]
  },
  {
   "cell_type": "code",
   "execution_count": 2,
   "metadata": {},
   "outputs": [
    {
     "name": "stdout",
     "output_type": "stream",
     "text": [
      "[10, 22, 33, 50, 60, 80]\n"
     ]
    }
   ],
   "source": [
    "def lis(nums):\n",
    "    n = len(nums)\n",
    "    dp = [1] * n\n",
    "    prev = [-1] * n\n",
    "\n",
    "    for i in range(n):\n",
    "        for j in range(i):\n",
    "            if nums[i] > nums[j] and dp[i] < dp[j] + 1:\n",
    "                dp[i], prev[i] = dp[j] + 1, j\n",
    "\n",
    "    lis, idx = [], dp.index(max(dp))\n",
    "    while idx != -1:\n",
    "        lis.append(nums[idx])\n",
    "        idx = prev[idx]\n",
    "\n",
    "    return lis[::-1]\n",
    "\n",
    "nums = [10, 22, 9, 33, 21, 50, 41, 60, 80]\n",
    "print(lis(nums))  \n"
   ]
  }
 ],
 "metadata": {
  "kernelspec": {
   "display_name": "Python 3",
   "language": "python",
   "name": "python3"
  },
  "language_info": {
   "codemirror_mode": {
    "name": "ipython",
    "version": 3
   },
   "file_extension": ".py",
   "mimetype": "text/x-python",
   "name": "python",
   "nbconvert_exporter": "python",
   "pygments_lexer": "ipython3",
   "version": "3.13.1"
  }
 },
 "nbformat": 4,
 "nbformat_minor": 2
}
