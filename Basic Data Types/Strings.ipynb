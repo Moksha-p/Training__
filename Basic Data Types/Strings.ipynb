{
 "cells": [
  {
   "cell_type": "markdown",
   "metadata": {},
   "source": [
    "# 2.Strings\n"
   ]
  },
  {
   "cell_type": "markdown",
   "metadata": {},
   "source": [
    "###  Write a Python function to find the longest word in a given sentence."
   ]
  },
  {
   "cell_type": "code",
   "execution_count": 1,
   "metadata": {},
   "outputs": [
    {
     "name": "stdout",
     "output_type": "stream",
     "text": [
      "The Longest word in the provided sentense is : quick\n"
     ]
    }
   ],
   "source": [
    "# Find Longest words\n",
    "def find_longest_word(sentence):\n",
    "    words = sentence.split()\n",
    "    longest_word = \"\"\n",
    "    for word in words:\n",
    "        if len(word) > len(longest_word):\n",
    "            longest_word = word\n",
    "    return longest_word\n",
    "\n",
    "print(f'The Longest word in the provided sentense is : {find_longest_word(\"The quick brown fox jumps over the lazy dog\")}')"
   ]
  },
  {
   "cell_type": "markdown",
   "metadata": {},
   "source": [
    "###  Write a Python function to check if two given strings are anagrams of each other."
   ]
  },
  {
   "cell_type": "code",
   "execution_count": 2,
   "metadata": {},
   "outputs": [
    {
     "name": "stdout",
     "output_type": "stream",
     "text": [
      "Result of checking if given two strings anagrams : True\n"
     ]
    }
   ],
   "source": [
    "# Check if two strings are anagrams\n",
    "\n",
    "def are_anagrams(str1, str2):\n",
    "   \n",
    "    n = len(str1)\n",
    "    \n",
    "    # Not anagrams if lenghts mismatch\n",
    "    if n != len(str2):\n",
    "        return False\n",
    "    \n",
    "    count = {}\n",
    "    for i in range(len(str1)):\n",
    "        # Increment the count for the character in str1\n",
    "        count[str1[i]] = count.get(str1[i], 0) + 1\n",
    "        # Decrement the count for the character in str2\n",
    "        count[str2[i]] = count.get(str2[i], 0) - 1\n",
    "\n",
    "    # Check if all character counts are zero\n",
    "    for count in count.values():\n",
    "        if count != 0:\n",
    "            return False\n",
    "    return True\n",
    "\n",
    "print(f'Result of checking if given two strings anagrams : {are_anagrams(\"listen\", \"silent\")}')\n",
    "#def are_anagrams(str1, str2):\n",
    "#   if len(str1) != len(str2):\n",
    "    #  return False\n",
    "\n",
    "    # Initialize bitmask\n",
    "    # bitmask = 0\n",
    "\n",
    "    # Use indices to traverse both strings and XOR characters\n",
    "    # for i in range(len(str1)):\n",
    "    #     bitmask ^= ord(str1[i])\n",
    "    #     bitmask ^= ord(str2[i])\n",
    "\n",
    "    # If bitmask is 0, strings are anagrams\n",
    "    # return bitmask == 0\n",
    "\n",
    "# Example usage\n",
    "# print(are_anagrams(\"listen\", \"silent\"))  \n",
    "\n"
   ]
  }
 ],
 "metadata": {
  "kernelspec": {
   "display_name": "base",
   "language": "python",
   "name": "python3"
  },
  "language_info": {
   "codemirror_mode": {
    "name": "ipython",
    "version": 3
   },
   "file_extension": ".py",
   "mimetype": "text/x-python",
   "name": "python",
   "nbconvert_exporter": "python",
   "pygments_lexer": "ipython3",
   "version": "3.9.13"
  }
 },
 "nbformat": 4,
 "nbformat_minor": 2
}
