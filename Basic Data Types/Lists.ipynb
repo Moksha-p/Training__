{
 "cells": [
  {
   "cell_type": "markdown",
   "metadata": {},
   "source": [
    "# 4.Lists"
   ]
  },
  {
   "cell_type": "markdown",
   "metadata": {},
   "source": [
    "### Write a Python function to find the second largest element in a list."
   ]
  },
  {
   "cell_type": "code",
   "execution_count": 6,
   "metadata": {},
   "outputs": [
    {
     "name": "stdout",
     "output_type": "stream",
     "text": [
      "The second largest is 45\n"
     ]
    }
   ],
   "source": [
    "def find_second_largest(list):\n",
    "    \n",
    "    \n",
    "    first = list[0]\n",
    "    second = list[1]\n",
    "    for i in range(2,len(list)):\n",
    "        if list[i] > first:\n",
    "            second = first\n",
    "            first = list[i]\n",
    "    return second\n",
    "        \n",
    "print(f'The second largest is {find_second_largest([10, 20, 4, 45, 99])}')\n",
    "        "
   ]
  },
  {
   "cell_type": "markdown",
   "metadata": {},
   "source": [
    "###  Write a Python program to generate all possible permutations of a list of numbers."
   ]
  },
  {
   "cell_type": "code",
   "execution_count": 7,
   "metadata": {},
   "outputs": [
    {
     "name": "stdout",
     "output_type": "stream",
     "text": [
      "All permutations based on given list are : [[1, 2, 3], [1, 3, 2], [2, 1, 3], [2, 3, 1], [3, 1, 2], [3, 2, 1]]\n"
     ]
    }
   ],
   "source": [
    "def permutations(lst):\n",
    "    def permute(current, remaining, result):\n",
    "        if not remaining:\n",
    "            result.append(current)\n",
    "            return\n",
    "        for i in range(len(remaining)):\n",
    "            permute(current + [remaining[i]], remaining[:i] + remaining[i+1:], result)\n",
    "\n",
    "    result = []\n",
    "    permute([], lst, result)\n",
    "    return result\n",
    "\n",
    "print(f'All permutations based on given list are : {permutations([1, 2, 3])}')"
   ]
  }
 ],
 "metadata": {
  "kernelspec": {
   "display_name": "base",
   "language": "python",
   "name": "python3"
  },
  "language_info": {
   "codemirror_mode": {
    "name": "ipython",
    "version": 3
   },
   "file_extension": ".py",
   "mimetype": "text/x-python",
   "name": "python",
   "nbconvert_exporter": "python",
   "pygments_lexer": "ipython3",
   "version": "3.9.13"
  }
 },
 "nbformat": 4,
 "nbformat_minor": 2
}
