{
 "cells": [
  {
   "cell_type": "markdown",
   "metadata": {},
   "source": [
    "# 1. Numbers"
   ]
  },
  {
   "cell_type": "markdown",
   "metadata": {},
   "source": [
    "###  Write a Python program to find all the prime numbers between two given numbers."
   ]
  },
  {
   "cell_type": "code",
   "execution_count": 1,
   "metadata": {},
   "outputs": [
    {
     "name": "stdout",
     "output_type": "stream",
     "text": [
      "Prime numbers with basic approach: [11, 13, 17, 19, 23, 29]\n",
      "Prime numbers with Sieve of eratosthenes approach: [11, 13, 17, 19, 23, 29]\n"
     ]
    }
   ],
   "source": [
    "\n",
    "def find_primes_between1(start, end):\n",
    "    primes = []\n",
    "    for num in range(start, end + 1):\n",
    "        if num > 1:\n",
    "            is_prime = True\n",
    "            for i in range(2, num):\n",
    "                if num % i == 0:\n",
    "                    is_prime = False\n",
    "                    break\n",
    "            if is_prime:\n",
    "                primes.append(num)\n",
    "    return primes\n",
    "\n",
    "# Better Approach - Sieve of eratosthenes\n",
    "def find_primes_between2(start, end):\n",
    "    if end < 2:\n",
    "        return []  # No primes less than 2\n",
    "    \n",
    "    sieve = [True] * (end + 1)  # Initialize the sieve\n",
    "    sieve[0] = sieve[1] = False  # 0 and 1 are not prime\n",
    "    \n",
    "    for i in range(2, int(end ** 0.5) + 1):\n",
    "        if sieve[i]:  # If i is a prime number\n",
    "            for j in range(i * i, end + 1, i):\n",
    "                sieve[j] = False  # Mark multiples of i as not prime\n",
    "    \n",
    "    # Collect all primes in the specified range\n",
    "    primes = [num for num in range(start, end + 1) if sieve[num]]\n",
    "    return primes\n",
    "\n",
    "print(f\"Prime numbers with basic approach: {find_primes_between1(10,30)}\")\n",
    "\n",
    "print(f\"Prime numbers with Sieve of eratosthenes approach: {find_primes_between2(10,30)}\")\n",
    "\n"
   ]
  },
  {
   "cell_type": "markdown",
   "metadata": {},
   "source": [
    "###  Write a Python program to find the first n numbers that are both prime."
   ]
  },
  {
   "cell_type": "code",
   "execution_count": 2,
   "metadata": {},
   "outputs": [
    {
     "name": "stdout",
     "output_type": "stream",
     "text": [
      "The first prime numbers in the given range are: [2, 3, 5, 7, 11, 13, 17, 19, 23, 29]\n"
     ]
    }
   ],
   "source": [
    "def find_first_n_primes(n):\n",
    "    if n <= 0:\n",
    "        return []\n",
    "    \n",
    "    # Start with an estimated range, and expand if necessary\n",
    "    size = 10  # Initial guess for the range\n",
    "    primes = []\n",
    "    \n",
    "    while len(primes) < n:\n",
    "        sieve = [True] * size\n",
    "        sieve[0] = sieve[1] = False  # 0 and 1 are not prime\n",
    "        \n",
    "        for i in range(2, int(size ** 0.5) + 1):\n",
    "            if sieve[i]:\n",
    "                for j in range(i * i, size, i):\n",
    "                    sieve[j] = False\n",
    "        \n",
    "        primes = [num for num, is_prime in enumerate(sieve) if is_prime]\n",
    "        size *= 2  # Double the range if not enough primes are found\n",
    "    \n",
    "    return primes[:n]  # Return only the first n primes\n",
    "\n",
    "\n",
    "print(f\"The first prime numbers in the given range are: {find_first_n_primes(10)}\")\n"
   ]
  }
 ],
 "metadata": {
  "kernelspec": {
   "display_name": "base",
   "language": "python",
   "name": "python3"
  },
  "language_info": {
   "codemirror_mode": {
    "name": "ipython",
    "version": 3
   },
   "file_extension": ".py",
   "mimetype": "text/x-python",
   "name": "python",
   "nbconvert_exporter": "python",
   "pygments_lexer": "ipython3",
   "version": "3.9.13"
  },
  "orig_nbformat": 4
 },
 "nbformat": 4,
 "nbformat_minor": 2
}
