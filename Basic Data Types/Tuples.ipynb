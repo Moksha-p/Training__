{
 "cells": [
  {
   "cell_type": "markdown",
   "metadata": {},
   "source": [
    "# 5. Tuples"
   ]
  },
  {
   "cell_type": "markdown",
   "metadata": {},
   "source": [
    "### Create a function to merge two sorted tuples into one sorted tuple."
   ]
  },
  {
   "cell_type": "code",
   "execution_count": 3,
   "metadata": {},
   "outputs": [
    {
     "name": "stdout",
     "output_type": "stream",
     "text": [
      "Merged Tuples are as follows : (1, 2, 3, 4, 5, 6)\n"
     ]
    }
   ],
   "source": [
    "def merge_sorted_tuples(tuple1, tuple2):\n",
    "    result = []\n",
    "    i = j = 0\n",
    "    while i < len(tuple1) and j < len(tuple2):\n",
    "        if tuple1[i] < tuple2[j]:\n",
    "            result.append(tuple1[i])\n",
    "            i += 1\n",
    "        else:\n",
    "            result.append(tuple2[j])\n",
    "            j += 1\n",
    "    while i < len(tuple1):\n",
    "        result.append(tuple1[i])\n",
    "        i += 1\n",
    "    while j < len(tuple2):\n",
    "        result.append(tuple2[j])\n",
    "        j += 1\n",
    "    return tuple(result)\n",
    "\n",
    "print(f'Merged Tuples are as follows : {merge_sorted_tuples((1,3,5),(2,4,6))}')"
   ]
  },
  {
   "cell_type": "markdown",
   "metadata": {},
   "source": [
    "### Write a Python program to find all unique combinations of elements in a tuple that sum up to a given number."
   ]
  },
  {
   "cell_type": "code",
   "execution_count": 4,
   "metadata": {},
   "outputs": [
    {
     "name": "stdout",
     "output_type": "stream",
     "text": [
      "Unique combinations in the given tuples are : [(2, 3, 5), (3, 7)]\n"
     ]
    }
   ],
   "source": [
    "def tuple_combinations_with_sum(tpl, target):\n",
    "    def find_combinations(index, current, total, result):\n",
    "        if total == target:\n",
    "            result.append(tuple(current))\n",
    "            return\n",
    "        if total > target or index >= len(tpl):\n",
    "            return\n",
    "        find_combinations(index + 1, current + [tpl[index]], total + tpl[index], result)\n",
    "        find_combinations(index + 1, current, total, result)\n",
    "\n",
    "    result = []\n",
    "    find_combinations(0, [], 0, result)\n",
    "    return result\n",
    "\n",
    "print(f'Unique combinations in the given tuples are : {tuple_combinations_with_sum((2,3,5,7),10)}')"
   ]
  }
 ],
 "metadata": {
  "kernelspec": {
   "display_name": "base",
   "language": "python",
   "name": "python3"
  },
  "language_info": {
   "codemirror_mode": {
    "name": "ipython",
    "version": 3
   },
   "file_extension": ".py",
   "mimetype": "text/x-python",
   "name": "python",
   "nbconvert_exporter": "python",
   "pygments_lexer": "ipython3",
   "version": "3.9.13"
  }
 },
 "nbformat": 4,
 "nbformat_minor": 2
}
