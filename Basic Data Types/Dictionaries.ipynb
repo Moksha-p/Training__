{
 "cells": [
  {
   "cell_type": "markdown",
   "metadata": {},
   "source": [
    "# 4.Dictionaries"
   ]
  },
  {
   "cell_type": "markdown",
   "metadata": {},
   "source": [
    "### Write a Python function to invert a dictionary, swapping keys and values."
   ]
  },
  {
   "cell_type": "code",
   "execution_count": 10,
   "metadata": {},
   "outputs": [
    {
     "name": "stdout",
     "output_type": "stream",
     "text": [
      "Inverted Dictonary is : {1: 'a', 2: 'b', 3: 'c'}\n"
     ]
    }
   ],
   "source": [
    "def invert_dictionary(d):\n",
    "    inverted = {}\n",
    "    for key, value in d.items():\n",
    "        inverted[value] = key\n",
    "    return inverted\n",
    "\n",
    "print(f\"Inverted Dictonary is : {invert_dictionary({'a': 1, 'b': 2, 'c': 3})}\")"
   ]
  },
  {
   "cell_type": "markdown",
   "metadata": {},
   "source": [
    "### Write a Python program to merge multiple dictionaries and sum the values of common keys"
   ]
  },
  {
   "cell_type": "code",
   "execution_count": 11,
   "metadata": {},
   "outputs": [
    {
     "name": "stdout",
     "output_type": "stream",
     "text": [
      "Merged Dictionary is : {'a': 1, 'b': 5, 'c': 4}\n"
     ]
    }
   ],
   "source": [
    "def merge_and_sum_dicts(*dicts):\n",
    "    merged = {}\n",
    "    for d in dicts:\n",
    "        for key, value in d.items():\n",
    "            if key in merged:\n",
    "                merged[key] += value\n",
    "            else:\n",
    "                merged[key] = value\n",
    "    return merged\n",
    "\n",
    "print(f\"Merged Dictionary is : {merge_and_sum_dicts({'a': 1, 'b': 2},{'b': 3, 'c': 4})}\")"
   ]
  }
 ],
 "metadata": {
  "kernelspec": {
   "display_name": "base",
   "language": "python",
   "name": "python3"
  },
  "language_info": {
   "codemirror_mode": {
    "name": "ipython",
    "version": 3
   },
   "file_extension": ".py",
   "mimetype": "text/x-python",
   "name": "python",
   "nbconvert_exporter": "python",
   "pygments_lexer": "ipython3",
   "version": "3.9.13"
  }
 },
 "nbformat": 4,
 "nbformat_minor": 2
}
