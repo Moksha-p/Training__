{
 "cells": [
  {
   "cell_type": "markdown",
   "metadata": {},
   "source": [
    "# 7. Sets"
   ]
  },
  {
   "cell_type": "markdown",
   "metadata": {},
   "source": [
    "###  Write a Python program to find the symmetric difference between two sets."
   ]
  },
  {
   "cell_type": "code",
   "execution_count": 1,
   "metadata": {},
   "outputs": [
    {
     "name": "stdout",
     "output_type": "stream",
     "text": [
      "Difference in the given sets is : {1, 2, 4, 5}\n"
     ]
    }
   ],
   "source": [
    "def symmetric_difference(set1, set2):\n",
    "    result = set()\n",
    "    for item in set1:\n",
    "        if item not in set2:\n",
    "            result.add(item)\n",
    "    for item in set2:\n",
    "        if item not in set1:\n",
    "            result.add(item)\n",
    "    return result\n",
    "\n",
    "print(f\"Difference in the given sets is : {symmetric_difference({1, 2, 3}, {3, 4, 5})}\")"
   ]
  },
  {
   "cell_type": "markdown",
   "metadata": {},
   "source": [
    "### Write a Python function to find all subsets of a given set."
   ]
  },
  {
   "cell_type": "code",
   "execution_count": 2,
   "metadata": {},
   "outputs": [
    {
     "name": "stdout",
     "output_type": "stream",
     "text": [
      "Subsets of given set are : [set(), {3}, {2}, {2, 3}, {1}, {1, 3}, {1, 2}, {1, 2, 3}]\n"
     ]
    }
   ],
   "source": [
    "def find_subsets(s):\n",
    "    def subsets(current, remaining, result):\n",
    "        if not remaining:\n",
    "            result.append(set(current))\n",
    "            return\n",
    "        subsets(current, remaining[1:], result)\n",
    "        subsets(current + [remaining[0]], remaining[1:], result)\n",
    "\n",
    "    result = []\n",
    "    subsets([], list(s), result)\n",
    "    return result\n",
    "\n",
    "print(f\"Subsets of given set are : {find_subsets({1, 2, 3})}\")"
   ]
  }
 ],
 "metadata": {
  "kernelspec": {
   "display_name": "base",
   "language": "python",
   "name": "python3"
  },
  "language_info": {
   "codemirror_mode": {
    "name": "ipython",
    "version": 3
   },
   "file_extension": ".py",
   "mimetype": "text/x-python",
   "name": "python",
   "nbconvert_exporter": "python",
   "pygments_lexer": "ipython3",
   "version": "3.9.13"
  }
 },
 "nbformat": 4,
 "nbformat_minor": 2
}
