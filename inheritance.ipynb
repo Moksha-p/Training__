{
 "cells": [
  {
   "cell_type": "markdown",
   "metadata": {},
   "source": [
    "Question-9)  Create a base class Employee with attributes name and salary.\n",
    " Create a subclass Developer that adds an attribute"
   ]
  },
  {
   "cell_type": "code",
   "execution_count": 1,
   "metadata": {},
   "outputs": [
    {
     "name": "stdout",
     "output_type": "stream",
     "text": [
      "Name: Pranav Shilpkar\n",
      "Salary: 500000.0\n",
      "Programming Language: python,java\n"
     ]
    }
   ],
   "source": [
    "class Employee:\n",
    "    def __init__(self, name, salary):\n",
    "        self.name = name\n",
    "        self.salary = salary\n",
    "\n",
    "    def display_info(self):\n",
    "        print(f\"Name: {self.name}\")\n",
    "        print(f\"Salary: {self.salary}\")\n",
    "\n",
    "\n",
    "class Developer(Employee):\n",
    "    def __init__(self, name, salary, programming_language):\n",
    "        super().__init__(name, salary)\n",
    "        self.programming_language = programming_language\n",
    "\n",
    "    def display_info(self):\n",
    "        super().display_info()\n",
    "        print(f\"Programming Language: {self.programming_language}\")\n",
    "\n",
    "\n",
    "# Example Test Case\n",
    "name = input(\"Enter the developer's name: \")\n",
    "salary = float(input(\"Enter the developer's salary: \"))\n",
    "programming_language = input(\"Enter the developer's programming language: \")\n",
    "\n",
    "developer = Developer(name, salary, programming_language)\n",
    "developer.display_info()\n"
   ]
  },
  {
   "cell_type": "markdown",
   "metadata": {},
   "source": [
    "Question-10) Create a base class Appliance with a method turn_on. Create a\n",
    " subclass WashingMachine that overrides the turn_on method."
   ]
  },
  {
   "cell_type": "code",
   "execution_count": 2,
   "metadata": {},
   "outputs": [
    {
     "name": "stdout",
     "output_type": "stream",
     "text": [
      "Appliance is turned on.\n",
      "Washing Machine Whirlpool is turned on.\n"
     ]
    }
   ],
   "source": [
    "class Appliance:\n",
    "    def turn_on(self):\n",
    "        print(\"Appliance is turned on.\")\n",
    "\n",
    "\n",
    "class WashingMachine(Appliance):\n",
    "    def __init__(self, model):\n",
    "        self.model = model\n",
    "\n",
    "    def turn_on(self):\n",
    "        print(f\"Washing Machine {self.model} is turned on.\")\n",
    "\n",
    "\n",
    "appliance = Appliance()\n",
    "appliance.turn_on()\n",
    "\n",
    "washing_machine_model = input(\"Enter the washing machine model: \")\n",
    "washing_machine = WashingMachine(washing_machine_model)\n",
    "washing_machine.turn_on()\n"
   ]
  },
  {
   "cell_type": "markdown",
   "metadata": {},
   "source": [
    "Question-11) Create a class PrivateData with private attributes username\n",
    " and password. Implement methods to get and set these attributes."
   ]
  },
  {
   "cell_type": "code",
   "execution_count": 1,
   "metadata": {},
   "outputs": [
    {
     "name": "stdout",
     "output_type": "stream",
     "text": [
      "username: PavitraYadav\n",
      "password: Shilpkar09\n"
     ]
    }
   ],
   "source": [
    "class PrivateData:\n",
    "    def __init__(self, username, password):\n",
    "        # Private attributes\n",
    "        self.__username = username\n",
    "        self.__password = password\n",
    "\n",
    "    # Getter method for username\n",
    "    def get_username(self):\n",
    "        return self.__username\n",
    "\n",
    "    def get_password(self):\n",
    "        return self.__password\n",
    "\n",
    "    # Setter method for password\n",
    "    def set_password(self, new_password):\n",
    "        self.__password = new_password\n",
    "\n",
    "\n",
    "# Example Test Case for PrivateData\n",
    "username = input(\"Enter username: \")\n",
    "password = input(\"Enter password: \")\n",
    "\n",
    "# Create an instance of PrivateData\n",
    "private_data = PrivateData(username, password)\n",
    "\n",
    "# Display the username\n",
    "print(f\"username: {private_data.get_username()}\")\n",
    "\n",
    "# Set new password\n",
    "new_password = input(\"Enter new password: \")\n",
    "private_data.set_password(new_password)\n",
    "\n",
    "# Display the updated password\n",
    "print(f\"password: {private_data.get_password()}\")\n"
   ]
  },
  {
   "cell_type": "markdown",
   "metadata": {},
   "source": [
    "Question-12)  Create a class Account with private attributes account_number\n",
    " and balance. Implement methods to deposit and withdraw money."
   ]
  },
  {
   "cell_type": "code",
   "execution_count": 3,
   "metadata": {},
   "outputs": [
    {
     "name": "stdout",
     "output_type": "stream",
     "text": [
      "Deposited 6000.0, new balance: 993644.0\n",
      "Withdrew 5000.0, new balance: 988644.0\n",
      "account_number: \n",
      "balance: 988644.0\n"
     ]
    }
   ],
   "source": [
    "class Account:\n",
    "    def __init__(self, account_number, balance):\n",
    "        # Private attributes\n",
    "        self.__account_number = account_number\n",
    "        self.__balance = balance\n",
    "\n",
    "    # Method to deposit money\n",
    "    def deposit(self, amount):\n",
    "        if amount > 0:\n",
    "            self.__balance += amount\n",
    "            print(f\"Deposited {amount}, new balance: {self.__balance}\")\n",
    "        else:\n",
    "            print(\"Deposit amount must be positive.\")\n",
    "\n",
    "    # Method to withdraw money\n",
    "    def withdraw(self, amount):\n",
    "        if amount > 0 and amount <= self.__balance:\n",
    "            self.__balance -= amount\n",
    "            print(f\"Withdrew {amount}, new balance: {self.__balance}\")\n",
    "        else:\n",
    "            print(\"Invalid withdrawal amount or insufficient balance.\")\n",
    "\n",
    "    # Method to get current balance\n",
    "    def get_balance(self):\n",
    "        return self.__balance\n",
    "\n",
    "    # Method to get account number\n",
    "    def get_account_number(self):\n",
    "        return self.__account_number\n",
    "\n",
    "\n",
    "# Example Test Case\n",
    "account_number = input(\"Enter account number: \")\n",
    "balance = float(input(\"Enter balance: \"))\n",
    "\n",
    "# Create an instance of Account\n",
    "account = Account(account_number, balance)\n",
    "\n",
    "# Perform deposit and withdrawal operations\n",
    "deposit_amount = float(input(\"Enter amount to deposit: \"))\n",
    "account.deposit(deposit_amount)\n",
    "\n",
    "withdraw_amount = float(input(\"Enter amount to withdraw: \"))\n",
    "account.withdraw(withdraw_amount)\n",
    "\n",
    "# Display the account information\n",
    "print(f\"account_number: {account.get_account_number()}\")\n",
    "print(f\"balance: {account.get_balance()}\")\n"
   ]
  },
  {
   "cell_type": "markdown",
   "metadata": {},
   "source": [
    "Question-13)  Create a function operate_vehicle that takes a vehicle object\n",
    " and calls its move method. Create classes Car and Bike that\n",
    " implement move differently.\n"
   ]
  },
  {
   "cell_type": "code",
   "execution_count": 5,
   "metadata": {},
   "outputs": [
    {
     "name": "stdout",
     "output_type": "stream",
     "text": [
      "ferrari is driving\n"
     ]
    }
   ],
   "source": [
    "class Car:\n",
    "    def __init__(self, model):\n",
    "        self.model = model\n",
    "\n",
    "    def move(self):\n",
    "        print(f\"{self.model} is driving\")\n",
    "\n",
    "\n",
    "class Bike:\n",
    "    def __init__(self, model):\n",
    "        self.model = model\n",
    "\n",
    "    def move(self):\n",
    "        print(f\"{self.model} is riding\")\n",
    "\n",
    "\n",
    "def operate_vehicle(vehicle):\n",
    "    vehicle.move()\n",
    "\n",
    "\n",
    "vehicle_type = input(\"Enter vehicle type (Car/Bike): \").strip().lower()\n",
    "model = input(\"Enter vehicle model: \")\n",
    "\n",
    "if vehicle_type == \"car\":\n",
    "    vehicle = Car(model)\n",
    "elif vehicle_type == \"bike\":\n",
    "    vehicle = Bike(model)\n",
    "else:\n",
    "    print(\"Invalid vehicle type entered.\")\n",
    "\n",
    "operate_vehicle(vehicle)\n"
   ]
  },
  {
   "cell_type": "markdown",
   "metadata": {},
   "source": [
    "Question-14)  Create a function operate_device that takes a device object\n",
    " and calls its operate method. Create classes Laptop and\n",
    " Smartphone that implement operate differently"
   ]
  },
  {
   "cell_type": "code",
   "execution_count": 6,
   "metadata": {},
   "outputs": [
    {
     "name": "stdout",
     "output_type": "stream",
     "text": [
      "mac is operating\n"
     ]
    }
   ],
   "source": [
    "class Laptop:\n",
    "    def __init__(self, model):\n",
    "        self.model = model\n",
    "\n",
    "    def operate(self):\n",
    "        print(f\"{self.model} is operating\")\n",
    "\n",
    "\n",
    "class Smartphone:\n",
    "    def __init__(self, model):\n",
    "        self.model = model\n",
    "\n",
    "    def operate(self):\n",
    "        print(f\"{self.model} is operating\")\n",
    "\n",
    "\n",
    "def operate_device(device):\n",
    "    device.operate()\n",
    "\n",
    "\n",
    "device_type = input(\"Enter device type (Laptop/Smartphone): \").strip().lower()\n",
    "model = input(\"Enter device model: \")\n",
    "\n",
    "if device_type == \"laptop\":\n",
    "    device = Laptop(model)\n",
    "elif device_type == \"smartphone\":\n",
    "    device = Smartphone(model)\n",
    "else:\n",
    "    print(\"Invalid device type entered.\")\n",
    "\n",
    "operate_device(device)\n"
   ]
  },
  {
   "cell_type": "markdown",
   "metadata": {},
   "source": [
    "Question-15)  Define an abstract class Transport with an abstract method\n",
    " travel. Create subclasses Bus and Train that implement the travel\n",
    " method"
   ]
  },
  {
   "cell_type": "code",
   "execution_count": 7,
   "metadata": {},
   "outputs": [
    {
     "name": "stdout",
     "output_type": "stream",
     "text": [
      "Bus ahmedabad to indore is traveling\n"
     ]
    }
   ],
   "source": [
    "from abc import ABC, abstractmethod\n",
    "\n",
    "class Transport(ABC):\n",
    "    @abstractmethod\n",
    "    def travel(self):\n",
    "        pass\n",
    "\n",
    "class Bus(Transport):\n",
    "    def __init__(self, route):\n",
    "        self.route = route\n",
    "\n",
    "    def travel(self):\n",
    "        print(f\"Bus {self.route} is traveling\")\n",
    "\n",
    "class Train(Transport):\n",
    "    def __init__(self, route):\n",
    "        self.route = route\n",
    "\n",
    "    def travel(self):\n",
    "        print(f\"Train {self.route} is traveling\")\n",
    "\n",
    "vehicle_type = input(\"Enter vehicle type (Bus/Train): \").strip().lower()\n",
    "route = input(\"Enter route: \")\n",
    "\n",
    "if vehicle_type == \"bus\":\n",
    "    vehicle = Bus(route)\n",
    "elif vehicle_type == \"train\":\n",
    "    vehicle = Train(route)\n",
    "else:\n",
    "    print(\"Invalid vehicle type entered.\")\n",
    "\n",
    "vehicle.travel()\n"
   ]
  },
  {
   "cell_type": "markdown",
   "metadata": {},
   "source": [
    "Question-16)  Define an abstract class Payment with an abstract method\n",
    " process. Create subclasses CreditCard and PayPal that implement\n",
    " the process method."
   ]
  },
  {
   "cell_type": "code",
   "execution_count": 8,
   "metadata": {},
   "outputs": [
    {
     "name": "stdout",
     "output_type": "stream",
     "text": [
      "Processing credit card payment for 234567890\n"
     ]
    }
   ],
   "source": [
    "from abc import ABC, abstractmethod\n",
    "\n",
    "class Payment(ABC):\n",
    "    @abstractmethod\n",
    "    def process(self):\n",
    "        pass\n",
    "\n",
    "class CreditCard(Payment):\n",
    "    def __init__(self, number):\n",
    "        self.number = number\n",
    "\n",
    "    def process(self):\n",
    "        print(f\"Processing credit card payment for {self.number}\")\n",
    "\n",
    "class PayPal(Payment):\n",
    "    def __init__(self, account):\n",
    "        self.account = account\n",
    "\n",
    "    def process(self):\n",
    "        print(f\"Processing PayPal payment for {self.account}\")\n",
    "\n",
    "\n",
    "# Taking input for Payment (CreditCard/PayPal)\n",
    "payment_type = input(\"Enter payment type (CreditCard/PayPal): \").strip().lower()\n",
    "if payment_type == \"creditcard\":\n",
    "    number = input(\"Enter credit card number: \")\n",
    "    payment = CreditCard(number)\n",
    "elif payment_type == \"paypal\":\n",
    "    account = input(\"Enter PayPal account email: \")\n",
    "    payment = PayPal(account)\n",
    "else:\n",
    "    print(\"Invalid payment type entered.\")\n",
    "\n",
    "payment.process()\n"
   ]
  }
 ],
 "metadata": {
  "kernelspec": {
   "display_name": "Python 3",
   "language": "python",
   "name": "python3"
  },
  "language_info": {
   "codemirror_mode": {
    "name": "ipython",
    "version": 3
   },
   "file_extension": ".py",
   "mimetype": "text/x-python",
   "name": "python",
   "nbconvert_exporter": "python",
   "pygments_lexer": "ipython3",
   "version": "3.13.1"
  }
 },
 "nbformat": 4,
 "nbformat_minor": 2
}
