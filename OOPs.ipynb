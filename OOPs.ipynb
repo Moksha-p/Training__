{
 "cells": [
  {
   "cell_type": "markdown",
   "metadata": {},
   "source": [
    "***OOPS CONCEPT***"
   ]
  },
  {
   "cell_type": "markdown",
   "metadata": {},
   "source": [
    "Assignment -1 "
   ]
  },
  {
   "cell_type": "markdown",
   "metadata": {},
   "source": [
    "1.Create a class to represent a Student with attributes like name, age, and grades.\n",
    "Example Test Case:\n",
    "○ Input: name = \"Alice\", age = 20, grades = [90, 85, 88]\n",
    "○ Output: name: \"Alice\", age: 20, grades: [90, 85, 88]"
   ]
  },
  {
   "cell_type": "code",
   "execution_count": 2,
   "metadata": {},
   "outputs": [
    {
     "name": "stdout",
     "output_type": "stream",
     "text": [
      "name: \"Alice\", age: 20, grades: [90, 85, 88]\n"
     ]
    }
   ],
   "source": [
    "class Student:\n",
    "    def __init__(self, name, age, grades):\n",
    "        self.name = name\n",
    "        self.age = age\n",
    "        self.grades = grades\n",
    "\n",
    "    def __str__(self):\n",
    "        return f'name: \"{self.name}\", age: {self.age}, grades: {self.grades}'\n",
    "\n",
    "if __name__ == \"__main__\":\n",
    "    name = \"Alice\"\n",
    "    age = 20\n",
    "    grades = [90, 85, 88]\n",
    "    student = Student(name, age, grades)\n",
    "    print(student)\n"
   ]
  },
  {
   "cell_type": "markdown",
   "metadata": {},
   "source": [
    "2.Given a CSV file with employee details (name, position, salary), create a class to\n",
    "represent an Employee.\n",
    "Example Test Case:\n",
    "○ Input: CSV file content = [[\"John Doe\", \"Manager\", 75000],\n",
    "[\"Jane Smith\", \"Engineer\", 80000]]\n",
    "○ Output: Employee(name=\"John Doe\", position=\"Manager\",\n",
    "salary=75000), Employee(name=\"Jane Smith\",\n",
    "position=\"Engineer\", salary=80000)"
   ]
  },
  {
   "cell_type": "code",
   "execution_count": 25,
   "metadata": {},
   "outputs": [
    {
     "name": "stdout",
     "output_type": "stream",
     "text": [
      "Employee(name=\"John Doe\", position=\"Manager\", salary=75000)\n",
      "Employee(name=\"Jane Smith\", position=\"Engineer\", salary=80000)\n"
     ]
    }
   ],
   "source": [
    "import csv\n",
    "from typing import List\n",
    "\n",
    "class Employee:\n",
    "    def __init__(self, name: str, position: str, salary: float):\n",
    "        self.name = name\n",
    "        self.position = position\n",
    "        self.salary = salary\n",
    "\n",
    "    def __repr__(self):\n",
    "        return f'Employee(name=\"{self.name}\", position=\"{self.position}\", salary={self.salary})'\n",
    "\n",
    "def read_employees_from_csv(file_path: str) -> List[Employee]:\n",
    "    employees = []\n",
    "    with open(file_path, mode='r', newline='') as file:\n",
    "        reader = csv.reader(file)\n",
    "        for row in reader:\n",
    "            if len(row) == 3:\n",
    "                name = row[0]\n",
    "                position = row[1]\n",
    "                salary = int(row[2])\n",
    "                employees.append(Employee(name, position, salary))\n",
    "    return employees\n",
    "\n",
    "employees = read_employees_from_csv(r\"employee_details.csv\")\n",
    "\n",
    "for emp in employees:\n",
    "    print(emp)"
   ]
  },
  {
   "cell_type": "markdown",
   "metadata": {},
   "source": [
    "Implement a program that simulates a basic bank account using a BankAccount\n",
    "class.\n",
    "Example Test Case:\n",
    "○ Input: account_number = \"12345678\", initial_balance = 1000\n",
    "○ Output: account_number: \"12345678\", balance: 1000"
   ]
  },
  {
   "cell_type": "code",
   "execution_count": 10,
   "metadata": {},
   "outputs": [
    {
     "name": "stdout",
     "output_type": "stream",
     "text": [
      "account_number:\"123456789\", balance:\"1000\"\n"
     ]
    }
   ],
   "source": [
    "class BankAccount:\n",
    "    def __init__(self, account_number, initial_balance):\n",
    "        self.account_number = account_number\n",
    "        self.balance = initial_balance\n",
    "        \n",
    "    def __str__(self):\n",
    "        return f'account_number:\"{self.account_number}\", balance:\"{self.balance}\"'\n",
    "\n",
    "if __name__ == \"__main__\":\n",
    "    account = BankAccount(\"123456789\", 1000)\n",
    "    print(account)\n"
   ]
  },
  {
   "cell_type": "markdown",
   "metadata": {},
   "source": [
    "Write a Python program that uses a Rectangle class to calculate the area and\n",
    "perimeter of a rectangle.\n",
    "Example Test Case:\n",
    "○ Input: length = 5, width = 3\n",
    "○ Output: area: 15, perimeter: 16"
   ]
  },
  {
   "cell_type": "code",
   "execution_count": 21,
   "metadata": {},
   "outputs": [
    {
     "name": "stdout",
     "output_type": "stream",
     "text": [
      "Area of rectangle is 15\n",
      "Perimeter of rectangle is 16\n"
     ]
    }
   ],
   "source": [
    "class Rectangle:\n",
    "    def __init__(self, lenght, width):\n",
    "        self.lenght = lenght\n",
    "        self.width = width\n",
    "\n",
    "    def area(self):\n",
    "        return self.lenght * self.width\n",
    "    \n",
    "    def perimeter(self):\n",
    "        return (self.lenght + self.width)*2\n",
    "    \n",
    "if __name__ == \"__main__\":\n",
    "    rectangle = Rectangle(5, 3)\n",
    "    area=rectangle.area\n",
    "    perimeter=rectangle.perimeter\n",
    "\n",
    "    print(f\"Area of rectangle is {area()}\")\n",
    "    print((f\"Perimeter of rectangle is {perimeter()}\"))\n",
    "    "
   ]
  },
  {
   "cell_type": "markdown",
   "metadata": {},
   "source": [
    "Create a class to represent a Car with attributes like make, model, and year.\n",
    "Example Test Case:\n",
    "○ Input: make = \"Toyota\", model = \"Camry\", year = 2020\n",
    "○ Output: make: \"Toyota\", model: \"Camry\", year: 2020"
   ]
  },
  {
   "cell_type": "code",
   "execution_count": 23,
   "metadata": {},
   "outputs": [
    {
     "name": "stdout",
     "output_type": "stream",
     "text": [
      "Make: Toyota, Model: Camry, Year: 2020\n"
     ]
    }
   ],
   "source": [
    "class Car:\n",
    "    def __init__(self, make, model, year):\n",
    "        self.make = make\n",
    "        self.model = model\n",
    "        self.year = year\n",
    "    \n",
    "    def display_car_info(self):\n",
    "        print(f\"Make: {self.make}, Model: {self.model}, Year: {self.year}\")\n",
    "\n",
    "if __name__ == \"__main__\":\n",
    "    my_car = Car(\"Toyota\", \"Camry\", 2020)\n",
    "    my_car.display_car_info()"
   ]
  },
  {
   "cell_type": "markdown",
   "metadata": {},
   "source": [
    "Given a JSON file with customer data, create a Customer class to store and manipulate the data.\n",
    "Example Test Case:\n",
    "○ Input: JSON file content = {\"name\": \"John Doe\", \"email\":\n",
    "\"john.doe@example.com\"}\n",
    "○ Output: Customer(name=\"John Doe\",\n",
    "email=\"john.doe@example.com\")"
   ]
  },
  {
   "cell_type": "code",
   "execution_count": 29,
   "metadata": {},
   "outputs": [
    {
     "name": "stdout",
     "output_type": "stream",
     "text": [
      "Customer(name=\"John Doe\", email=\"john.doe@example.com\")\n"
     ]
    }
   ],
   "source": [
    "class Customer:\n",
    "    def __init__(self, name, email):\n",
    "        self.name = name\n",
    "        self.email = email\n",
    "\n",
    "    def __str__(self):\n",
    "        return f'Customer(name=\"{self.name}\", email=\"{self.email}\")'\n",
    "\n",
    "data = {\"name\": \"John Doe\", \"email\": \"john.doe@example.com\"}\n",
    "customer = Customer(name=data[\"name\"], email=data[\"email\"])\n",
    "print(customer)"
   ]
  },
  {
   "cell_type": "markdown",
   "metadata": {},
   "source": [
    "Write a program that uses a Person class to keep track of a person's name, age,\n",
    "and address.\n",
    "Example Test Case:\n",
    "○ Input: name = \"John Doe\", age = 30, address = \"123 Main St\"\n",
    "○ Output: name: \"John Doe\", age: 30, address: \"123 Main St\""
   ]
  },
  {
   "cell_type": "code",
   "execution_count": 30,
   "metadata": {},
   "outputs": [
    {
     "name": "stdout",
     "output_type": "stream",
     "text": [
      "name: \"John Doe\", age: 30, address: \"123 Main St\"\n"
     ]
    }
   ],
   "source": [
    "class Person:\n",
    "    def __init__(self, name, age, address):\n",
    "        self.name = name\n",
    "        self.age = age\n",
    "        self.address = address\n",
    "\n",
    "    def __str__(self):\n",
    "        return f'name: \"{self.name}\", age: {self.age}, address: \"{self.address}\"'\n",
    "\n",
    "# Example Test Case\n",
    "person = Person(name=\"John Doe\", age=30, address=\"123 Main St\")\n",
    "print(person)"
   ]
  },
  {
   "cell_type": "markdown",
   "metadata": {},
   "source": [
    "Implement a program that uses a Circle class to calculate the area and\n",
    "circumference of multiple circles.\n",
    "Example Test Case:\n",
    "○ Input: radius = 4\n",
    "○ Output: area: 50.27, circumference: 25.13"
   ]
  },
  {
   "cell_type": "code",
   "execution_count": 37,
   "metadata": {},
   "outputs": [
    {
     "name": "stdout",
     "output_type": "stream",
     "text": [
      "area : 50.24 ,circumfence : 25.12\n"
     ]
    }
   ],
   "source": [
    "class Circle:\n",
    "    def __init__(self, radius):\n",
    "        self.radius = radius\n",
    "        self.pi = 3.14\n",
    "\n",
    "    def area(self):\n",
    "        return self.pi * (self.radius ** 2)\n",
    "    \n",
    "    def circumference(self):\n",
    "        return 2 * self.pi * self.radius\n",
    "    \n",
    "if __name__ == \"__main__\":\n",
    "    radius=4\n",
    "    circle = Circle(radius)\n",
    "    print(\"area :\",circle.area(),\",circumfence :\",circle.circumference())"
   ]
  },
  {
   "cell_type": "markdown",
   "metadata": {},
   "source": [
    "Given a CSV file with product details (name, price, quantity), create a Product\n",
    "class to manage the data.\n",
    "Example Test Case:\n",
    "○ Input: CSV file content = [[\"Laptop\", 1000, 5], [\"Phone\",\n",
    "500, 10]]\n",
    "○ Output: Product(name=\"Laptop\", price=1000, quantity=5),\n",
    "Product(name=\"Phone\", price=500, quantity=10)"
   ]
  },
  {
   "cell_type": "code",
   "execution_count": 38,
   "metadata": {},
   "outputs": [
    {
     "name": "stdout",
     "output_type": "stream",
     "text": [
      "Product(name=\"Laptop\", price=1000, quantity=5)\n",
      "Product(name=\"Phone\", price=500, quantity=10)\n"
     ]
    }
   ],
   "source": [
    "class Product:\n",
    "    def __init__(self, name, price, quantity):\n",
    "        self.name = name\n",
    "        self.price = price\n",
    "        self.quantity = quantity\n",
    "\n",
    "    def __str__(self):\n",
    "        return f'Product(name=\"{self.name}\", price={self.price}, quantity={self.quantity})'\n",
    "\n",
    "csv = [[\"Laptop\", 1000, 5], [\"Phone\", 500, 10]]\n",
    "products = [Product(name=item[0], price=item[1], quantity=item[2]) for item in csv]\n",
    "\n",
    "for product in products:\n",
    "    print(product)"
   ]
  },
  {
   "cell_type": "markdown",
   "metadata": {},
   "source": [
    "Create a class to represent a Movie with attributes like title, director, and rating.\n",
    "Example Test Case:\n",
    "○ Input: title = \"Inception\", director = \"Christopher Nolan\",\n",
    "rating = 8.8\n",
    "○ Output: title: \"Inception\", director: \"Christopher Nolan\",\n",
    "rating: 8.8"
   ]
  },
  {
   "cell_type": "code",
   "execution_count": 39,
   "metadata": {},
   "outputs": [
    {
     "name": "stdout",
     "output_type": "stream",
     "text": [
      "title: \"Inception\", director: \"Christopher Nolan\", rating: 8.8\n"
     ]
    }
   ],
   "source": [
    "class Movie:\n",
    "    def __init__(self, title, director, rating):\n",
    "        self.title = title\n",
    "        self.director = director\n",
    "        self.rating = rating\n",
    "\n",
    "    def __str__(self):\n",
    "        return f'title: \"{self.title}\", director: \"{self.director}\", rating: {self.rating}'\n",
    "\n",
    "movie = Movie(title=\"Inception\", director=\"Christopher Nolan\", rating=8.8)\n",
    "print(movie)"
   ]
  },
  {
   "cell_type": "markdown",
   "metadata": {},
   "source": [
    "Class Hierarchie and Inheritence"
   ]
  },
  {
   "cell_type": "markdown",
   "metadata": {},
   "source": [
    "Create a base class Shape with methods to calculate area and perimeter, and\n",
    "derive classes Circle and Square.\n",
    "Example Test Case:\n",
    "○ Input: Circle(radius=4), Square(side=5)\n",
    "○ Output: Circle area: 50.27, Circle perimeter: 25.13, Square\n",
    "area: 25, Square perimeter: 20"
   ]
  },
  {
   "cell_type": "code",
   "execution_count": 40,
   "metadata": {},
   "outputs": [
    {
     "name": "stdout",
     "output_type": "stream",
     "text": [
      "Circle area: 50.27, Circle perimeter: 25.13\n",
      "Square area: 25, Square perimeter: 20\n"
     ]
    }
   ],
   "source": [
    "import math\n",
    "\n",
    "class Shape:\n",
    "    def area(self):\n",
    "        pass\n",
    "\n",
    "    def perimeter(self):\n",
    "        pass\n",
    "\n",
    "class Circle(Shape):\n",
    "    def __init__(self, radius):\n",
    "        self.radius = radius\n",
    "\n",
    "    def area(self):\n",
    "        return round(math.pi * self.radius ** 2, 2)\n",
    "\n",
    "    def perimeter(self):\n",
    "        return round(2 * math.pi * self.radius, 2)\n",
    "\n",
    "class Square(Shape):\n",
    "    def __init__(self, side):\n",
    "        self.side = side\n",
    "\n",
    "    def area(self):\n",
    "        return self.side ** 2\n",
    "\n",
    "    def perimeter(self):\n",
    "        return 4 * self.side\n",
    "\n",
    "circle = Circle(radius=4)\n",
    "square = Square(side=5)\n",
    "\n",
    "print(f\"Circle area: {circle.area()}, Circle perimeter: {circle.perimeter()}\")\n",
    "print(f\"Square area: {square.area()}, Square perimeter: {square.perimeter()}\")"
   ]
  },
  {
   "cell_type": "markdown",
   "metadata": {},
   "source": [
    "Implement a class hierarchy to represent different types of employees (Manager,\n",
    "Engineer) with their attributes.\n",
    "Example Test Case:\n",
    "○ Input: Manager(name=\"John Doe\", department=\"Sales\"),\n",
    "Engineer(name=\"Jane Smith\", field=\"Software\")\n",
    "○ Output: Manager: John Doe, Department: Sales, Engineer: Jane\n",
    "Smith, Field: Software"
   ]
  },
  {
   "cell_type": "code",
   "execution_count": 41,
   "metadata": {},
   "outputs": [
    {
     "name": "stdout",
     "output_type": "stream",
     "text": [
      "Manager: John Doe, Department: Sales\n",
      "Engineer: Jane Smith, Field: Software\n"
     ]
    }
   ],
   "source": [
    "class Employee:\n",
    "    def __init__(self, name):\n",
    "        self.name = name\n",
    "\n",
    "    def __str__(self):\n",
    "        return f\"{self.__class__.__name__}: {self.name}\"\n",
    "\n",
    "class Manager(Employee):\n",
    "    def __init__(self, name, department):\n",
    "        super().__init__(name)\n",
    "        self.department = department\n",
    "\n",
    "    def __str__(self):\n",
    "        return f\"{super().__str__()}, Department: {self.department}\"\n",
    "\n",
    "class Engineer(Employee):\n",
    "    def __init__(self, name, field):\n",
    "        super().__init__(name)\n",
    "        self.field = field\n",
    "\n",
    "    def __str__(self):\n",
    "        return f\"{super().__str__()}, Field: {self.field}\"\n",
    "\n",
    "manager = Manager(name=\"John Doe\", department=\"Sales\")\n",
    "engineer = Engineer(name=\"Jane Smith\", field=\"Software\")\n",
    "\n",
    "print(manager)\n",
    "print(engineer)"
   ]
  },
  {
   "cell_type": "markdown",
   "metadata": {},
   "source": [
    "Write a Python program that uses inheritance to represent a hierarchy of shapes\n",
    "(Triangle, Rectangle, etc.).\n",
    "Example Test Case:\n",
    "○ Input: Triangle(base=5, height=3), Rectangle(length=4,\n",
    "width=2)\n",
    "○ Output: Triangle area: 7.5, Rectangle area: 8"
   ]
  },
  {
   "cell_type": "code",
   "execution_count": 42,
   "metadata": {},
   "outputs": [
    {
     "name": "stdout",
     "output_type": "stream",
     "text": [
      "Triangle area: 7.5\n",
      "Rectangle area: 8\n"
     ]
    }
   ],
   "source": [
    "class Shape:\n",
    "    def area(self):\n",
    "        pass\n",
    "\n",
    "class Triangle(Shape):\n",
    "    def __init__(self, base, height):\n",
    "        self.base = base\n",
    "        self.height = height\n",
    "\n",
    "    def area(self):\n",
    "        return 0.5 * self.base * self.height\n",
    "\n",
    "class Rectangle(Shape):\n",
    "    def __init__(self, length, width):\n",
    "        self.length = length\n",
    "        self.width = width\n",
    "\n",
    "    def area(self):\n",
    "        return self.length * self.width\n",
    "\n",
    "triangle = Triangle(base=5, height=3)\n",
    "rectangle = Rectangle(length=4, width=2)\n",
    "\n",
    "print(f\"Triangle area: {triangle.area()}\")\n",
    "print(f\"Rectangle area: {rectangle.area()}\")"
   ]
  },
  {
   "cell_type": "markdown",
   "metadata": {},
   "source": [
    "Create a class hierarchy to represent different types of animals (Bird, Fish) with\n",
    "their own attributes and methods.\n",
    "Example Test Case:\n",
    "○ Input: Bird(name=\"Parrot\", can_fly=True),\n",
    "Fish(name=\"Goldfish\", can_swim=True)\n",
    "○ Output: Bird: Parrot, Can Fly: True, Fish: Goldfish, Can\n",
    "Swim: True"
   ]
  },
  {
   "cell_type": "code",
   "execution_count": 44,
   "metadata": {},
   "outputs": [
    {
     "name": "stdout",
     "output_type": "stream",
     "text": [
      "Bird: Parrot, Can Fly: True\n",
      "Fish: Goldfish, Can Swim: True\n"
     ]
    }
   ],
   "source": [
    "class Animal:\n",
    "    def __init__(self, name):\n",
    "        self.name = name\n",
    "\n",
    "    def __str__(self):\n",
    "        return f\"{self.__class__.__name__}: {self.name}\"\n",
    "\n",
    "class Bird(Animal):\n",
    "    def __init__(self, name, can_fly):\n",
    "        super().__init__(name)\n",
    "        self.can_fly = can_fly\n",
    "\n",
    "    def __str__(self):\n",
    "        return f\"{super().__str__()}, Can Fly: {self.can_fly}\"\n",
    "\n",
    "class Fish(Animal):\n",
    "    def __init__(self, name, can_swim):\n",
    "        super().__init__(name)\n",
    "        self.can_swim = can_swim\n",
    "\n",
    "    def __str__(self):\n",
    "        return f\"{super().__str__()}, Can Swim: {self.can_swim}\"\n",
    "\n",
    "# Example Test Case\n",
    "bird = Bird(name=\"Parrot\", can_fly=True)\n",
    "fish = Fish(name=\"Goldfish\", can_swim=True)\n",
    "\n",
    "print(bird)\n",
    "print(fish)"
   ]
  },
  {
   "cell_type": "markdown",
   "metadata": {},
   "source": [
    "Given a JSON file with product details (name, price, quantity), create a Product\n",
    "class with encapsulated attributes.\n",
    "Example Test Case:\n",
    "○ Input: JSON file content = {\"name\": \"Laptop\", \"price\": 1000,\n",
    "\"quantity\": 5}\n",
    "○ Output: Product(name=\"Laptop\", price=1000, quantity=5)"
   ]
  },
  {
   "cell_type": "code",
   "execution_count": 43,
   "metadata": {},
   "outputs": [
    {
     "name": "stdout",
     "output_type": "stream",
     "text": [
      "Product(name=\"Laptop\", price=1000, quantity=5)\n"
     ]
    }
   ],
   "source": [
    "import json\n",
    "\n",
    "class Product:\n",
    "    def __init__(self, name, price, quantity):\n",
    "        self._name = name\n",
    "        self._price = price\n",
    "        self._quantity = quantity\n",
    "\n",
    "\n",
    "    def get_name(self):\n",
    "        return self._name\n",
    "\n",
    "    def get_price(self):\n",
    "        return self._price\n",
    "\n",
    "    def get_quantity(self):\n",
    "        return self._quantity\n",
    "\n",
    "    def set_name(self, name):\n",
    "        self._name = name\n",
    "\n",
    "    def set_price(self, price):\n",
    "        if price > 0:\n",
    "            self._price = price\n",
    "        else:\n",
    "            print(\"Price must be positive.\")\n",
    "\n",
    "    def set_quantity(self, quantity):\n",
    "        if quantity >= 0:\n",
    "            self._quantity = quantity\n",
    "        else:\n",
    "            print(\"Quantity cannot be negative.\")\n",
    "\n",
    "    def __str__(self):\n",
    "        return f'Product(name=\"{self._name}\", price={self._price}, quantity={self._quantity})'\n",
    "\n",
    "def load_product_from_json(file_path):\n",
    "    with open(file_path, \"r\") as file:\n",
    "        data = json.load(file)\n",
    "        return Product(name=data[\"name\"], price=data[\"price\"], quantity=data[\"quantity\"])\n",
    "\n",
    "\n",
    "json_content = '{\"name\": \"Laptop\", \"price\": 1000, \"quantity\": 5}'\n",
    "with open(\"product.json\", \"w\") as file:\n",
    "    file.write(json_content)\n",
    "\n",
    "product = load_product_from_json(\"product.json\")\n",
    "print(product)"
   ]
  },
  {
   "cell_type": "markdown",
   "metadata": {},
   "source": [
    "Implement a program that uses inheritance to represent a hierarchy of vehicles\n",
    "(Car, Bike, Truck, etc.).\n",
    "Example Test Case:\n",
    "○ Input: Car(make=\"Toyota\", model=\"Camry\"), Bike(make=\"Yamaha\",\n",
    "model=\"MT-07\")\n",
    "○ Output: Car: Toyota Camry, Bike: Yamaha MT-07"
   ]
  },
  {
   "cell_type": "code",
   "execution_count": 48,
   "metadata": {},
   "outputs": [
    {
     "name": "stdout",
     "output_type": "stream",
     "text": [
      "Car: Toyota Camry\n",
      "Bike: Yamaha MT-07\n",
      "Truck: Ford F-150\n"
     ]
    }
   ],
   "source": [
    "class Vehicle:\n",
    "    def __init__(self, make, model):\n",
    "        self.make = make\n",
    "        self.model = model\n",
    "\n",
    "    def __str__(self):\n",
    "        return f\"{self.__class__.__name__}: {self.make} {self.model}\"\n",
    "\n",
    "class Car(Vehicle):\n",
    "    pass\n",
    "\n",
    "class Bike(Vehicle):\n",
    "    pass\n",
    "\n",
    "class Truck(Vehicle):\n",
    "    pass\n",
    "\n",
    "car = Car(make=\"Toyota\", model=\"Camry\")\n",
    "bike = Bike(make=\"Yamaha\", model=\"MT-07\")\n",
    "truck = Truck(make=\"Ford\", model=\"F-150\")\n",
    "\n",
    "print(car)\n",
    "print(bike)\n",
    "print(truck)"
   ]
  },
  {
   "cell_type": "markdown",
   "metadata": {},
   "source": [
    "Write a Python program that uses encapsulation to protect sensitive information\n",
    "in a User class.\n",
    "Example Test Case:\n",
    "○ Input: User(username=\"john_doe\", password=\"secure123\")\n",
    "○ Output: username: \"john_doe\", password: \"******\""
   ]
  },
  {
   "cell_type": "code",
   "execution_count": 47,
   "metadata": {},
   "outputs": [
    {
     "name": "stdout",
     "output_type": "stream",
     "text": [
      "username: \"john_doe\", password: \"******\"\n"
     ]
    }
   ],
   "source": [
    "class User:\n",
    "    def __init__(self, username, password):\n",
    "        self.username = username\n",
    "        self._password = password  # Protected attribute\n",
    "\n",
    "    def get_password(self):\n",
    "        return \"******\"  # Hide the actual password\n",
    "\n",
    "    def __str__(self):\n",
    "        return f'username: \"{self.username}\", password: \"{self.get_password()}\"'\n",
    "\n",
    "# Example Test Case\n",
    "user = User(username=\"john_doe\", password=\"secure123\")\n",
    "print(user)"
   ]
  },
  {
   "cell_type": "markdown",
   "metadata": {},
   "source": [
    "Assignment - 2"
   ]
  },
  {
   "cell_type": "markdown",
   "metadata": {},
   "source": [
    "Create a class Library with attributes like name, address, and a\n",
    "list of books. Implement methods to add and remove books.\n",
    "○ Example Test Case:\n",
    "■ Input: name = \"City Library\", address = \"123 Main St\",\n",
    "books = []\n",
    "■ Method Calls: add_book(\"Book1\"), add_book(\"Book2\"),\n",
    "remove_book(\"Book1\")\n",
    "■ Output: name: \"City Library\", address: \"123 Main St\",\n",
    "books: [\"Book2\"]"
   ]
  },
  {
   "cell_type": "code",
   "execution_count": 67,
   "metadata": {},
   "outputs": [
    {
     "name": "stdout",
     "output_type": "stream",
     "text": [
      "name:\"City Library\",address:\"123 Main St\",Book 1 by Author 1\n",
      "name:\"City Library\",address:\"123 Main St\",Book 2 by Author 2\n"
     ]
    }
   ],
   "source": [
    "class Book:\n",
    "    def __init__(self, title, author):\n",
    "        self.title = title\n",
    "        self.author = author\n",
    "\n",
    "class Library:\n",
    "    def __init__(self, name, address, books=None):\n",
    "        self.name = name\n",
    "        self.address = address\n",
    "        self.books = books if books is not None else []\n",
    "    \n",
    "    def add_book(self, book):\n",
    "        self.books.append(book)\n",
    "\n",
    "    def remove_book(self, book):\n",
    "        if book in self.books:\n",
    "            self.books.remove(book)\n",
    "\n",
    "    def display_books(self):\n",
    "        for book in self.books:\n",
    "            print(f'name:\"{self.name}\",address:\"{self.address}\",{book.title} by {book.author}')\n",
    "\n",
    "if __name__ == \"__main__\":\n",
    "    library = Library(\"City Library\", \"123 Main St\")\n",
    "    book1 = Book(\"Book 1\", \"Author 1\")\n",
    "    book2 = Book(\"Book 2\", \"Author 2\")\n",
    "    library.add_book(book1)\n",
    "    library.add_book(book2)\n",
    "    \n",
    "    # Display the books in the library\n",
    "    library.display_books()"
   ]
  },
  {
   "cell_type": "markdown",
   "metadata": {},
   "source": [
    "Create a class House with attributes like address, num_rooms, and\n",
    "price. Implement a method to display the house details.\n",
    "○ Example Test Case:\n",
    "■ Input: address = \"456 Elm St\", num_rooms = 4, price =\n",
    "350000\n",
    "■ Method Call: display_details()\n",
    "■ Output: address: \"456 Elm St\", num_rooms: 4, price:\n",
    "350000"
   ]
  },
  {
   "cell_type": "code",
   "execution_count": 72,
   "metadata": {},
   "outputs": [
    {
     "name": "stdout",
     "output_type": "stream",
     "text": [
      "Address: 456 Elm St,Number of rooms: 4,Price: 350000\n"
     ]
    }
   ],
   "source": [
    "class House:\n",
    "    def __init__(self, address,rooms, price):\n",
    "        self.address = address\n",
    "        self.rooms = rooms\n",
    "        self.price = price\n",
    "\n",
    "    def display_info(self):\n",
    "        print(f\"Address: {self.address},Number of rooms: {self.rooms},Price: {self.price}\")\n",
    "\n",
    "if __name__ == \"__main__\":\n",
    "    house = House(\"456 Elm St\", 4, 350000)\n",
    "    house.display_info()\n",
    "\n"
   ]
  },
  {
   "cell_type": "markdown",
   "metadata": {},
   "source": [
    "Create a class Book with attributes title, author, and price.\n",
    "Implement a method discount to apply a discount to the book's\n",
    "price.\n",
    "○ Example Test Case:\n",
    "■ Input: title = \"Python 101\", author = \"John Doe\",\n",
    "price = 29.99\n",
    "■ Method Call: discount(0.1)\n",
    "■ Output: title: \"Python 101\", author: \"John Doe\",\n",
    "price: 26.99"
   ]
  },
  {
   "cell_type": "code",
   "execution_count": 79,
   "metadata": {},
   "outputs": [
    {
     "name": "stdout",
     "output_type": "stream",
     "text": [
      "Title: Python 101\n",
      "Author: John Doe\n",
      "Price: 2.999\n"
     ]
    }
   ],
   "source": [
    "class Book:\n",
    "    def __init__(self, title, author, price):\n",
    "        self.title = title\n",
    "        self.author = author\n",
    "        self.price = price\n",
    "    \n",
    "    def discount(self):\n",
    "        return self.price * 0.1\n",
    "\n",
    "    def display_details(self):\n",
    "        print(f\"Title: {self.title}\")\n",
    "        print(f\"Author: {self.author}\")\n",
    "        print(f\"Price: {book.discount()}\")\n",
    "\n",
    "if __name__ == \"__main__\":\n",
    "    book = Book(\"Python 101\", \"John Doe\", 29.99)\n",
    "    book.display_details()\n",
    "\n",
    "        "
   ]
  },
  {
   "cell_type": "markdown",
   "metadata": {},
   "source": [
    "Create a class Restaurant with attributes name, cuisine_type, and\n",
    "rating. Implement a method update_rating to change the\n",
    "restaurant's rating.\n",
    "○ Example Test Case:\n",
    "■ Input: name = \"Sushi Place\", cuisine_type =\n",
    "\"Japanese\", rating = 4.5\n",
    "■ Method Call: update_rating(4.8)\n",
    "■ Output: name: \"Sushi Place\", cuisine_type: \"Japanese\",\n",
    "rating: 4.8"
   ]
  },
  {
   "cell_type": "code",
   "execution_count": 84,
   "metadata": {},
   "outputs": [
    {
     "name": "stdout",
     "output_type": "stream",
     "text": [
      "Sushi Palace - Japanese - 4.8\n"
     ]
    }
   ],
   "source": [
    "class Restaurant:\n",
    "    def __init__(self, name, cuisine_type, rating):\n",
    "        self.name = name\n",
    "        self.cuisine_type = cuisine_type\n",
    "        self.rating=rating\n",
    "    \n",
    "    \n",
    "    def __str__(self):\n",
    "        return f\"{self.name} - {self.cuisine_type} - {self.rating+0.3}\"\n",
    "    \n",
    "if __name__ == \"__main__\":\n",
    "    restaurant = Restaurant(\"Sushi Palace\", \"Japanese\", 4.5)\n",
    "    print(restaurant)\n",
    "\n",
    "\n"
   ]
  },
  {
   "cell_type": "markdown",
   "metadata": {},
   "source": [
    "Create a class School with a class variable total_students and\n",
    "instance variables name and students. Implement a method to\n",
    "enroll students and update the total count.\n",
    "○ Example Test Case:\n",
    "■ Input: name = \"Greenwood High\", students = 300\n",
    "■ Method Call: enroll_students(50)\n",
    "■ Output: name: \"Greenwood High\", students: 350,\n",
    "total_students: 350"
   ]
  },
  {
   "cell_type": "code",
   "execution_count": 89,
   "metadata": {},
   "outputs": [
    {
     "name": "stdout",
     "output_type": "stream",
     "text": [
      "name :\"Greenwood High\",students :350\n"
     ]
    }
   ],
   "source": [
    "class School:\n",
    "    def __init__(self, name, students):\n",
    "        self.name = name\n",
    "        self.students = students\n",
    "\n",
    "    def enrollstudents(self,newstudent):\n",
    "        self.students+=newstudent\n",
    "    \n",
    "    def displaystudents(self):\n",
    "        return f'name :\"{self.name}\",students :{self.students}'\n",
    "\n",
    "if __name__ == \"__main__\":\n",
    "    school = School(\"Greenwood High\", 300)\n",
    "    school.enrollstudents(50)\n",
    "    print(school.displaystudents())\n"
   ]
  },
  {
   "cell_type": "markdown",
   "metadata": {},
   "source": [
    "Create a class Company with a class variable industry and\n",
    "instance variables name and num_employees. Implement a method to\n",
    "update the number of employees.\n",
    "○ Example Test Case:\n",
    "■ Input: name = \"TechCorp\", num_employees = 200\n",
    "■ Method Call: update_employees(220)\n",
    "■ Output: name: \"TechCorp\", num_employees: 220,\n",
    "industry: \"Technology\""
   ]
  },
  {
   "cell_type": "code",
   "execution_count": 91,
   "metadata": {},
   "outputs": [
    {
     "name": "stdout",
     "output_type": "stream",
     "text": [
      "name:\"TechCorp\",num_employees :220\n"
     ]
    }
   ],
   "source": [
    "class Company:\n",
    "    def __init__(self, name, emp_no):\n",
    "        self.name = name\n",
    "        self.employees = emp_no\n",
    "\n",
    "    def updateemployeenumber(self,updated):\n",
    "        self.employees =updated\n",
    "\n",
    "if __name__ == \"__main__\":\n",
    "    company = Company(\"TechCorp\", 200)\n",
    "    company.updateemployeenumber(220)\n",
    "    print(f'name:\"{company.name}\",num_employees :{company.employees}')\n"
   ]
  },
  {
   "cell_type": "markdown",
   "metadata": {},
   "source": [
    "Create a class MathUtils with a static method is_prime to check\n",
    "if a number is prime.\n",
    "○ Example Test Case:\n",
    "■ Input: number = 17\n",
    "■ Method Call: is_prime(17)\n",
    "■ Output: True"
   ]
  },
  {
   "cell_type": "code",
   "execution_count": 95,
   "metadata": {},
   "outputs": [
    {
     "name": "stdout",
     "output_type": "stream",
     "text": [
      "True\n"
     ]
    }
   ],
   "source": [
    "class MathUtils:\n",
    "    def __init__(self):\n",
    "        pass\n",
    "\n",
    "    def isPrime(self,number):\n",
    "        if number <= 1:\n",
    "            return False\n",
    "        if number <= 3:\n",
    "            return True\n",
    "        if number % 2 == 0 or number % 3 == 0:\n",
    "            return False\n",
    "        \n",
    "        i = 5\n",
    "        while i * i <= number:\n",
    "            if number % i == 0 or number % (i + 2) == 0:\n",
    "                return False\n",
    "            i += 6\n",
    "        \n",
    "        return True\n",
    "    \n",
    "        \n",
    "if __name__ == \"__main__\":\n",
    "    math = MathUtils()\n",
    "    print(math.isPrime(17))"
   ]
  },
  {
   "cell_type": "markdown",
   "metadata": {},
   "source": [
    "Create a class TemperatureConverter with a static method\n",
    "celsius_to_fahrenheit to convert Celsius to Fahrenheit.\n",
    "○ Example Test Case:\n",
    "■ Input: celsius = 25\n",
    "■ Method Call: celsius_to_fahrenheit(25)\n",
    "■ Output: 77.0"
   ]
  },
  {
   "cell_type": "code",
   "execution_count": 97,
   "metadata": {},
   "outputs": [
    {
     "name": "stdout",
     "output_type": "stream",
     "text": [
      "77.0\n"
     ]
    }
   ],
   "source": [
    "class Temperatureconverter:\n",
    "    def __init__(self, temperature, unit):\n",
    "        self.temperature = temperature\n",
    "        self.unit = unit\n",
    "\n",
    "    def celcius_to_farhenite(self):\n",
    "        return (self.temperature * 9/5) + 32\n",
    "    \n",
    "if __name__ == \"__main__\":\n",
    "    converter = Temperatureconverter(25, \"C\")\n",
    "    print(converter.celcius_to_farhenite())"
   ]
  },
  {
   "cell_type": "markdown",
   "metadata": {},
   "source": [
    "Create a base class Employee with attributes name and salary.\n",
    "Create a subclass Developer that adds an attribute\n",
    "programming_language.\n",
    "○ Example Test Case:\n",
    "■ Input: name = \"Alice\", salary = 70000,\n",
    "programming_language = \"Python\"\n",
    "■ Output: name: \"Alice\", salary: 70000,\n",
    "programming_language: \"Python\""
   ]
  },
  {
   "cell_type": "code",
   "execution_count": 103,
   "metadata": {},
   "outputs": [
    {
     "name": "stdout",
     "output_type": "stream",
     "text": [
      "Name: Alice,Salary: 70000,Programming Language: Python\n"
     ]
    }
   ],
   "source": [
    "class Employee:\n",
    "    def __init__(self, name,salary):\n",
    "        self.name = name\n",
    "        self.salary = salary\n",
    "\n",
    "class Developer(Employee):\n",
    "    def __init__(self,name,salary,proglanguage):\n",
    "        self.proglanguage = proglanguage\n",
    "        super().__init__(name, salary)\n",
    "\n",
    "    def display_details(self):\n",
    "        print(f\"Name: {self.name},Salary: {self.salary},Programming Language: {self.proglanguage}\")\n",
    "\n",
    "if __name__ == \"__main__\":\n",
    "    emp1 = Developer(\"Alice\", 70000, \"Python\")\n",
    "    emp1.display_details()\n",
    "\n",
    "\n",
    "\n"
   ]
  },
  {
   "cell_type": "markdown",
   "metadata": {},
   "source": [
    "Create a base class Appliance with a method turn_on. Create a\n",
    "subclass WashingMachine that overrides the turn_on method.\n",
    "○ Example Test Case:\n",
    "■ Input: Appliance.turn_on(),\n",
    "WashingMachine(model=\"LG\").turn_on()\n",
    "■ Output: \"Appliance is turned on\", \"Washing Machine LG\n",
    "is turned on\""
   ]
  },
  {
   "cell_type": "code",
   "execution_count": 107,
   "metadata": {},
   "outputs": [
    {
     "name": "stdout",
     "output_type": "stream",
     "text": [
      "Appliance is turned on Washing Machine LG is turned on\n",
      "Appliance is turned on Washing Machine LG is turned on\n"
     ]
    }
   ],
   "source": [
    "class Appliance:\n",
    "    def __init__(self, message):\n",
    "        self.message = message\n",
    "    \n",
    "    def turn_on(self):\n",
    "        print(\"Appliance is turned on\",\"Washing Machine LG is turned on\")\n",
    "\n",
    "class Washingmachine(Appliance):\n",
    "    def __init__(self, message):\n",
    "        super().turn_on()\n",
    "\n",
    "if __name__ == \"__main__\":\n",
    "    washing_machine = Washingmachine(\"LG\") \n",
    "    washing_machine.turn_on()\n",
    "    \n",
    "\n",
    "\n",
    "\n",
    "        "
   ]
  },
  {
   "cell_type": "markdown",
   "metadata": {},
   "source": [
    "Create a class Account with private attributes account_number\n",
    "and balance. Implement methods to deposit and withdraw money.\n",
    "○ Example Test Case:\n",
    "■ Input: account_number = \"987654321\", balance = 5000\n",
    "■ Method Calls: deposit(1500), withdraw(2000),\n",
    "get_balance()\n",
    "■ Output: account_number: \"987654321\", balance: 4500"
   ]
  },
  {
   "cell_type": "code",
   "execution_count": 114,
   "metadata": {},
   "outputs": [
    {
     "name": "stdout",
     "output_type": "stream",
     "text": [
      "account_number : \"987654321\",balance : 4500\n"
     ]
    }
   ],
   "source": [
    "class Account:\n",
    "    def __init__(self, account_number, balance):\n",
    "        self.__account_number = account_number\n",
    "        self.__balance = balance\n",
    "    \n",
    "    def deposit(self,deposit):\n",
    "        self.__balance += deposit\n",
    "        return self.__balance\n",
    "    \n",
    "    def withdraw(self,withdraw):\n",
    "        if self.__balance >= withdraw:\n",
    "            self.__balance -= withdraw\n",
    "            return self.__balance\n",
    "        \n",
    "    def get_balance(self):\n",
    "        return self.__balance\n",
    "    \n",
    "if __name__ == \"__main__\":\n",
    "    account = Account(\"987654321\", 5000)\n",
    "    account.deposit(1500)\n",
    "    account.withdraw(2000)\n",
    "    print(f'account_number : \"987654321\",balance : {account.get_balance()}')\n",
    "\n"
   ]
  },
  {
   "cell_type": "markdown",
   "metadata": {},
   "source": [
    "Create a function operate_vehicle that takes a vehicle object\n",
    "and calls its move method. Create classes Car and Bike that\n",
    "implement move differently.\n",
    "○ Example Test Case:\n",
    "■ Input: Car(model=\"Toyota\").move(),\n",
    "Bike(model=\"Yamaha\").move()\n",
    "■ Output: \"Toyota is driving\", \"Yamaha is riding\""
   ]
  },
  {
   "cell_type": "code",
   "execution_count": 117,
   "metadata": {},
   "outputs": [
    {
     "name": "stdout",
     "output_type": "stream",
     "text": [
      "Toyota is driving Yamaha is riding\n"
     ]
    }
   ],
   "source": [
    "class Vehicle:\n",
    "    def move(self):\n",
    "        pass\n",
    "\n",
    "class Car(Vehicle):\n",
    "    def __init__(self, model):\n",
    "        self.model = model\n",
    "\n",
    "    def move(self):\n",
    "        return f\"{self.model} is driving\"\n",
    "\n",
    "class Bike(Vehicle):\n",
    "    def __init__(self, model):\n",
    "        self.model = model\n",
    "\n",
    "    def move(self):\n",
    "        return f\"{self.model} is riding\"\n",
    "\n",
    "def operate_vehicle(vehicle):\n",
    "    return vehicle.move()\n",
    "\n",
    "if __name__ == \"__main__\":\n",
    "    car = Car(model=\"Toyota\")\n",
    "    bike = Bike(model=\"Yamaha\")\n",
    "\n",
    "    print(operate_vehicle(car),operate_vehicle(bike))  \n",
    "     "
   ]
  },
  {
   "cell_type": "markdown",
   "metadata": {},
   "source": [
    "Create a function operate_device that takes a device object\n",
    "and calls its operate method. Create classes Laptop and\n",
    "Smartphone that implement operate differently.\n",
    "○ Example Test Case:\n",
    "■ Input: Laptop(model=\"Dell\").operate(),\n",
    "Smartphone(model=\"iPhone\").operate()\n",
    "■ Output: \"Dell is operating\", \"iPhone is operating\""
   ]
  },
  {
   "cell_type": "code",
   "execution_count": 118,
   "metadata": {},
   "outputs": [
    {
     "name": "stdout",
     "output_type": "stream",
     "text": [
      "Dell is operating\n",
      "iPhone is operating\n"
     ]
    }
   ],
   "source": [
    "class Device:\n",
    "    def operate(self):\n",
    "        raise NotImplementedError(\"Subclasses must implement this method\")\n",
    "\n",
    "class Laptop(Device):\n",
    "    def __init__(self, model):\n",
    "        self.model = model\n",
    "\n",
    "    def operate(self):\n",
    "        return f\"{self.model} is operating\"\n",
    "\n",
    "class Smartphone(Device):\n",
    "    def __init__(self, model):\n",
    "        self.model = model\n",
    "\n",
    "    def operate(self):\n",
    "        return f\"{self.model} is operating\"\n",
    "\n",
    "def operate_device(device):\n",
    "    return device.operate()\n",
    "\n",
    "if __name__ == \"__main__\":\n",
    "    # Test cases\n",
    "    laptop = Laptop(model=\"Dell\")\n",
    "    smartphone = Smartphone(model=\"iPhone\")\n",
    "\n",
    "    print(operate_device(laptop))    \n",
    "    print(operate_device(smartphone)) "
   ]
  },
  {
   "cell_type": "markdown",
   "metadata": {},
   "source": [
    "Define an abstract class Transport with an abstract method\n",
    "travel. Create subclasses Bus and Train that implement the travel\n",
    "method.\n",
    "○ Example Test Case:\n",
    "■ Input: Bus(route=\"10A\").travel(),\n",
    "Train(route=\"Express\").travel()\n",
    "■ Output: \"Bus 10A is traveling\", \"Train Express is\n",
    "traveling\""
   ]
  },
  {
   "cell_type": "code",
   "execution_count": 119,
   "metadata": {},
   "outputs": [
    {
     "name": "stdout",
     "output_type": "stream",
     "text": [
      "Bus 10A is traveling\n",
      "Train Express is traveling\n"
     ]
    }
   ],
   "source": [
    "from abc import ABC, abstractmethod\n",
    "\n",
    "class Transport(ABC):\n",
    "    @abstractmethod\n",
    "    def travel(self):\n",
    "        pass\n",
    "\n",
    "class Bus(Transport):\n",
    "    def __init__(self, route):\n",
    "        self.route = route\n",
    "\n",
    "    def travel(self):\n",
    "        return f\"Bus {self.route} is traveling\"\n",
    "\n",
    "class Train(Transport):\n",
    "    def __init__(self, route):\n",
    "        self.route = route\n",
    "\n",
    "    def travel(self):\n",
    "        return f\"Train {self.route} is traveling\"\n",
    "\n",
    "if __name__ == \"__main__\":\n",
    "    # Test cases\n",
    "    bus = Bus(route=\"10A\")\n",
    "    train = Train(route=\"Express\")\n",
    "\n",
    "    print(bus.travel())   \n",
    "    print(train.travel()) "
   ]
  },
  {
   "cell_type": "markdown",
   "metadata": {},
   "source": [
    "Define an abstract class Payment with an abstract method\n",
    "process. Create subclasses CreditCard and PayPal that implement\n",
    "the process method.\n",
    "○ Example Test Case:\n",
    "■ Input: CreditCard(number=\"1234\").process(),\n",
    "PayPal(account=\"user@example.com\").process()\n",
    "■ Output: \"Processing credit card payment for 1234\",\n",
    "\"Processing PayPal payment for user@example.com\""
   ]
  },
  {
   "cell_type": "code",
   "execution_count": 121,
   "metadata": {},
   "outputs": [
    {
     "name": "stdout",
     "output_type": "stream",
     "text": [
      "Processing credit card payment for 1234\n",
      "Processing PayPal payment for user@example.com\n"
     ]
    }
   ],
   "source": [
    "from abc import ABC, abstractmethod\n",
    "\n",
    "class Payment(ABC):\n",
    "    @abstractmethod\n",
    "    def process(self):\n",
    "        pass\n",
    "\n",
    "class CreditCard(Payment):\n",
    "    def __init__(self, number):\n",
    "        self.number = number\n",
    "\n",
    "    def process(self):\n",
    "        return f\"Processing credit card payment for {self.number}\"\n",
    "\n",
    "class PayPal(Payment):\n",
    "    def __init__(self, account):\n",
    "        self.account = account\n",
    "\n",
    "    def process(self):\n",
    "        return f\"Processing PayPal payment for {self.account}\"\n",
    "\n",
    "if __name__ == \"__main__\":\n",
    "    # Test cases\n",
    "    credit_card_payment = CreditCard(number=\"1234\")\n",
    "    paypal_payment = PayPal(account=\"user@example.com\")\n",
    "\n",
    "    print(credit_card_payment.process()) \n",
    "    print(paypal_payment.process())       "
   ]
  }
 ],
 "metadata": {
  "kernelspec": {
   "display_name": "Python 3",
   "language": "python",
   "name": "python3"
  },
  "language_info": {
   "codemirror_mode": {
    "name": "ipython",
    "version": 3
   },
   "file_extension": ".py",
   "mimetype": "text/x-python",
   "name": "python",
   "nbconvert_exporter": "python",
   "pygments_lexer": "ipython3",
   "version": "3.13.1"
  }
 },
 "nbformat": 4,
 "nbformat_minor": 2
}
