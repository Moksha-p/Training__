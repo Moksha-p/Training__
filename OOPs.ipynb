{
 "cells": [
  {
   "cell_type": "markdown",
   "metadata": {},
   "source": [
    "Assignment -1"
   ]
  },
  {
   "cell_type": "markdown",
   "metadata": {},
   "source": [
    "1.Create a class to represent a Student with attributes like name, age, and grades.\n",
    "Example Test Case:\n",
    "○ Input: name = \"Alice\", age = 20, grades = [90, 85, 88]\n",
    "○ Output: name: \"Alice\", age: 20, grades: [90, 85, 88]\n"
   ]
  },
  {
   "cell_type": "code",
   "execution_count": 1,
   "metadata": {},
   "outputs": [
    {
     "name": "stdout",
     "output_type": "stream",
     "text": [
      "name: \"Alice\", age: 20, grades: [90, 85, 88]\n"
     ]
    }
   ],
   "source": [
    "class Student:\n",
    "    def __init__(self, name, age, grades):\n",
    "        self.name, self.age, self.grades = name, age, grades\n",
    "    def __str__(self):\n",
    "        return f\"name: \\\"{self.name}\\\", age: {self.age}, grades: {self.grades}\"\n",
    "\n",
    "print(Student(\"Alice\", 20, [90, 85, 88]))\n"
   ]
  },
  {
   "cell_type": "markdown",
   "metadata": {},
   "source": [
    "2.Given a CSV file with employee details (name, position, salary), create a class to\n",
    "represent an Employee.\n",
    "Example Test Case:\n",
    "○ Input: CSV file content = [[\"John Doe\", \"Manager\", 75000],\n",
    "[\"Jane Smith\", \"Engineer\", 80000]]\n",
    "○ Output: Employee(name=\"John Doe\", position=\"Manager\",\n",
    "salary=75000), Employee(name=\"Jane Smith\",\n",
    "position=\"Engineer\", salary=80000)"
   ]
  },
  {
   "cell_type": "code",
   "execution_count": 3,
   "metadata": {},
   "outputs": [
    {
     "name": "stdout",
     "output_type": "stream",
     "text": [
      "Employee(name=\"John Doe\", position=\"Manager\", salary=75000)\n",
      "Employee(name=\"Jane Smith\", position=\"Engineer\", salary=80000)\n"
     ]
    }
   ],
   "source": [
    "import csv\n",
    "\n",
    "class Employee:\n",
    "    def __init__(self, name, position, salary):\n",
    "        self.name = name\n",
    "        self.position = position\n",
    "        self.salary = salary\n",
    "\n",
    "    def __str__(self):\n",
    "        return f\"Employee(name=\\\"{self.name}\\\", position=\\\"{self.position}\\\", salary={self.salary})\"\n",
    "\n",
    "    @staticmethod\n",
    "    def from_csv(file_content):\n",
    "        employees = []\n",
    "        for row in file_content:\n",
    "            employees.append(Employee(row[0], row[1], row[2]))\n",
    "        return employees\n",
    "\n",
    "\n",
    "csv_content = [[\"John Doe\", \"Manager\", 75000],\n",
    "               [\"Jane Smith\", \"Engineer\", 80000]]\n",
    "\n",
    "employees = Employee.from_csv(csv_content)\n",
    "for emp in employees:\n",
    "    print(emp)\n"
   ]
  },
  {
   "cell_type": "markdown",
   "metadata": {},
   "source": [
    "3.Implement a program that simulates a basic bank account using a BankAccount\n",
    "class.\n",
    "Example Test Case:\n",
    "○ Input: account_number = \"12345678\", initial_balance = 1000\n",
    "○ Output: account_number: \"12345678\", balance: 1000"
   ]
  },
  {
   "cell_type": "code",
   "execution_count": 4,
   "metadata": {},
   "outputs": [
    {
     "name": "stdout",
     "output_type": "stream",
     "text": [
      "account_number: \"12345678\", balance: 1000\n"
     ]
    }
   ],
   "source": [
    "class BankAccount:\n",
    "    def __init__(self, account_number, initial_balance):\n",
    "        self.account_number = account_number\n",
    "        self.balance = initial_balance\n",
    "\n",
    "    def __str__(self):\n",
    "        return f\"account_number: \\\"{self.account_number}\\\", balance: {self.balance}\"\n",
    "\n",
    "account = BankAccount(account_number=\"12345678\", initial_balance=1000)\n",
    "print(account)\n"
   ]
  },
  {
   "cell_type": "markdown",
   "metadata": {},
   "source": [
    "4.Write a Python program that uses a Rectangle class to calculate the area and\n",
    "perimeter of a rectangle.\n",
    "Example Test Case:\n",
    "○ Input: length = 5, width = 3\n",
    "○ Output: area: 15, perimeter: 16"
   ]
  },
  {
   "cell_type": "code",
   "execution_count": 5,
   "metadata": {},
   "outputs": [
    {
     "name": "stdout",
     "output_type": "stream",
     "text": [
      "area: 15, perimeter: 16\n"
     ]
    }
   ],
   "source": [
    "class Rectangle:\n",
    "    def __init__(self, length, width):\n",
    "        self.length = length\n",
    "        self.width = width\n",
    "\n",
    "    def area(self):\n",
    "        return self.length * self.width\n",
    "\n",
    "    def perimeter(self):\n",
    "        return 2 * (self.length + self.width)\n",
    "\n",
    "rectangle = Rectangle(length=5, width=3)\n",
    "print(f\"area: {rectangle.area()}, perimeter: {rectangle.perimeter()}\")\n"
   ]
  },
  {
   "cell_type": "markdown",
   "metadata": {},
   "source": [
    "Create a class to represent a Car with attributes like make, model, and year.\n",
    "Example Test Case:\n",
    "○ Input: make = \"Toyota\", model = \"Camry\", year = 2020\n",
    "○ Output: make: \"Toyota\", model: \"Camry\", year: 2020"
   ]
  },
  {
   "cell_type": "code",
   "execution_count": 6,
   "metadata": {},
   "outputs": [
    {
     "name": "stdout",
     "output_type": "stream",
     "text": [
      "make: \"Toyota\", model: \"Camry\", year: 2020\n"
     ]
    }
   ],
   "source": [
    "class Car:\n",
    "    def __init__(self, make, model, year):\n",
    "        self.make = make\n",
    "        self.model = model\n",
    "        self.year = year\n",
    "\n",
    "    def __str__(self):\n",
    "        return f\"make: \\\"{self.make}\\\", model: \\\"{self.model}\\\", year: {self.year}\"\n",
    "\n",
    "car = Car(make=\"Toyota\", model=\"Camry\", year=2020)\n",
    "print(car)\n"
   ]
  },
  {
   "cell_type": "markdown",
   "metadata": {},
   "source": [
    "Given a JSON file with customer data, create a Customer class to store and\n",
    "manipulate the data.\n",
    "Example Test Case:\n",
    "○ Input: JSON file content = {\"name\": \"John Doe\", \"email\":\n",
    "\"john.doe@example.com\"}\n",
    "○ Output: Customer(name=\"John Doe\",\n",
    "email=\"john.doe@example.com\")\n"
   ]
  },
  {
   "cell_type": "code",
   "execution_count": 7,
   "metadata": {},
   "outputs": [
    {
     "name": "stdout",
     "output_type": "stream",
     "text": [
      "Customer(name=\"John Doe\", email=\"john.doe@example.com\")\n"
     ]
    }
   ],
   "source": [
    "import json\n",
    "\n",
    "class Customer:\n",
    "    def __init__(self, name, email):\n",
    "        self.name = name\n",
    "        self.email = email\n",
    "\n",
    "    def __str__(self):\n",
    "        return f\"Customer(name=\\\"{self.name}\\\", email=\\\"{self.email}\\\")\"\n",
    "\n",
    "    @staticmethod\n",
    "    def from_json(json_content):\n",
    "        data = json.loads(json_content)\n",
    "        return Customer(name=data[\"name\"], email=data[\"email\"])\n",
    "\n",
    "json_content = '{\"name\": \"John Doe\", \"email\": \"john.doe@example.com\"}'\n",
    "customer = Customer.from_json(json_content)\n",
    "print(customer)\n"
   ]
  },
  {
   "cell_type": "markdown",
   "metadata": {},
   "source": [
    "\n",
    "Write a program that uses a Person class to keep track of a person's name, age,\n",
    "and address.\n",
    "Example Test Case:\n",
    "○ Input: name = \"John Doe\", age = 30, address = \"123 Main St\"\n",
    "○ Output: name: \"John Doe\", age: 30, address: \"123 Main St"
   ]
  },
  {
   "cell_type": "code",
   "execution_count": 8,
   "metadata": {},
   "outputs": [
    {
     "name": "stdout",
     "output_type": "stream",
     "text": [
      "name: \"John Doe\", age: 30, address: \"123 Main St\"\n"
     ]
    }
   ],
   "source": [
    "class Person:\n",
    "    def __init__(self, name, age, address):\n",
    "        self.name = name\n",
    "        self.age = age\n",
    "        self.address = address\n",
    "\n",
    "    def __str__(self):\n",
    "        return f\"name: \\\"{self.name}\\\", age: {self.age}, address: \\\"{self.address}\\\"\"\n",
    "\n",
    "person = Person(name=\"John Doe\", age=30, address=\"123 Main St\")\n",
    "print(person)\n"
   ]
  },
  {
   "cell_type": "markdown",
   "metadata": {},
   "source": [
    "8.Implement a program that uses a Circle class to calculate the area and\n",
    "circumference of multiple circles.\n",
    "Example Test Case:\n",
    "○ Input: radius = 4\n",
    "○ Output: area: 50.27, circumference: 25.13"
   ]
  },
  {
   "cell_type": "code",
   "execution_count": 10,
   "metadata": {},
   "outputs": [
    {
     "name": "stdout",
     "output_type": "stream",
     "text": [
      "area: 50.27, circumference: 25.13\n"
     ]
    }
   ],
   "source": [
    "import math\n",
    "\n",
    "class Circle:\n",
    "    def __init__(self, radius):\n",
    "        self.radius = radius\n",
    "\n",
    "    def area(self):\n",
    "        return round(math.pi * (self.radius ** 2), 2)\n",
    "\n",
    "    def circumference(self):\n",
    "        return round(2 * math.pi * self.radius, 2)\n",
    "\n",
    "circle = Circle(radius=4)\n",
    "print(f\"area: {circle.area()}, circumference: {circle.circumference()}\")"
   ]
  },
  {
   "cell_type": "markdown",
   "metadata": {},
   "source": [
    "Given a CSV file with product details (name, price, quantity), create a Product\n",
    "class to manage the data.\n",
    "Example Test Case:\n",
    "○ Input: CSV file content = [[\"Laptop\", 1000, 5], [\"Phone\",\n",
    "500, 10]]\n",
    "○ Output: Product(name=\"Laptop\", price=1000, quantity=5),\n",
    "Product(name=\"Phone\", price=500, quantity=10)"
   ]
  },
  {
   "cell_type": "code",
   "execution_count": 12,
   "metadata": {},
   "outputs": [
    {
     "name": "stdout",
     "output_type": "stream",
     "text": [
      "Product(name=\"Laptop\", price=1000, quantity=5)\n",
      "Product(name=\"Phone\", price=500, quantity=10)\n"
     ]
    }
   ],
   "source": [
    "class Product:\n",
    "    def __init__(self, name, price, quantity):\n",
    "        self.name = name\n",
    "        self.price = price\n",
    "        self.quantity = quantity\n",
    "\n",
    "    def __str__(self):\n",
    "        return f'Product(name=\"{self.name}\", price={self.price}, quantity={self.quantity})'\n",
    "\n",
    "csv = [[\"Laptop\", 1000, 5], [\"Phone\", 500, 10]]\n",
    "products = [Product(name=item[0], price=item[1], quantity=item[2]) for item in csv]\n",
    "\n",
    "for product in products:\n",
    "    print(product)"
   ]
  },
  {
   "cell_type": "markdown",
   "metadata": {},
   "source": [
    "Create a class to represent a Movie with attributes like title, director, and rating.\n",
    "Example Test Case:\n",
    "○ Input: title = \"Inception\", director = \"Christopher Nolan\",\n",
    "rating = 8.8\n",
    "○ Output: title: \"Inception\", director: \"Christopher Nolan\",\n",
    "rating: 8.8\n"
   ]
  },
  {
   "cell_type": "code",
   "execution_count": 13,
   "metadata": {},
   "outputs": [
    {
     "name": "stdout",
     "output_type": "stream",
     "text": [
      "title: \"Inception\", director: \"Christopher Nolan\", rating: 8.8\n"
     ]
    }
   ],
   "source": [
    "class Movie:\n",
    "    def __init__(self, title, director, rating):\n",
    "        self.title = title\n",
    "        self.director = director\n",
    "        self.rating = rating\n",
    "\n",
    "    def __str__(self):\n",
    "        return f'title: \"{self.title}\", director: \"{self.director}\", rating: {self.rating}'\n",
    "\n",
    "movie = Movie(title=\"Inception\", director=\"Christopher Nolan\", rating=8.8)\n",
    "print(movie)"
   ]
  },
  {
   "cell_type": "markdown",
   "metadata": {},
   "source": [
    "Create a base class Shape with methods to calculate area and perimeter, and\n",
    "derive classes Circle and Square.\n",
    "Example Test Case:\n",
    "○ Input: Circle(radius=4), Square(side=5)\n",
    "○ Output: Circle area: 50.27, Circle perimeter: 25.13, Square\n",
    "area: 25, Square perimeter: 20"
   ]
  },
  {
   "cell_type": "code",
   "execution_count": 14,
   "metadata": {},
   "outputs": [
    {
     "name": "stdout",
     "output_type": "stream",
     "text": [
      "Circle area: 50.27, Circle perimeter: 25.13\n",
      "Square area: 25, Square perimeter: 20\n"
     ]
    }
   ],
   "source": [
    "import math\n",
    "\n",
    "class Circle:\n",
    "    def __init__(self, radius):\n",
    "        self.radius = radius\n",
    "    def area(self): return round(math.pi * self.radius ** 2, 2)\n",
    "    def perimeter(self): return round(2 * math.pi * self.radius, 2)\n",
    "\n",
    "class Square:\n",
    "    def __init__(self, side):\n",
    "        self.side = side\n",
    "    def area(self): return self.side ** 2\n",
    "    def perimeter(self): return 4 * self.side\n",
    "\n",
    "circle = Circle(4)\n",
    "square = Square(5)\n",
    "\n",
    "print(f\"Circle area: {circle.area()}, Circle perimeter: {circle.perimeter()}\")\n",
    "print(f\"Square area: {square.area()}, Square perimeter: {square.perimeter()}\")\n"
   ]
  },
  {
   "cell_type": "markdown",
   "metadata": {},
   "source": [
    "Implement a class hierarchy to represent different types of employees (Manager,\n",
    "Engineer) with their attributes.\n",
    "Example Test Case:\n",
    "○ Input: Manager(name=\"John Doe\", department=\"Sales\"),\n",
    "Engineer(name=\"Jane Smith\", field=\"Software\")\n",
    "○ Output: Manager: John Doe, Department: Sales, Engineer: Jane\n",
    "Smith, Field: Software\n"
   ]
  },
  {
   "cell_type": "code",
   "execution_count": 15,
   "metadata": {},
   "outputs": [
    {
     "name": "stdout",
     "output_type": "stream",
     "text": [
      "Manager: John Doe, Department: Sales\n",
      "Engineer: Jane Smith, Field: Software\n"
     ]
    }
   ],
   "source": [
    "\n",
    "class Employee:\n",
    "    def __init__(self, name):\n",
    "        self.name = name\n",
    "\n",
    "class Manager(Employee):\n",
    "    def __init__(self, name, department):\n",
    "        super().__init__(name)\n",
    "        self.department = department\n",
    "\n",
    "    def __str__(self):\n",
    "        return f\"Manager: {self.name}, Department: {self.department}\"\n",
    "\n",
    "class Engineer(Employee):\n",
    "    def __init__(self, name, field):\n",
    "        super().__init__(name)\n",
    "        self.field = field\n",
    "\n",
    "    def __str__(self):\n",
    "        return f\"Engineer: {self.name}, Field: {self.field}\"\n",
    "    \n",
    "manager = Manager(name=\"John Doe\", department=\"Sales\")\n",
    "engineer = Engineer(name=\"Jane Smith\", field=\"Software\")\n",
    "\n",
    "print(manager)\n",
    "print(engineer)\n"
   ]
  },
  {
   "cell_type": "markdown",
   "metadata": {},
   "source": [
    "Write a Python program that uses inheritance to represent a hierarchy of shapes\n",
    "(Triangle, Rectangle, etc.).\n",
    "Example Test Case:\n",
    "○ Input: Triangle(base=5, height=3), Rectangle(length=4,\n",
    "width=2)\n",
    "○ Output: Triangle area: 7.5, Rectangle area: 8"
   ]
  },
  {
   "cell_type": "code",
   "execution_count": 19,
   "metadata": {},
   "outputs": [
    {
     "name": "stdout",
     "output_type": "stream",
     "text": [
      "Triangle area: 7.5\n",
      "Rectangle area: 8\n"
     ]
    }
   ],
   "source": [
    "\n",
    "class Shape:\n",
    "    def area(self):\n",
    "        pass\n",
    "\n",
    "class Triangle(Shape):\n",
    "    def __init__(self, base, height):\n",
    "        self.base = base\n",
    "        self.height = height\n",
    "    \n",
    "    def area(self):\n",
    "        return 0.5 * self.base * self.height\n",
    "\n",
    "class Rectangle(Shape):\n",
    "    def __init__(self, length, width):\n",
    "        self.length = length\n",
    "        self.width = width\n",
    "    \n",
    "    def area(self):\n",
    "        return self.length * self.width\n",
    "\n",
    "triangle = Triangle(base=5, height=3)\n",
    "rectangle = Rectangle(length=4, width=2)\n",
    "\n",
    "print(f\"Triangle area: {triangle.area()}\")\n",
    "print(f\"Rectangle area: {rectangle.area()}\")\n"
   ]
  },
  {
   "cell_type": "markdown",
   "metadata": {},
   "source": [
    "Create a class hierarchy to represent different types of animals (Bird, Fish) with\n",
    "their own attributes and methods.\n",
    "Example Test Case:\n",
    "○ Input: Bird(name=\"Parrot\", can_fly=True),\n",
    "Fish(name=\"Goldfish\", can_swim=True)\n",
    "○ Output: Bird: Parrot, Can Fly: True, Fish: Goldfish, Can\n",
    "Swim: True\n"
   ]
  },
  {
   "cell_type": "code",
   "execution_count": 20,
   "metadata": {},
   "outputs": [
    {
     "name": "stdout",
     "output_type": "stream",
     "text": [
      "Bird: Parrot, Can Fly: True\n",
      "Fish: Goldfish, Can Swim: True\n"
     ]
    }
   ],
   "source": [
    "\n",
    "class Animal:\n",
    "    def __init__(self, name):\n",
    "        self.name = name\n",
    "\n",
    "class Bird(Animal):\n",
    "    def __init__(self, name, can_fly):\n",
    "        super().__init__(name)\n",
    "        self.can_fly = can_fly\n",
    "\n",
    "    def __str__(self):\n",
    "        return f\"Bird: {self.name}, Can Fly: {self.can_fly}\"\n",
    "\n",
    "class Fish(Animal):\n",
    "    def __init__(self, name, can_swim):\n",
    "        super().__init__(name)\n",
    "        self.can_swim = can_swim\n",
    "\n",
    "    def __str__(self):\n",
    "        return f\"Fish: {self.name}, Can Swim: {self.can_swim}\"\n",
    "\n",
    "bird = Bird(name=\"Parrot\", can_fly=True)\n",
    "fish = Fish(name=\"Goldfish\", can_swim=True)\n",
    "\n",
    "print(bird)\n",
    "print(fish)\n"
   ]
  },
  {
   "cell_type": "markdown",
   "metadata": {},
   "source": [
    "Given a JSON file with product details (name, price, quantity), create a Product\n",
    "class with encapsulated attributes.\n",
    "Example Test Case:\n",
    "○ Input: JSON file content = {\"name\": \"Laptop\", \"price\": 1000,\n",
    "\"quantity\": 5}\n",
    "○ Output: Product(name=\"Laptop\", price=1000, quantity=5)"
   ]
  },
  {
   "cell_type": "code",
   "execution_count": 21,
   "metadata": {},
   "outputs": [
    {
     "name": "stdout",
     "output_type": "stream",
     "text": [
      "Product(name=\"Laptop\", price=1000, quantity=5)\n"
     ]
    }
   ],
   "source": [
    "import json\n",
    "\n",
    "class Product:\n",
    "    def __init__(self, name, price, quantity):\n",
    "        self._name = name        \n",
    "        self._price = price\n",
    "        self._quantity = quantity\n",
    "\n",
    "    @property\n",
    "    def name(self):\n",
    "        return self._name\n",
    "\n",
    "    @property\n",
    "    def price(self):\n",
    "        return self._price\n",
    "\n",
    "    @property\n",
    "    def quantity(self):\n",
    "        return self._quantity\n",
    "\n",
    "    @name.setter\n",
    "    def name(self, value):\n",
    "        self._name = value\n",
    "\n",
    "    @price.setter\n",
    "    def price(self, value):\n",
    "        self._price = value\n",
    "\n",
    "    @quantity.setter\n",
    "    def quantity(self, value):\n",
    "        self._quantity = value\n",
    "\n",
    "    def __str__(self):\n",
    "        return f'Product(name=\"{self._name}\", price={self._price}, quantity={self._quantity})'\n",
    "\n",
    "json_data = '{\"name\": \"Laptop\", \"price\": 1000, \"quantity\": 5}'\n",
    "\n",
    "product_data = json.loads(json_data)\n",
    "\n",
    "product = Product(name=product_data[\"name\"], price=product_data[\"price\"], quantity=product_data[\"quantity\"])\n",
    "\n",
    "print(product)\n"
   ]
  },
  {
   "cell_type": "markdown",
   "metadata": {},
   "source": [
    "Implement a program that uses inheritance to represent a hierarchy of vehicles\n",
    "(Car, Bike, Truck, etc.).\n",
    "Example Test Case:\n",
    "○ Input: Car(make=\"Toyota\", model=\"Camry\"), Bike(make=\"Yamaha\",\n",
    "model=\"MT-07\")\n",
    "○ Output: Car: Toyota Camry, Bike: Yamaha MT-07"
   ]
  },
  {
   "cell_type": "code",
   "execution_count": 22,
   "metadata": {},
   "outputs": [
    {
     "name": "stdout",
     "output_type": "stream",
     "text": [
      "Car: Toyota Camry\n",
      "Bike: Yamaha MT-07\n",
      "Truck: Ford F-150\n"
     ]
    }
   ],
   "source": [
    "\n",
    "class Vehicle:\n",
    "    def __init__(self, make, model):\n",
    "        self.make = make\n",
    "        self.model = model\n",
    "\n",
    "class Car(Vehicle):\n",
    "    def __str__(self):\n",
    "        return f\"Car: {self.make} {self.model}\"\n",
    "\n",
    "class Bike(Vehicle):\n",
    "    def __str__(self):\n",
    "        return f\"Bike: {self.make} {self.model}\"\n",
    "\n",
    "class Truck(Vehicle):\n",
    "    def __str__(self):\n",
    "        return f\"Truck: {self.make} {self.model}\"\n",
    "\n",
    "car = Car(make=\"Toyota\", model=\"Camry\")\n",
    "bike = Bike(make=\"Yamaha\", model=\"MT-07\")\n",
    "truck = Truck(make=\"Ford\", model=\"F-150\")\n",
    "\n",
    "print(car)\n",
    "print(bike)\n",
    "print(truck)\n"
   ]
  },
  {
   "cell_type": "markdown",
   "metadata": {},
   "source": [
    "Write a Python program that uses encapsulation to protect sensitive information\n",
    "in a User class.\n",
    "Example Test Case:\n",
    "○ Input: User(username=\"john_doe\", password=\"secure123\")\n",
    "○ Output: username: \"john_doe\", password: \"******\""
   ]
  },
  {
   "cell_type": "code",
   "execution_count": 23,
   "metadata": {},
   "outputs": [
    {
     "name": "stdout",
     "output_type": "stream",
     "text": [
      "username: \"john_doe\", password: \"******\"\n"
     ]
    }
   ],
   "source": [
    "class User:\n",
    "    def __init__(self, username, password):\n",
    "        self.username = username  \n",
    "        self._password = password  \n",
    "\n",
    "    \n",
    "    def get_username(self):\n",
    "        return self.username\n",
    "    \n",
    "    def get_password(self):\n",
    "        return \"******\"  \n",
    "\n",
    "    def set_password(self, password):\n",
    "        self._password = password\n",
    "\n",
    "    def __str__(self):\n",
    "        return f'username: \"{self.username}\", password: \"{self.get_password()}\"'\n",
    "\n",
    "user = User(username=\"john_doe\", password=\"secure123\")\n",
    "\n",
    "print(user)\n"
   ]
  },
  {
   "cell_type": "markdown",
   "metadata": {},
   "source": [
    "Assignment-2\n",
    "Class Definition and Object Instantiation"
   ]
  },
  {
   "cell_type": "markdown",
   "metadata": {},
   "source": [
    "Create a class Library with attributes like name, address, and a\n",
    "list of books. Implement methods to add and remove books.\n",
    "○ Example Test Case:\n",
    "■ Input: name = \"City Library\", address = \"123 Main St\",\n",
    "books = []\n",
    "■ Method Calls: add_book(\"Book1\"), add_book(\"Book2\"),\n",
    "remove_book(\"Book1\")\n",
    "■ Output: name: \"City Library\", address: \"123 Main St\",\n",
    "books: [\"Book2\"]\n"
   ]
  },
  {
   "cell_type": "code",
   "execution_count": 25,
   "metadata": {},
   "outputs": [
    {
     "name": "stdout",
     "output_type": "stream",
     "text": [
      "name:\"City Library\",address:\"123 Main St\",Book 1 by Author 1\n",
      "name:\"City Library\",address:\"123 Main St\",Book 2 by Author 2\n"
     ]
    }
   ],
   "source": [
    "class Book:\n",
    "    def __init__(self, title, author):\n",
    "        self.title = title\n",
    "        self.author = author\n",
    "\n",
    "class Library:\n",
    "    def __init__(self, name, address, books=None):\n",
    "        self.name = name\n",
    "        self.address = address\n",
    "        self.books = books if books is not None else []\n",
    "    \n",
    "    def add_book(self, book):\n",
    "        self.books.append(book)\n",
    "\n",
    "    def remove_book(self, book):\n",
    "        if book in self.books:\n",
    "            self.books.remove(book)\n",
    "\n",
    "    def display_books(self):\n",
    "        for book in self.books:\n",
    "            print(f'name:\"{self.name}\",address:\"{self.address}\",{book.title} by {book.author}')\n",
    "\n",
    "if __name__ == \"__main__\":\n",
    "    library = Library(\"City Library\", \"123 Main St\")\n",
    "    book1 = Book(\"Book 1\", \"Author 1\")\n",
    "    book2 = Book(\"Book 2\", \"Author 2\")\n",
    "    library.add_book(book1)\n",
    "    library.add_book(book2)\n",
    "    \n",
    "    library.display_books()"
   ]
  },
  {
   "cell_type": "markdown",
   "metadata": {},
   "source": [
    "Create a class House with attributes like address, num_rooms, and\n",
    "price. Implement a method to display the house details.\n",
    "○ Example Test Case:\n",
    "■ Input: address = \"456 Elm St\", num_rooms = 4, price =\n",
    "350000\n",
    "■ Method Call: display_details()\n",
    "■ Output: address: \"456 Elm St\", num_rooms: 4, price:\n",
    "350000"
   ]
  },
  {
   "cell_type": "code",
   "execution_count": 26,
   "metadata": {},
   "outputs": [
    {
     "name": "stdout",
     "output_type": "stream",
     "text": [
      "address: \"456 Elm St\", num_rooms: 4, price: 350000\n"
     ]
    }
   ],
   "source": [
    "class House:\n",
    "    def __init__(self, address, num_rooms, price):\n",
    "        self.address = address\n",
    "        self.num_rooms = num_rooms\n",
    "        self.price = price\n",
    "\n",
    "    def display_details(self):\n",
    "        print(f'address: \"{self.address}\", num_rooms: {self.num_rooms}, price: {self.price}')\n",
    "\n",
    "house = House(address=\"456 Elm St\", num_rooms=4, price=350000)\n",
    "\n",
    "\n",
    "house.display_details()\n"
   ]
  },
  {
   "cell_type": "markdown",
   "metadata": {},
   "source": [
    ". Create a class Book with attributes title, author, and price.\n",
    "Implement a method discount to apply a discount to the book's\n",
    "price.\n",
    "○ Example Test Case:\n",
    "■ Input: title = \"Python 101\", author = \"John Doe\",\n",
    "price = 29.99\n",
    "■ Method Call: discount(0.1)\n",
    "■ Output: title: \"Python 101\", author: \"John Doe\",\n",
    "price: 26.99\n"
   ]
  },
  {
   "cell_type": "code",
   "execution_count": 28,
   "metadata": {},
   "outputs": [
    {
     "name": "stdout",
     "output_type": "stream",
     "text": [
      "title: \"Python 101\", author: \"John Doe\", price: 26.99\n"
     ]
    }
   ],
   "source": [
    "class Book:\n",
    "    def __init__(self, title, author, price):\n",
    "        self.title = title\n",
    "        self.author = author\n",
    "        self.price = price\n",
    "\n",
    "    def discount(self, discount_percentage):\n",
    "        self.price -= self.price * discount_percentage\n",
    "\n",
    "    def __str__(self):\n",
    "        return f'title: \"{self.title}\", author: \"{self.author}\", price: {self.price:.2f}'\n",
    "\n",
    "book = Book(title=\"Python 101\", author=\"John Doe\", price=29.99)\n",
    "\n",
    "book.discount(0.1)\n",
    "\n",
    "print(book)\n"
   ]
  },
  {
   "cell_type": "markdown",
   "metadata": {},
   "source": [
    "Create a class Restaurant with attributes name, cuisine_type, and\n",
    "rating. Implement a method update_rating to change the\n",
    "restaurant's rating.\n",
    "○ Example Test Case:\n",
    "■ Input: name = \"Sushi Place\", cuisine_type =\n",
    "\"Japanese\", rating = 4.5\n",
    "■ Method Call: update_rating(4.8)"
   ]
  },
  {
   "cell_type": "code",
   "execution_count": 29,
   "metadata": {},
   "outputs": [
    {
     "name": "stdout",
     "output_type": "stream",
     "text": [
      "name: \"Sushi Place\", cuisine_type: \"Japanese\", rating: 4.8\n"
     ]
    }
   ],
   "source": [
    "class Restaurant:\n",
    "    def __init__(self, name, cuisine_type, rating):\n",
    "        self.name = name\n",
    "        self.cuisine_type = cuisine_type\n",
    "        self.rating = rating\n",
    "\n",
    "    def update_rating(self, new_rating):\n",
    "        self.rating = new_rating\n",
    "\n",
    "    def __str__(self):\n",
    "        return f'name: \"{self.name}\", cuisine_type: \"{self.cuisine_type}\", rating: {self.rating}'\n",
    "restaurant = Restaurant(name=\"Sushi Place\", cuisine_type=\"Japanese\", rating=4.5)\n",
    "\n",
    "restaurant.update_rating(4.8)\n",
    "\n",
    "print(restaurant)\n"
   ]
  },
  {
   "cell_type": "markdown",
   "metadata": {},
   "source": [
    " Create a class School with a class variable total_students and\n",
    "instance variables name and students. Implement a method to\n",
    "enroll students and update the total count.\n",
    "○ Example Test Case:\n",
    "■ Input: name = \"Greenwood High\", students = 300\n",
    "■ Method Call: enroll_students(50)\n",
    "■ Output: name: \"Greenwood High\", students: 350,\n",
    "total_students: 350"
   ]
  },
  {
   "cell_type": "code",
   "execution_count": 30,
   "metadata": {},
   "outputs": [
    {
     "name": "stdout",
     "output_type": "stream",
     "text": [
      "name: \"Greenwood High\", students: 350, total_students: 350\n"
     ]
    }
   ],
   "source": [
    "class School:\n",
    "    total_students = 0\n",
    "\n",
    "    def __init__(self, name, students):\n",
    "        self.name = name\n",
    "        self.students = students\n",
    "        School.total_students += students\n",
    "\n",
    "    def enroll_students(self, num_students):\n",
    "        self.students += num_students\n",
    "        School.total_students += num_students\n",
    "\n",
    "    def __str__(self):\n",
    "        return f'name: \"{self.name}\", students: {self.students}, total_students: {School.total_students}'\n",
    "\n",
    "school = School(name=\"Greenwood High\", students=300)\n",
    "\n",
    "school.enroll_students(50)\n",
    "\n",
    "print(school)\n"
   ]
  },
  {
   "cell_type": "markdown",
   "metadata": {},
   "source": [
    " Create a class Company with a class variable industry and\n",
    "instance variables name and num_employees. Implement a method to\n",
    "update the number of employees.\n",
    "○ Example Test Case:\n",
    "■ Input: name = \"TechCorp\", num_employees = 200\n",
    "■ Method Call: update_employees(220)\n",
    "■ Output: name: \"TechCorp\", num_employees: 220,\n",
    "industry: \"Technology\""
   ]
  },
  {
   "cell_type": "code",
   "execution_count": 31,
   "metadata": {},
   "outputs": [
    {
     "name": "stdout",
     "output_type": "stream",
     "text": [
      "name: \"TechCorp\", num_employees: 220, industry: \"Technology\"\n"
     ]
    }
   ],
   "source": [
    "class Company:\n",
    "\n",
    "    industry = \"Technology\"\n",
    "\n",
    "    def __init__(self, name, num_employees):\n",
    "        self.name = name\n",
    "        self.num_employees = num_employees\n",
    "\n",
    "    def update_employees(self, new_num_employees):\n",
    "        self.num_employees = new_num_employees\n",
    "\n",
    "    def __str__(self):\n",
    "        return f'name: \"{self.name}\", num_employees: {self.num_employees}, industry: \"{Company.industry}\"'\n",
    "\n",
    "company = Company(name=\"TechCorp\", num_employees=200)\n",
    "\n",
    "company.update_employees(220)\n",
    "\n",
    "print(company)\n"
   ]
  },
  {
   "cell_type": "markdown",
   "metadata": {},
   "source": [
    "Create a base class Employee with attributes name and salary.\n",
    "Create a subclass Developer that adds an attribute\n",
    "programming_language.\n",
    "○ Example Test Case:\n",
    "■ Input: name = \"Alice\", salary = 70000,\n",
    "programming_language = \"Python\"\n",
    "■ Output: name: \"Alice\", salary: 70000,\n",
    "programming_language: \"Python\""
   ]
  },
  {
   "cell_type": "code",
   "execution_count": 32,
   "metadata": {},
   "outputs": [
    {
     "name": "stdout",
     "output_type": "stream",
     "text": [
      "name: \"Alice\", salary: 70000, programming_language: \"Python\"\n"
     ]
    }
   ],
   "source": [
    "\n",
    "class Employee:\n",
    "    def __init__(self, name, salary):\n",
    "        self.name = name\n",
    "        self.salary = salary\n",
    "\n",
    "class Developer(Employee):\n",
    "    def __init__(self, name, salary, programming_language):\n",
    "        super().__init__(name, salary) \n",
    "        self.programming_language = programming_language\n",
    "\n",
    "    def __str__(self):\n",
    "        return f'name: \"{self.name}\", salary: {self.salary}, programming_language: \"{self.programming_language}\"'\n",
    "\n",
    "developer = Developer(name=\"Alice\", salary=70000, programming_language=\"Python\")\n",
    "print(developer)\n"
   ]
  },
  {
   "cell_type": "markdown",
   "metadata": {},
   "source": [
    "Create a base class Appliance with a method turn_on. Create a\n",
    "subclass WashingMachine that overrides the turn_on method.\n",
    "○ Example Test Case:\n",
    "■ Input: Appliance.turn_on(),\n",
    "WashingMachine(model=\"LG\").turn_on()\n",
    "■ Output: \"Appliance is turned on\", \"Washing Machine LG\n",
    "is turned on\"\n"
   ]
  },
  {
   "cell_type": "code",
   "execution_count": 33,
   "metadata": {},
   "outputs": [
    {
     "name": "stdout",
     "output_type": "stream",
     "text": [
      "Appliance is turned on\n",
      "Washing Machine LG is turned on\n"
     ]
    }
   ],
   "source": [
    "\n",
    "class Appliance:\n",
    "    def turn_on(self):\n",
    "        print(\"Appliance is turned on\")\n",
    "\n",
    "class WashingMachine(Appliance):\n",
    "    def __init__(self, model):\n",
    "        self.model = model\n",
    "\n",
    "    def turn_on(self):\n",
    "        print(f\"Washing Machine {self.model} is turned on\")\n",
    "\n",
    "appliance = Appliance()\n",
    "appliance.turn_on()\n",
    "\n",
    "washing_machine = WashingMachine(model=\"LG\")\n",
    "washing_machine.turn_on()\n"
   ]
  },
  {
   "cell_type": "markdown",
   "metadata": {},
   "source": [
    "Create a class PrivateData with private attributes username\n",
    "and password. Implement methods to get and set these attributes.\n",
    "○ Example Test Case:\n",
    "■ Input: username = \"user1\", password = \"pass123\"\n",
    "■ Method Calls: get_username(),\n",
    "set_password(\"newpass123\"), get_password()\n",
    "■ Output: username: \"user1\", password: \"newpass123\""
   ]
  },
  {
   "cell_type": "code",
   "execution_count": 34,
   "metadata": {},
   "outputs": [
    {
     "name": "stdout",
     "output_type": "stream",
     "text": [
      "username: user1\n",
      "password: newpass123\n"
     ]
    }
   ],
   "source": [
    "class PrivateData:\n",
    "    def __init__(self, username, password):\n",
    "        self.__username = username  \n",
    "        self.__password = password \n",
    "    def get_username(self):\n",
    "        return self.__username\n",
    "\n",
    "    def set_password(self, new_password):\n",
    "        self.__password = new_password\n",
    "\n",
    "    def get_password(self):\n",
    "        return self.__password\n",
    "\n",
    "    def __str__(self):\n",
    "        return f'username: \"{self.__username}\", password: \"{self.__password}\"'\n",
    "\n",
    "private_data = PrivateData(username=\"user1\", password=\"pass123\")\n",
    "\n",
    "print(f\"username: {private_data.get_username()}\") \n",
    "private_data.set_password(\"newpass123\") \n",
    "print(f\"password: {private_data.get_password()}\")\n"
   ]
  },
  {
   "cell_type": "markdown",
   "metadata": {},
   "source": [
    "Create a class Account with private attributes account_number\n",
    "and balance. Implement methods to deposit and withdraw money.\n",
    "○ Example Test Case:\n",
    "■ Input: account_number = \"987654321\", balance = 5000\n",
    "■ Method Calls: deposit(1500), withdraw(2000),\n",
    "get_balance()\n",
    "■ Output: account_number: \"987654321\", balance: 4500"
   ]
  },
  {
   "cell_type": "code",
   "execution_count": 35,
   "metadata": {},
   "outputs": [
    {
     "name": "stdout",
     "output_type": "stream",
     "text": [
      "account_number: \"987654321\", balance: 4500\n"
     ]
    }
   ],
   "source": [
    "class Account:\n",
    "    def __init__(self, account_number, balance):\n",
    "        self.__account_number = account_number  \n",
    "        self.__balance = balance  \n",
    "\n",
    "    def deposit(self, amount):\n",
    "        if amount > 0:\n",
    "            self.__balance += amount\n",
    "        else:\n",
    "            print(\"Deposit amount must be positive.\")\n",
    "\n",
    "    def withdraw(self, amount):\n",
    "        if amount > 0 and amount <= self.__balance:\n",
    "            self.__balance -= amount\n",
    "        else:\n",
    "            print(\"Invalid withdrawal amount or insufficient balance.\")\n",
    "\n",
    "    def get_balance(self):\n",
    "        return self.__balance\n",
    "\n",
    "    def __str__(self):\n",
    "        return f'account_number: \"{self.__account_number}\", balance: {self.__balance}'\n",
    "    \n",
    "account = Account(account_number=\"987654321\", balance=5000)\n",
    "\n",
    "account.deposit(1500)  \n",
    "account.withdraw(2000) \n",
    "\n",
    "print(account)\n"
   ]
  },
  {
   "cell_type": "markdown",
   "metadata": {},
   "source": [
    "Create a class PrivateData with private attributes username\n",
    "and password. Implement methods to get and set these attributes.\n",
    "○ Example Test Case:\n",
    "■ Input: username = \"user1\", password = \"pass123\"\n",
    "■ Method Calls: get_username(),\n",
    "set_password(\"newpass123\"), get_password()\n",
    "■ Output: username: \"user1\", password: \"newpass123\""
   ]
  },
  {
   "cell_type": "code",
   "execution_count": 36,
   "metadata": {},
   "outputs": [
    {
     "name": "stdout",
     "output_type": "stream",
     "text": [
      "username: user1\n",
      "password: newpass123\n"
     ]
    }
   ],
   "source": [
    "class PrivateData:\n",
    "    def __init__(self, username, password):\n",
    "        self.__username = username  \n",
    "        self.__password = password\n",
    "\n",
    "    def get_username(self):\n",
    "        return self.__username\n",
    "\n",
    "    def set_password(self, new_password):\n",
    "        self.__password = new_password\n",
    "\n",
    "    def get_password(self):\n",
    "        return self.__password\n",
    "\n",
    "    def __str__(self):\n",
    "        return f'username: \"{self.__username}\", password: \"{self.__password}\"'\n",
    "\n",
    "private_data = PrivateData(username=\"user1\", password=\"pass123\")\n",
    "\n",
    "print(f\"username: {private_data.get_username()}\")  \n",
    "private_data.set_password(\"newpass123\") \n",
    "print(f\"password: {private_data.get_password()}\")  \n"
   ]
  },
  {
   "cell_type": "markdown",
   "metadata": {},
   "source": [
    "Create a class Account with private attributes account_number\n",
    "and balance. Implement methods to deposit and withdraw money.\n",
    "○ Example Test Case:\n",
    "■ Input: account_number = \"987654321\", balance = 5000\n",
    "■ Method Calls: deposit(1500), withdraw(2000),\n",
    "get_balance()\n",
    "■ Output: account_number: \"987654321\", balance: 4500"
   ]
  },
  {
   "cell_type": "code",
   "execution_count": 37,
   "metadata": {},
   "outputs": [
    {
     "name": "stdout",
     "output_type": "stream",
     "text": [
      "account_number: \"987654321\", balance: 4500\n"
     ]
    }
   ],
   "source": [
    "class Account:\n",
    "    def __init__(self, account_number, balance):\n",
    "        self.__account_number = account_number  \n",
    "        self.__balance = balance  \n",
    "\n",
    "    def deposit(self, amount):\n",
    "        if amount > 0:\n",
    "            self.__balance += amount\n",
    "        else:\n",
    "            print(\"Deposit amount must be positive.\")\n",
    "\n",
    "    def withdraw(self, amount):\n",
    "        if amount > 0 and amount <= self.__balance:\n",
    "            self.__balance -= amount\n",
    "        else:\n",
    "            print(\"Invalid withdrawal amount or insufficient balance.\")\n",
    "\n",
    "    def get_balance(self):\n",
    "        return self.__balance\n",
    "\n",
    "    def __str__(self):\n",
    "        return f'account_number: \"{self.__account_number}\", balance: {self.__balance}'\n",
    "    \n",
    "account = Account(account_number=\"987654321\", balance=5000)\n",
    "\n",
    "account.deposit(1500)  \n",
    "account.withdraw(2000)  \n",
    "\n",
    "print(account)\n"
   ]
  },
  {
   "cell_type": "markdown",
   "metadata": {},
   "source": [
    "Create a function operate_vehicle that takes a vehicle object\n",
    "and calls its move method. Create classes Car and Bike that\n",
    "implement move differently.\n",
    "○ Example Test Case:\n",
    "■ Input: Car(model=\"Toyota\").move(),\n",
    "Bike(model=\"Yamaha\").move()\n",
    "■ Output: \"Toyota is driving\", \"Yamaha is riding\""
   ]
  },
  {
   "cell_type": "code",
   "execution_count": 38,
   "metadata": {},
   "outputs": [
    {
     "name": "stdout",
     "output_type": "stream",
     "text": [
      "Toyota is driving\n",
      "Yamaha is riding\n"
     ]
    }
   ],
   "source": [
    "\n",
    "class Vehicle:\n",
    "    def move(self):\n",
    "        pass  \n",
    "\n",
    "class Car(Vehicle):\n",
    "    def __init__(self, model):\n",
    "        self.model = model\n",
    "\n",
    "    def move(self):\n",
    "        print(f\"{self.model} is driving\")\n",
    "\n",
    "class Bike(Vehicle):\n",
    "    def __init__(self, model):\n",
    "        self.model = model\n",
    "\n",
    "    def move(self):\n",
    "        print(f\"{self.model} is riding\")\n",
    "\n",
    "def operate_vehicle(vehicle):\n",
    "    vehicle.move()\n",
    "\n",
    "car = Car(model=\"Toyota\")\n",
    "bike = Bike(model=\"Yamaha\")\n",
    "\n",
    "operate_vehicle(car)  \n",
    "operate_vehicle(bike) \n"
   ]
  },
  {
   "cell_type": "markdown",
   "metadata": {},
   "source": [
    "Create a function operate_device that takes a device object\n",
    "and calls its operate method. Create classes Laptop and\n",
    "Smartphone that implement operate differently.\n",
    "○ Example Test Case:\n",
    "■ Input: Laptop(model=\"Dell\").operate(),\n",
    "Smartphone(model=\"iPhone\").operate()\n",
    "■ Output: \"Dell is operating\", \"iPhone is operating\""
   ]
  },
  {
   "cell_type": "code",
   "execution_count": 39,
   "metadata": {},
   "outputs": [
    {
     "name": "stdout",
     "output_type": "stream",
     "text": [
      "Dell is operating\n",
      "iPhone is operating\n"
     ]
    }
   ],
   "source": [
    "\n",
    "class Device:\n",
    "    def operate(self):\n",
    "        pass  \n",
    "class Laptop(Device):\n",
    "    def __init__(self, model):\n",
    "        self.model = model\n",
    "\n",
    "    def operate(self):\n",
    "        print(f\"{self.model} is operating\")\n",
    "\n",
    "class Smartphone(Device):\n",
    "    def __init__(self, model):\n",
    "        self.model = model\n",
    "\n",
    "    def operate(self):\n",
    "        print(f\"{self.model} is operating\")\n",
    "\n",
    "def operate_device(device):\n",
    "    device.operate()\n",
    "\n",
    "laptop = Laptop(model=\"Dell\")\n",
    "smartphone = Smartphone(model=\"iPhone\")\n",
    "\n",
    "operate_device(laptop)  \n",
    "operate_device(smartphone) "
   ]
  },
  {
   "cell_type": "markdown",
   "metadata": {},
   "source": [
    "Define an abstract class Transport with an abstract method\n",
    "travel. Create subclasses Bus and Train that implement the travel\n",
    "method.\n",
    "○ Example Test Case:\n",
    "■ Input: Bus(route=\"10A\").travel(),\n",
    "Train(route=\"Express\").travel()\n",
    "■ Output: \"Bus 10A is traveling\", \"Train Express is\n",
    "traveling\""
   ]
  },
  {
   "cell_type": "code",
   "execution_count": 40,
   "metadata": {},
   "outputs": [
    {
     "name": "stdout",
     "output_type": "stream",
     "text": [
      "Bus 10A is traveling\n",
      "Train Express is traveling\n"
     ]
    }
   ],
   "source": [
    "from abc import ABC, abstractmethod\n",
    "class Transport(ABC):\n",
    "    @abstractmethod\n",
    "    def travel(self):\n",
    "        pass  \n",
    "\n",
    "class Bus(Transport):\n",
    "    def __init__(self, route):\n",
    "        self.route = route\n",
    "\n",
    "    def travel(self):\n",
    "        print(f\"Bus {self.route} is traveling\")\n",
    "\n",
    "class Train(Transport):\n",
    "    def __init__(self, route):\n",
    "        self.route = route\n",
    "\n",
    "    def travel(self):\n",
    "        print(f\"Train {self.route} is traveling\")\n",
    "\n",
    "bus = Bus(route=\"10A\")\n",
    "train = Train(route=\"Express\")\n",
    "\n",
    "bus.travel()  \n",
    "train.travel()  \n"
   ]
  },
  {
   "cell_type": "markdown",
   "metadata": {},
   "source": [
    "Define an abstract class Payment with an abstract method\n",
    "process. Create subclasses CreditCard and PayPal that implement\n",
    "the process method.\n",
    "○ Example Test Case:\n",
    "■ Input: CreditCard(number=\"1234\").process(),\n",
    "PayPal(account=\"user@example.com\").process()\n",
    "■ Output: \"Processing credit card payment for 1234\",\n",
    "\"Processing PayPal payment for user@example.com\""
   ]
  },
  {
   "cell_type": "code",
   "execution_count": 41,
   "metadata": {},
   "outputs": [
    {
     "name": "stdout",
     "output_type": "stream",
     "text": [
      "Processing credit card payment for 1234\n",
      "Processing PayPal payment for user@example.com\n"
     ]
    }
   ],
   "source": [
    "from abc import ABC, abstractmethod\n",
    "\n",
    "class Payment(ABC):\n",
    "    @abstractmethod\n",
    "    def process(self):\n",
    "        pass  \n",
    "\n",
    "class CreditCard(Payment):\n",
    "    def __init__(self, number):\n",
    "        self.number = number\n",
    "\n",
    "    def process(self):\n",
    "        print(f\"Processing credit card payment for {self.number}\")\n",
    "\n",
    "class PayPal(Payment):\n",
    "    def __init__(self, account):\n",
    "        self.account = account\n",
    "\n",
    "    def process(self):\n",
    "        print(f\"Processing PayPal payment for {self.account}\")\n",
    "\n",
    "credit_card = CreditCard(number=\"1234\")\n",
    "paypal = PayPal(account=\"user@example.com\")\n",
    "\n",
    "credit_card.process()  \n",
    "paypal.process() \n"
   ]
  }
 ],
 "metadata": {
  "kernelspec": {
   "display_name": "Python 3",
   "language": "python",
   "name": "python3"
  },
  "language_info": {
   "codemirror_mode": {
    "name": "ipython",
    "version": 3
   },
   "file_extension": ".py",
   "mimetype": "text/x-python",
   "name": "python",
   "nbconvert_exporter": "python",
   "pygments_lexer": "ipython3",
   "version": "3.13.1"
  }
 },
 "nbformat": 4,
 "nbformat_minor": 2
}
