{
 "cells": [
  {
   "cell_type": "markdown",
   "metadata": {},
   "source": [
    "Question-1).Create a class to represent a student with attributes like name, age, and grades."
   ]
  },
  {
   "cell_type": "code",
   "execution_count": 19,
   "metadata": {},
   "outputs": [
    {
     "name": "stdout",
     "output_type": "stream",
     "text": [
      "Name: pavitra\n",
      "Age: 21\n",
      "Grades: [45, 60]\n"
     ]
    }
   ],
   "source": [
    "class Student:\n",
    "    def __init__(self, name, age, grades):\n",
    "        self.name = name\n",
    "        self.age = age\n",
    "        self.grades = grades\n",
    "\n",
    "    def display_info(self):\n",
    "        print(\"Name: {}\".format(self.name))\n",
    "        print(\"Age: {}\".format(self.age))\n",
    "        print(\"Grades: {}\".format(self.grades))\n",
    "\n",
    "# Get input from the user\n",
    "name = input(\"Enter the student's name: \")\n",
    "age = int(input(\"Enter the student's age: \"))\n",
    "grades = list(map(int, input(\"Enter the student's grades separated by space: \").split()))\n",
    "\n",
    "# Create a Student object\n",
    "student = Student(name, age, grades)\n",
    "\n",
    "# Display the student's information\n",
    "student.display_info()\n"
   ]
  },
  {
   "cell_type": "markdown",
   "metadata": {},
   "source": [
    "Question-2) Given a CSV file with employee details (name, position, salary), create a class to\n",
    "represent an Employee."
   ]
  },
  {
   "cell_type": "code",
   "execution_count": 44,
   "metadata": {},
   "outputs": [
    {
     "name": "stdout",
     "output_type": "stream",
     "text": [
      "No employees to display.\n"
     ]
    }
   ],
   "source": [
    "import csv\n",
    "\n",
    "class Employee:\n",
    "    def __init__(self, name, position, salary):\n",
    "        self.name = name\n",
    "        self.position = position\n",
    "        self.salary = salary\n",
    "\n",
    "    def __repr__(self):\n",
    "        return f'Employee(name=\"{self.name}\", position=\"{self.position}\", salary={self.salary})'\n",
    "\n",
    "# Function to read employees from the CSV file\n",
    "def read_employee_from_csv(employee_data):\n",
    "    employees = []  # List to hold Employee objects\n",
    "\n",
    "    try:\n",
    "        # Open the CSV file in read mode\n",
    "        with open(employee_data, mode='r') as file:\n",
    "            reader = csv.reader(employee_data)  # Use csv.reader to read the file line by line\n",
    "            for row in reader:\n",
    "                if row:  # Skip empty rows\n",
    "                    name, position, salary = row\n",
    "                    salary = int(salary)  # Convert salary to an integer\n",
    "                    employee = Employee(name, position, salary)  # Create Employee object\n",
    "                    employees.append(employee)  # Add Employee object to the list\n",
    "    except Exception as e:\n",
    "        print(f\"An error occurred: {e}\")\n",
    "    \n",
    "    return employees\n",
    "\n",
    "# Main execution\n",
    "file_name = r'C:\\Users\\Admin\\Desktop\\Training\\Training__\\employee_data.csv'  # Correct file path for your CSV file\n",
    "employee = read_employee_from_csv()\n",
    "\n",
    "# Display employee information\n",
    "if employee:\n",
    "    for employee in employee:\n",
    "        print(employee)\n",
    "else:\n",
    "    print(\"No employees to display.\")\n"
   ]
  },
  {
   "cell_type": "markdown",
   "metadata": {},
   "source": [
    "Question-3) Implement a program that simulates a basic bank account using a BankAccount\n",
    " class."
   ]
  },
  {
   "cell_type": "code",
   "execution_count": 46,
   "metadata": {},
   "outputs": [
    {
     "name": "stdout",
     "output_type": "stream",
     "text": [
      "Account Number: 6789000\n",
      "Balance: 570.0\n"
     ]
    }
   ],
   "source": [
    "class BankAccount:\n",
    "    def __init__(self, account_number, initial_balance=0):\n",
    "        self.account_number = account_number\n",
    "        self.balance = initial_balance\n",
    "\n",
    "    def get_balance(self):\n",
    "        return self.balance\n",
    "def main():\n",
    "    account_number = int(input(\"Enter Account Number: \"))\n",
    "    initial_balance = float(input(\"Enter Initial Balance: \"))\n",
    "\n",
    "    account = BankAccount(account_number, initial_balance)\n",
    "\n",
    "    print(\"Account Number:\", account.account_number)\n",
    "    print(\"Balance:\", account.get_balance())\n",
    "\n",
    "if __name__ == \"__main__\":\n",
    "    main()\n"
   ]
  },
  {
   "cell_type": "markdown",
   "metadata": {},
   "source": [
    "Question-4) Write a Python program that uses a Rectangle class to calculate the area and\n",
    " perimeter of a rectangle."
   ]
  },
  {
   "cell_type": "code",
   "execution_count": 47,
   "metadata": {},
   "outputs": [
    {
     "name": "stdout",
     "output_type": "stream",
     "text": [
      "Area: 30.0\n",
      "Perimeter: 22.0\n"
     ]
    }
   ],
   "source": [
    "class Rectangle:\n",
    "    def __init__(self, length, width):\n",
    "        self.length = length\n",
    "        self.width = width\n",
    "\n",
    "    def area(self):\n",
    "        return self.length * self.width\n",
    "\n",
    "    def perimeter(self):\n",
    "        return 2 * (self.length + self.width)\n",
    "\n",
    "# Get user input\n",
    "length = float(input(\"Enter the length: \"))\n",
    "width = float(input(\"Enter the width: \"))\n",
    "\n",
    "rectangle = Rectangle(length, width)\n",
    "\n",
    "print(\"Area:\", rectangle.area())\n",
    "print(\"Perimeter:\", rectangle.perimeter())\n"
   ]
  },
  {
   "cell_type": "markdown",
   "metadata": {},
   "source": [
    "Question-5). Create a class to represent a Car with attributes like make, model, and year."
   ]
  },
  {
   "cell_type": "code",
   "execution_count": 48,
   "metadata": {},
   "outputs": [
    {
     "name": "stdout",
     "output_type": "stream",
     "text": [
      "Car Make: Hyundai\n",
      "Car Model: i20\n",
      "Car Year: 2005\n"
     ]
    }
   ],
   "source": [
    "class Car:\n",
    "    def __init__(self, make, model, year):\n",
    "        self.make = make\n",
    "        self.model = model\n",
    "        self.year = year\n",
    "\n",
    "    def display_info(self):\n",
    "        print(\"Car Make:\", self.make)\n",
    "        print(\"Car Model:\", self.model)\n",
    "        print(\"Car Year:\", self.year)\n",
    "\n",
    "# Get user input \n",
    "make = input(\"Enter the car make: \")\n",
    "model = input(\"Enter the car model: \")\n",
    "year = int(input(\"Enter the car year: \"))\n",
    "\n",
    "car = Car(make, model, year)\n",
    "\n",
    "car.display_info()\n"
   ]
  },
  {
   "cell_type": "markdown",
   "metadata": {},
   "source": [
    "Question-6) Given a JSON file with customer data, create a Customer class to store and\n",
    " manipulate the data."
   ]
  },
  {
   "cell_type": "code",
   "execution_count": 8,
   "metadata": {},
   "outputs": [],
   "source": [
    "import json\n",
    "\n",
    "class Customer:\n",
    "    def __init__(self, name, email):\n",
    "        self.name = name\n",
    "        self.email = email\n",
    "\n",
    "    def __repr__(self):\n",
    "        return f'Customer(name=\"{self.name}\", email=\"{self.email}\")'\n",
    "\n",
    "# Function to read customer data from a JSON file\n",
    "def read_customer_from_json(file_name):\n",
    "    try:\n",
    "        with open(file_name, 'r') as file:\n",
    "            data = json.load(file)\n",
    "            print(\"Data loaded from file:\", data)  # Debugging step to see if data is being read correctly\n",
    "            customer = Customer(data['name'], data['email'])\n",
    "            return customer\n",
    "    except FileNotFoundError:\n",
    "        print(f\"Error: The file '{file_name}' was not found.\")\n",
    "        return None\n",
    "    except json.JSONDecodeError:\n",
    "        print(\"Error: The file contains invalid JSON.\")\n",
    "        return None\n",
    "    except KeyError as e:\n",
    "        print(f\"Error: Missing expected key: {e}\")\n",
    "        return None\n",
    "\n",
    "# Main execution\n",
    "def main():\n",
    "    # Provide the path to the JSON file\n",
    "    customer = read_customer_from_json('customer_data.json')\n",
    "    \n",
    "    # If a customer is successfully created, display the details\n",
    "    if customer:\n",
    "        print(customer)\n",
    "    else:\n",
    "        print(\"No customer data to display.\")\n",
    "\n",
    "if __name__ == r'C:\\Users\\Admin\\Desktop\\Training\\Training__\\Training__\\customer_data.json':\n",
    "    main()\n"
   ]
  },
  {
   "cell_type": "markdown",
   "metadata": {},
   "source": [
    "Question-7) Write a program that uses a Person class to keep track of a person's name, age,\n",
    " and address"
   ]
  },
  {
   "cell_type": "code",
   "execution_count": 11,
   "metadata": {},
   "outputs": [
    {
     "name": "stdout",
     "output_type": "stream",
     "text": [
      "Name: Pavitra Yadav\n",
      "Age: 21\n",
      "Address: 27,Samvad Nagar,Navlakha,Indore\n"
     ]
    }
   ],
   "source": [
    "class Person:\n",
    "    def __init__(self, name, age, address):\n",
    "        self.name = name\n",
    "        self.age = age\n",
    "        self.address = address\n",
    "name = input(\"Enter the person's name: \")\n",
    "age = int(input(\"Enter the person's age: \"))\n",
    "address = input(\"Enter the person's address: \")\n",
    "\n",
    "person = Person(name, age, address)\n",
    "print(\"Name:\", person.name)\n",
    "print(\"Age:\", person.age)\n",
    "print(\"Address:\", person.address)\n"
   ]
  },
  {
   "cell_type": "markdown",
   "metadata": {},
   "source": [
    "Question-8) Implement a program that uses a Circle class to calculate the area and\n",
    " circumference of multiple circles."
   ]
  },
  {
   "cell_type": "code",
   "execution_count": 12,
   "metadata": {},
   "outputs": [
    {
     "name": "stdout",
     "output_type": "stream",
     "text": [
      "Area: 50.27\n",
      "Circumference: 25.13\n"
     ]
    }
   ],
   "source": [
    "import math\n",
    "\n",
    "class Circle:\n",
    "    def __init__(self, radius):\n",
    "        self.radius = radius\n",
    "\n",
    "    def area(self):\n",
    "        return math.pi * self.radius ** 2\n",
    "\n",
    "    def circumference(self):\n",
    "        return 2 * math.pi * self.radius\n",
    "def main():\n",
    "    radius = float(input(\"Enter the radius of the circle: \"))\n",
    "    circle = Circle(radius)\n",
    "    print(\"Area:\", round(circle.area(), 2))\n",
    "    print(\"Circumference:\", round(circle.circumference(), 2))\n",
    "\n",
    "if __name__ == \"__main__\":\n",
    "    main()\n"
   ]
  },
  {
   "cell_type": "markdown",
   "metadata": {},
   "source": [
    "Question-10) Create a class to represent a movie with attributes like title, director, and rating."
   ]
  },
  {
   "cell_type": "code",
   "execution_count": 14,
   "metadata": {},
   "outputs": [
    {
     "name": "stdout",
     "output_type": "stream",
     "text": [
      "Title: Pushpa\n",
      "Director: Sukuram\n",
      "Rating: 5.0\n"
     ]
    }
   ],
   "source": [
    "class Movie:\n",
    "    def __init__(self, title, director, rating):\n",
    "        self.title = title\n",
    "        self.director = director\n",
    "        self.rating = rating\n",
    "\n",
    "    def display_info(self):\n",
    "        print(\"Title:\", self.title)\n",
    "        print(\"Director:\", self.director)\n",
    "        print(\"Rating:\", self.rating)\n",
    "def main():\n",
    "    title = input(\"Enter the movie title: \")\n",
    "    director = input(\"Enter the movie director: \")\n",
    "    rating = float(input(\"Enter the movie rating: \"))\n",
    "\n",
    "    movie = Movie(title, director, rating)\n",
    "    movie.display_info()\n",
    "\n",
    "if __name__ == \"__main__\":\n",
    "    main()\n"
   ]
  }
 ],
 "metadata": {
  "kernelspec": {
   "display_name": "Python 3",
   "language": "python",
   "name": "python3"
  },
  "language_info": {
   "codemirror_mode": {
    "name": "ipython",
    "version": 3
   },
   "file_extension": ".py",
   "mimetype": "text/x-python",
   "name": "python",
   "nbconvert_exporter": "python",
   "pygments_lexer": "ipython3",
   "version": "3.13.1"
  }
 },
 "nbformat": 4,
 "nbformat_minor": 2
}
