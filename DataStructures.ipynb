{
 "cells": [
  {
   "cell_type": "markdown",
   "metadata": {},
   "source": [
    "***ASSIGNMENT***"
   ]
  },
  {
   "cell_type": "markdown",
   "metadata": {},
   "source": [
    "Arrays"
   ]
  },
  {
   "cell_type": "markdown",
   "metadata": {},
   "source": [
    "1 . Find the Second Largest Element in an Array"
   ]
  },
  {
   "cell_type": "code",
   "execution_count": 2,
   "metadata": {},
   "outputs": [
    {
     "name": "stdout",
     "output_type": "stream",
     "text": [
      "Second largest element is: 3\n"
     ]
    }
   ],
   "source": [
    "arr = [1,3,4,2]\n",
    "first = second = 0\n",
    "\n",
    "for num in arr:\n",
    "    if num > first:\n",
    "        second = first\n",
    "        first = num\n",
    "    elif num > second and num != first:\n",
    "        second = num\n",
    "\n",
    "print(\"Second largest element is:\", second)"
   ]
  },
  {
   "cell_type": "markdown",
   "metadata": {},
   "source": [
    "2.Move All Zeroes to the End Example: Input: [0, 1, 0, 3, 12] → Output: [1, 3, 12, 0, 0]"
   ]
  },
  {
   "cell_type": "code",
   "execution_count": 3,
   "metadata": {},
   "outputs": [
    {
     "name": "stdout",
     "output_type": "stream",
     "text": [
      "[1, 3, 12]\n"
     ]
    }
   ],
   "source": [
    "def moveallzerostoend(arr):\n",
    "    return [x for x in arr if x != 0]\n",
    "\n",
    "arr=[0,1,0,3,12]\n",
    "print(moveallzerostoend(arr))"
   ]
  },
  {
   "cell_type": "markdown",
   "metadata": {},
   "source": [
    "3 . Find the Union and Intersection of Two Arrays"
   ]
  },
  {
   "cell_type": "code",
   "execution_count": 6,
   "metadata": {},
   "outputs": [
    {
     "name": "stdout",
     "output_type": "stream",
     "text": [
      "[1, 2, 3, 4]\n",
      "[2, 3]\n"
     ]
    }
   ],
   "source": [
    "arr1 = [1, 2, 3]\n",
    "arr2 = [2, 3, 4]\n",
    "print(list(set(arr1) | set(arr2)))\n",
    "\n",
    "print(list(set(arr1) & set(arr2)))"
   ]
  },
  {
   "cell_type": "markdown",
   "metadata": {},
   "source": [
    "4. Rotate an Array by K Steps\n",
    "Example: Input: arr = [1, 2, 3, 4, 5], k = 2 → Output: [4, 5, 1, 2, 3]\n"
   ]
  },
  {
   "cell_type": "code",
   "execution_count": 14,
   "metadata": {},
   "outputs": [
    {
     "name": "stdout",
     "output_type": "stream",
     "text": [
      "[4, 5, 1, 2, 3]\n"
     ]
    }
   ],
   "source": [
    "def Rotate_array(arr,k):\n",
    "    return arr[-k:] + arr[:-k]\n",
    "\n",
    "arr = [1, 2, 3, 4, 5]\n",
    "k=2\n",
    "print(Rotate_array(arr,k))"
   ]
  },
  {
   "cell_type": "markdown",
   "metadata": {},
   "source": [
    "5. Merge Intervals\n",
    "Example: Input: [[1, 3], [2, 6], [8, 10], [15, 18]] → Output: [[1, 6], [8, 10], [15, 18]]\n"
   ]
  },
  {
   "cell_type": "code",
   "execution_count": 16,
   "metadata": {},
   "outputs": [
    {
     "name": "stdout",
     "output_type": "stream",
     "text": [
      "[[1, 6], [8, 10], [15, 18]]\n"
     ]
    }
   ],
   "source": [
    "def merge(intervals):\n",
    "    intervals.sort()\n",
    "    merged = []\n",
    "    \n",
    "    for interval in intervals:\n",
    "        if not merged or merged[-1][1] < interval[0]:\n",
    "            merged.append(interval)\n",
    "        else:\n",
    "            merged[-1][1] = max(merged[-1][1], interval[1])\n",
    "    return merged\n",
    "\n",
    "\n",
    "intervals = [[1, 3], [2, 6], [8, 10], [15, 18]]\n",
    "print(merge(intervals)) "
   ]
  },
  {
   "cell_type": "markdown",
   "metadata": {},
   "source": [
    "Strings"
   ]
  },
  {
   "cell_type": "markdown",
   "metadata": {},
   "source": [
    "1. Find the Frequency of Each Character\n",
    "Example: Input: \"apple\" → Output: {'a': 1, 'p': 2, 'l': 1, 'e': 1}"
   ]
  },
  {
   "cell_type": "code",
   "execution_count": 17,
   "metadata": {},
   "outputs": [
    {
     "name": "stdout",
     "output_type": "stream",
     "text": [
      "{'a': 1, 'p': 2, 'l': 1, 'e': 1}\n"
     ]
    }
   ],
   "source": [
    "def freq_eachchar(str1):\n",
    "    freq = {}\n",
    "    for char in str1:\n",
    "        if char in freq:\n",
    "            freq[char] += 1\n",
    "        else:\n",
    "            freq[char] = 1\n",
    "\n",
    "    return freq\n",
    "\n",
    "str1=\"apple\"\n",
    "print(freq_eachchar(str1))"
   ]
  },
  {
   "cell_type": "markdown",
   "metadata": {},
   "source": [
    "2. Remove Duplicates from a String\n",
    "Example: Input: \"programming\" → Output: \"progamin\""
   ]
  },
  {
   "cell_type": "code",
   "execution_count": 21,
   "metadata": {},
   "outputs": [
    {
     "name": "stdout",
     "output_type": "stream",
     "text": [
      "progamin\n"
     ]
    }
   ],
   "source": [
    "def remove_duplicates(s):\n",
    "    dup = set()\n",
    "    return ''.join([char for char in s if not (char in dup or dup.add(char))])\n",
    "\n",
    "input_str = \"programming\"\n",
    "output_str = remove_duplicates(input_str)\n",
    "print(output_str)"
   ]
  },
  {
   "cell_type": "markdown",
   "metadata": {},
   "source": [
    "3. Find the First Non-Repeating Character\n",
    "Example: Input: \"swiss\" → Output: \"w\""
   ]
  },
  {
   "cell_type": "code",
   "execution_count": 23,
   "metadata": {},
   "outputs": [
    {
     "name": "stdout",
     "output_type": "stream",
     "text": [
      "The first non-repeating character is: w\n"
     ]
    }
   ],
   "source": [
    "def first_non_repeating_character(s):\n",
    "    for char in s:\n",
    "        if s.count(char) == 1:\n",
    "            return char\n",
    "    return None\n",
    "\n",
    "str1 = \"swiss\"\n",
    "result = first_non_repeating_character(str1)\n",
    "print(f\"The first non-repeating character is: {result}\")"
   ]
  },
  {
   "cell_type": "markdown",
   "metadata": {},
   "source": [
    "4. Check if a String is a Rotation of Another\n",
    "Example: Input: \"abcde\", \"cdeab\" → Output: True\n"
   ]
  },
  {
   "cell_type": "code",
   "execution_count": 33,
   "metadata": {},
   "outputs": [
    {
     "data": {
      "text/plain": [
       "True"
      ]
     },
     "execution_count": 33,
     "metadata": {},
     "output_type": "execute_result"
    }
   ],
   "source": [
    "def check_string_rotation(str1,str2):\n",
    "    if str1[-3:] + str1[:-3] == str2:\n",
    "        return True\n",
    "    else:\n",
    "        return False\n",
    "\n",
    "check_string_rotation(\"abcde\",\"cdeab\")\n"
   ]
  },
  {
   "cell_type": "markdown",
   "metadata": {},
   "source": [
    "5. Compress a String Using the Counts of Repeated Characters\n",
    "Example: Input: \"aaabbc\" → Output: \"a3b2c1\"\n"
   ]
  },
  {
   "cell_type": "code",
   "execution_count": 34,
   "metadata": {},
   "outputs": [
    {
     "name": "stdout",
     "output_type": "stream",
     "text": [
      "a3b2c1\n"
     ]
    }
   ],
   "source": [
    "def compress_string(s):\n",
    "    compressed = \"\"\n",
    "    count = 1\n",
    "    for i in range(len(s)):\n",
    "        if i + 1 < len(s) and s[i] == s[i + 1]:\n",
    "            count += 1\n",
    "        else:\n",
    "            compressed += s[i] + str(count)\n",
    "            count = 1\n",
    "    return compressed\n",
    "\n",
    "s = \"aaabbc\"\n",
    "print(compress_string(s))\n"
   ]
  },
  {
   "cell_type": "markdown",
   "metadata": {},
   "source": [
    "Queues"
   ]
  },
  {
   "cell_type": "markdown",
   "metadata": {},
   "source": [
    "1.Implement a Queue Using Lists\n",
    "Implement enqueue, dequeue, and display operations using a Python list.\n"
   ]
  },
  {
   "cell_type": "code",
   "execution_count": 36,
   "metadata": {},
   "outputs": [
    {
     "name": "stdout",
     "output_type": "stream",
     "text": [
      "Queue is empty:  []\n",
      "Enqueue 10:  [10]\n",
      "Enqueue 20:  [10, 20]\n",
      "Enqueue 30:  [10, 20, 30]\n",
      "Dequeue:  10\n",
      "Queue after dequeue:  [20, 30]\n"
     ]
    }
   ],
   "source": [
    "def enqueue(queue, item):\n",
    "    queue.append(item)\n",
    "    return queue\n",
    "\n",
    "def dequeue(queue):\n",
    "    if len(queue) < 1:\n",
    "        return \"Queue is empty\"\n",
    "    else:\n",
    "        return queue.pop(0)\n",
    "\n",
    "def display(queue):\n",
    "    return queue\n",
    "\n",
    "\n",
    "q = []\n",
    "print(\"Queue is empty: \", q)\n",
    "print(\"Enqueue 10: \", enqueue(q, 10))\n",
    "print(\"Enqueue 20: \", enqueue(q, 20))\n",
    "print(\"Enqueue 30: \", enqueue(q, 30))\n",
    "print(\"Dequeue: \", dequeue(q))\n",
    "print(\"Queue after dequeue: \", display(q))"
   ]
  },
  {
   "cell_type": "markdown",
   "metadata": {},
   "source": [
    "2. Check for a Palindrome Using a Queue\n",
    "Example: Input: \"radar\" → Output: True\n"
   ]
  },
  {
   "cell_type": "code",
   "execution_count": 40,
   "metadata": {},
   "outputs": [
    {
     "name": "stdout",
     "output_type": "stream",
     "text": [
      "False\n"
     ]
    }
   ],
   "source": [
    "from collections import deque\n",
    "\n",
    "def is_palindrome(s):\n",
    "    queue = deque(s)\n",
    "    while len(queue) > 1:\n",
    "        if queue.popleft() != queue.pop():\n",
    "            return False\n",
    "    return True\n",
    "\n",
    "s = \"radar\"\n",
    "result = is_palindrome(s)\n",
    "print(result)"
   ]
  },
  {
   "cell_type": "markdown",
   "metadata": {},
   "source": [
    "3 . Implement a Circular Queue\n",
    "Design and implement a circular queue with enqueue, dequeue, and display operations."
   ]
  },
  {
   "cell_type": "code",
   "execution_count": 44,
   "metadata": {},
   "outputs": [
    {
     "name": "stdout",
     "output_type": "stream",
     "text": [
      "Queue: [10, 20]\n",
      "Queue: [20]\n",
      "Queue: [20, 20]\n"
     ]
    }
   ],
   "source": [
    "class CircularQueue:\n",
    "    def __init__(self, size):\n",
    "        self.size = size\n",
    "        self.queue = [None] * size\n",
    "        self.front = self.rear = -1\n",
    "\n",
    "    def enqueue(self, item):\n",
    "        if (self.rear + 1) % self.size == self.front:\n",
    "            print(\"Queue is full!\")\n",
    "        elif self.front == -1:\n",
    "            self.front = self.rear = 0\n",
    "            self.queue[self.rear] = item\n",
    "        else:\n",
    "            self.rear = (self.rear + 1) % self.size\n",
    "            self.queue[self.rear] = item\n",
    "\n",
    "    def dequeue(self):\n",
    "        if self.front == -1:\n",
    "            print(\"Queue is empty!\")\n",
    "        elif self.front == self.rear:\n",
    "            item = self.queue[self.front]\n",
    "            self.front = self.rear = -1\n",
    "            return item\n",
    "        else:\n",
    "            item = self.queue[self.front]\n",
    "            self.front = (self.front + 1) % self.size\n",
    "            return item\n",
    "\n",
    "    def display(self):\n",
    "        if self.front == -1:\n",
    "            print(\"Queue is empty!\")\n",
    "        elif self.rear >= self.front:\n",
    "            print(\"Queue:\", self.queue[self.front:self.rear + 1])\n",
    "        else:\n",
    "            print(\"Queue:\", self.queue[self.front:] + self.queue[:self.rear + 1])\n",
    "\n",
    "# Example usage:\n",
    "cq = CircularQueue(5)\n",
    "cq.enqueue(10)\n",
    "cq.enqueue(20)\n",
    "cq.display() \n",
    "\n",
    "cq.dequeue()\n",
    "cq.display() \n",
    "\n",
    "cq.enqueue(20)\n",
    "cq.display()"
   ]
  },
  {
   "cell_type": "markdown",
   "metadata": {},
   "source": [
    "4 . Sort a Queue\n",
    "Sort the elements of a queue without using any extra data structure.\n",
    "Example: Input: [3, 1, 4, 2] → Output: [1, 2, 3, 4]\n"
   ]
  },
  {
   "cell_type": "code",
   "execution_count": null,
   "metadata": {},
   "outputs": [],
   "source": [
    "from collections import deque\n",
    "\n",
    "def sort_queue(queue):\n",
    "    n = len(queue)\n",
    "\n",
    "    for i in range(n):\n",
    "        min_index = 0\n",
    "\n",
    "        for j in range(1, n - i):\n",
    "            if queue[j] < queue[min_index]:\n",
    "                min_index = j\n",
    "\n",
    "        for _ in range(min_index):\n",
    "            queue.append(queue.popleft())\n",
    "        queue.append(queue.popleft())\n",
    "        \n",
    "    return queue\n",
    "\n",
    "queue = deque([3, 1, 4, 2])\n",
    "sorted_queue = sort_queue(queue)\n",
    "print(\"Sorted Queue:\", list(sorted_queue))"
   ]
  },
  {
   "cell_type": "markdown",
   "metadata": {},
   "source": [
    "5. Implement an LRU Cache\n",
    "Design a Least Recently Used (LRU) Cache using a queue and a hashmap.\n"
   ]
  },
  {
   "cell_type": "code",
   "execution_count": null,
   "metadata": {},
   "outputs": [],
   "source": []
  },
  {
   "cell_type": "markdown",
   "metadata": {},
   "source": [
    "Stack"
   ]
  },
  {
   "cell_type": "markdown",
   "metadata": {},
   "source": [
    "1.Find the Minimum Element in a Stack\n",
    "Implement a special stack that supports push, pop, and retrieving the minimum element in O(1) time.\n"
   ]
  },
  {
   "cell_type": "code",
   "execution_count": 47,
   "metadata": {},
   "outputs": [
    {
     "name": "stdout",
     "output_type": "stream",
     "text": [
      "Minimum element: 5\n"
     ]
    }
   ],
   "source": [
    "class MinStack:\n",
    "    def __init__(self):\n",
    "        self.stack = []\n",
    "        self.min_stack = []\n",
    "\n",
    "    def push(self, val):\n",
    "        self.stack.append(val)\n",
    "        if not self.min_stack or val <= self.min_stack[-1]:\n",
    "            self.min_stack.append(val)\n",
    "\n",
    "    def pop(self):\n",
    "        if self.stack:\n",
    "            val = self.stack.pop()\n",
    "            if val == self.min_stack[-1]:\n",
    "                self.min_stack.pop()\n",
    "            return val\n",
    "        return None \n",
    "\n",
    "    def get_min(self):\n",
    "        if self.min_stack:\n",
    "            return self.min_stack[-1]\n",
    "        return None\n",
    "\n",
    "min_stack = MinStack()\n",
    "min_stack.push(30)\n",
    "min_stack.push(5)\n",
    "min_stack.push(20)\n",
    "min_stack.push(10)\n",
    "print(\"Minimum element:\", min_stack.get_min()) \n"
   ]
  },
  {
   "cell_type": "markdown",
   "metadata": {},
   "source": [
    "2. Reverse a String Using a Stack\n",
    "Example: Input: \"hello\" → Output: \"olleh\"\n"
   ]
  },
  {
   "cell_type": "code",
   "execution_count": 49,
   "metadata": {},
   "outputs": [
    {
     "name": "stdout",
     "output_type": "stream",
     "text": [
      "olleh\n"
     ]
    }
   ],
   "source": [
    "class ReverseStringStack:\n",
    "    def __init__(self):\n",
    "        self.stack = []\n",
    "\n",
    "    def push(self, char):\n",
    "        self.stack.append(char)\n",
    "\n",
    "    def reversestring(self):\n",
    "        reversed_string = \"\"\n",
    "        while self.stack:\n",
    "            reversed_string += self.stack.pop()\n",
    "        return reversed_string\n",
    "\n",
    "reverse = ReverseStringStack()\n",
    "reverse.push('h')\n",
    "reverse.push('e')\n",
    "reverse.push('l')\n",
    "reverse.push('l')\n",
    "reverse.push('o')\n",
    "print(reverse.reversestring())"
   ]
  },
  {
   "cell_type": "markdown",
   "metadata": {},
   "source": [
    "3. Next Greater Element\n",
    "For each element in the array, find the next greater element.\n",
    "Example: Input: [4, 5, 2, 25] → Output: [5, 25, 25, -1]\n"
   ]
  },
  {
   "cell_type": "code",
   "execution_count": 50,
   "metadata": {},
   "outputs": [
    {
     "name": "stdout",
     "output_type": "stream",
     "text": [
      "[5, 25, 25, -1]\n"
     ]
    }
   ],
   "source": [
    "def next_greater_element(arr):\n",
    "    stack = []\n",
    "    result = [-1] * len(arr)\n",
    "    for i in range(len(arr)):\n",
    "        while stack and arr[stack[-1]] < arr[i]:\n",
    "            result[stack.pop()] = arr[i]\n",
    "        stack.append(i)\n",
    "    return result\n",
    "\n",
    "\n",
    "ele = [4, 5, 2, 25]\n",
    "output = next_greater_element(ele)\n",
    "print(output)  "
   ]
  },
  {
   "cell_type": "markdown",
   "metadata": {},
   "source": [
    "4 . Implement a Stack Using Two Queues\n",
    "Design a stack using only two queues.\n"
   ]
  },
  {
   "cell_type": "code",
   "execution_count": null,
   "metadata": {},
   "outputs": [],
   "source": []
  },
  {
   "cell_type": "markdown",
   "metadata": {},
   "source": [
    "5 . Decode a String\n",
    "Decode strings with a pattern like \"3[a2[c]]\" → Output: \"accaccacc\"\n"
   ]
  },
  {
   "cell_type": "code",
   "execution_count": null,
   "metadata": {},
   "outputs": [],
   "source": []
  },
  {
   "cell_type": "markdown",
   "metadata": {},
   "source": [
    "Linked List"
   ]
  },
  {
   "cell_type": "markdown",
   "metadata": {},
   "source": [
    "1       Detect a Loop in a Linked List\n",
    "               Example: Input: 1 -> 2 -> 3 -> 4 -> 2 (loop) → Output: True\n"
   ]
  },
  {
   "cell_type": "code",
   "execution_count": null,
   "metadata": {},
   "outputs": [],
   "source": []
  },
  {
   "cell_type": "markdown",
   "metadata": {},
   "source": [
    " 2 . Remove Duplicates from a Sorted Linked List\n",
    "Example: Input: 1 -> 1 -> 2 -> 3 -> 3 -> None → Output: 1 -> 2 -> 3 -> None\n"
   ]
  },
  {
   "cell_type": "code",
   "execution_count": null,
   "metadata": {},
   "outputs": [],
   "source": []
  },
  {
   "cell_type": "markdown",
   "metadata": {},
   "source": [
    " 3 . Check if a Linked List is a Palindrome\n",
    "Example: Input: 1 -> 2 -> 3 -> 2 -> 1 → Output: True\n"
   ]
  },
  {
   "cell_type": "code",
   "execution_count": null,
   "metadata": {},
   "outputs": [],
   "source": []
  },
  {
   "cell_type": "markdown",
   "metadata": {},
   "source": [
    "4 . Rotate a Linked List\n",
    "Example: Input: 1 -> 2 -> 3 -> 4 -> 5, k = 2 → Output: 4 -> 5 -> 1 -> 2 -> 3\n"
   ]
  },
  {
   "cell_type": "code",
   "execution_count": null,
   "metadata": {},
   "outputs": [],
   "source": []
  },
  {
   "cell_type": "markdown",
   "metadata": {},
   "source": [
    "5 .Add Two Numbers Represented by Linked Lists\n",
    "Example: Input: 7 -> 1 -> 6 (617) and 5 -> 9 -> 2 (295) → Output: 2 -> 1 -> 9 (912) \n"
   ]
  },
  {
   "cell_type": "code",
   "execution_count": null,
   "metadata": {},
   "outputs": [],
   "source": []
  }
 ],
 "metadata": {
  "kernelspec": {
   "display_name": "Python 3",
   "language": "python",
   "name": "python3"
  },
  "language_info": {
   "codemirror_mode": {
    "name": "ipython",
    "version": 3
   },
   "file_extension": ".py",
   "mimetype": "text/x-python",
   "name": "python",
   "nbconvert_exporter": "python",
   "pygments_lexer": "ipython3",
   "version": "3.13.1"
  }
 },
 "nbformat": 4,
 "nbformat_minor": 2
}
