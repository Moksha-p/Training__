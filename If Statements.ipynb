{
 "cells": [
  {
   "cell_type": "markdown",
   "metadata": {},
   "source": [
    "Write a Python program to classify a given year as a leap year or a non-leap year."
   ]
  },
  {
   "cell_type": "code",
   "execution_count": 1,
   "metadata": {},
   "outputs": [
    {
     "name": "stdout",
     "output_type": "stream",
     "text": [
      "Leap Year\n"
     ]
    }
   ],
   "source": [
    "def classify_year(year):\n",
    "    if (year % 4 == 0 and year % 100 != 0) or (year % 400 == 0):\n",
    "        return \"Leap Year\"\n",
    "    return \"Non-Leap Year\"\n",
    "\n",
    "year = 2020\n",
    "print(classify_year(year))  \n"
   ]
  },
  {
   "cell_type": "markdown",
   "metadata": {},
   "source": [
    "Write a Python program to solve a quadratic equation (ax^2 + bx + c = 0) and classify the\n",
    "roots as real, complex, or equal."
   ]
  },
  {
   "cell_type": "code",
   "execution_count": 4,
   "metadata": {},
   "outputs": [
    {
     "name": "stdout",
     "output_type": "stream",
     "text": [
      "Real roots: 2.0, 1.0\n"
     ]
    }
   ],
   "source": [
    "import cmath\n",
    "\n",
    "def solve_quadratic(a, b, c):\n",
    "    if a == 0:\n",
    "        return \"Not a quadratic equation\"\n",
    "    d = b**2 - 4*a*c\n",
    "    root1 = (-b + cmath.sqrt(d)) / (2 * a)\n",
    "    root2 = (-b - cmath.sqrt(d)) / (2 * a)\n",
    "    if d > 0:\n",
    "        return f\"Real roots: {root1.real}, {root2.real}\"\n",
    "    elif d == 0:\n",
    "        return f\"Equal roots: {root1.real}\"\n",
    "    else:\n",
    "        return f\"Complex roots: {root1}, {root2}\"\n",
    "\n",
    "\n",
    "print(solve_quadratic(1, -3, 2)) \n"
   ]
  }
 ],
 "metadata": {
  "kernelspec": {
   "display_name": "Python 3",
   "language": "python",
   "name": "python3"
  },
  "language_info": {
   "codemirror_mode": {
    "name": "ipython",
    "version": 3
   },
   "file_extension": ".py",
   "mimetype": "text/x-python",
   "name": "python",
   "nbconvert_exporter": "python",
   "pygments_lexer": "ipython3",
   "version": "3.13.1"
  }
 },
 "nbformat": 4,
 "nbformat_minor": 2
}
