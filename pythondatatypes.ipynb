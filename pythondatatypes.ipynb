{
 "cells": [
  {
   "cell_type": "code",
   "execution_count": 2,
   "metadata": {},
   "outputs": [
    {
     "name": "stdout",
     "output_type": "stream",
     "text": [
      "<class 'int'>\n",
      "<class 'float'>\n",
      "<class 'complex'>\n"
     ]
    }
   ],
   "source": [
    "a = 2\n",
    "b = 0.5\n",
    "c = 2 + 4j\n",
    "\n",
    "print(type(a))\n",
    "print(type(b))\n",
    "print(type(c))"
   ]
  },
  {
   "cell_type": "code",
   "execution_count": 4,
   "metadata": {},
   "outputs": [
    {
     "name": "stdout",
     "output_type": "stream",
     "text": [
      "Welcome to the python training\n",
      "W\n",
      "g\n",
      "c\n",
      "<class 'str'>\n"
     ]
    }
   ],
   "source": [
    "s = \"Welcome to the python training\"\n",
    "print(s)\n",
    "print(s[0])  # W\n",
    "print(s[-1]) #g\n",
    " \n",
    "print(s[3]) #c\n",
    "print(type(s))\n"
   ]
  },
  {
   "cell_type": "code",
   "execution_count": 8,
   "metadata": {},
   "outputs": [
    {
     "name": "stdout",
     "output_type": "stream",
     "text": [
      "[1, 2, 3]\n",
      "[1, 2, 'For', 'Training', 0.5]\n",
      "Welcome\n",
      "Training\n"
     ]
    }
   ],
   "source": [
    "a = []\n",
    "a = [1,2,3]\n",
    "print(a)\n",
    "b = [1,2,\"For\",\"Training\",0.5]\n",
    "print(b)\n",
    "\n",
    "c = [\"Training\",\"To\",\"Welcome\"]\n",
    "print(c[-1])\n",
    "print(c[0])"
   ]
  },
  {
   "cell_type": "code",
   "execution_count": 9,
   "metadata": {},
   "outputs": [
    {
     "name": "stdout",
     "output_type": "stream",
     "text": [
      "4\n",
      "3\n"
     ]
    }
   ],
   "source": [
    "a = (1,2,3,4)\n",
    "print(a[-1])\n",
    "print(a[2])"
   ]
  },
  {
   "cell_type": "code",
   "execution_count": 10,
   "metadata": {},
   "outputs": [
    {
     "name": "stdout",
     "output_type": "stream",
     "text": [
      "<class 'bool'>\n"
     ]
    }
   ],
   "source": [
    "print(type(True))"
   ]
  },
  {
   "cell_type": "code",
   "execution_count": 13,
   "metadata": {},
   "outputs": [
    {
     "name": "stdout",
     "output_type": "stream",
     "text": [
      "{'P', 'r', 'o', 'n', 'a', 'i', 'T', 'y', 't', 'g', 'h'}\n",
      "{'Words', 'Python ', 'Training'}\n"
     ]
    }
   ],
   "source": [
    "s1 = set(\"PythonTraining\")\n",
    "print(s1)\n",
    "\n",
    "s2 = set([\"Python \",\"Words\",\"Training\",\"Words\"])\n",
    "print(s2)"
   ]
  },
  {
   "cell_type": "code",
   "execution_count": 18,
   "metadata": {},
   "outputs": [
    {
     "name": "stdout",
     "output_type": "stream",
     "text": [
      "{1: 'Geeks', 2: 'for', 3: 'Geeks'}\n",
      "Geeks\n"
     ]
    }
   ],
   "source": [
    "d = {}\n",
    "d = {1:'Geeks',2:'for',3:'Geeks'}\n",
    "print(d)\n",
    "print(d[1])"
   ]
  }
 ],
 "metadata": {
  "kernelspec": {
   "display_name": "Python 3",
   "language": "python",
   "name": "python3"
  },
  "language_info": {
   "codemirror_mode": {
    "name": "ipython",
    "version": 3
   },
   "file_extension": ".py",
   "mimetype": "text/x-python",
   "name": "python",
   "nbconvert_exporter": "python",
   "pygments_lexer": "ipython3",
   "version": "3.12.5"
  }
 },
 "nbformat": 4,
 "nbformat_minor": 2
}
