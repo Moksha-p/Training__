{
 "cells": [
  {
   "cell_type": "markdown",
   "metadata": {},
   "source": [
    "1)  Find the Second Largest Element in an Array\n"
   ]
  },
  {
   "cell_type": "code",
   "execution_count": 1,
   "metadata": {},
   "outputs": [
    {
     "name": "stdout",
     "output_type": "stream",
     "text": [
      "45\n"
     ]
    }
   ],
   "source": [
    "def findSecondLargest(arr):\n",
    "    arr = list(set(arr))\n",
    "    if len(arr) < 2:\n",
    "        return None\n",
    "    \n",
    "    arr.sort()\n",
    "    return arr[-2]\n",
    "\n",
    "# Example usage:\n",
    "arr1 = [10, 20, 4, 45, 99]\n",
    "print(findSecondLargest(arr1)) \n",
    "\n"
   ]
  },
  {
   "cell_type": "markdown",
   "metadata": {},
   "source": [
    "2. Move All Zeroes to the End"
   ]
  },
  {
   "cell_type": "code",
   "execution_count": 4,
   "metadata": {},
   "outputs": [
    {
     "name": "stdout",
     "output_type": "stream",
     "text": [
      "Array after moving zeroes to the end: [3, 5, 1, 9, 0, 0, 0]\n"
     ]
    }
   ],
   "source": [
    "def moveZeroesToEnd(arr):\n",
    "    non_zero_index = 0\n",
    "    \n",
    "    for i in range(len(arr)):\n",
    "        if arr[i] != 0:\n",
    "            arr[non_zero_index], arr[i] = arr[i], arr[non_zero_index]\n",
    "            non_zero_index += 1\n",
    "    \n",
    "    return arr\n",
    "arr = list(map(int, input(\"Enter the array (space-separated values): \").split()))  # Input array\n",
    "result = moveZeroesToEnd(arr)\n",
    "print(f\"Array after moving zeroes to the end: {result}\")\n"
   ]
  },
  {
   "cell_type": "markdown",
   "metadata": {},
   "source": [
    "3 . Find the Union and Intersection of Two Arrays"
   ]
  },
  {
   "cell_type": "code",
   "execution_count": 6,
   "metadata": {},
   "outputs": [
    {
     "name": "stdout",
     "output_type": "stream",
     "text": [
      "Union: [1, 2, 3, 4, 5, 6]\n",
      "Intersection: [1, 4]\n"
     ]
    }
   ],
   "source": [
    "def findUnionAndIntersection(arr1, arr2):\n",
    "    union = list(set(arr1) | set(arr2))\n",
    "    intersection = list(set(arr1) & set(arr2))\n",
    "    return union, intersection\n",
    "\n",
    "arr1 = list(map(int, input(\"Enter the first array: \").split()))\n",
    "arr2 = list(map(int, input(\"Enter the second array: \").split()))\n",
    "\n",
    "union, intersection = findUnionAndIntersection(arr1, arr2)\n",
    "\n",
    "print(f\"Union: {union}\")\n",
    "print(f\"Intersection: {intersection}\")\n"
   ]
  },
  {
   "cell_type": "markdown",
   "metadata": {},
   "source": [
    "4. Rotate an Array by K Steps"
   ]
  },
  {
   "cell_type": "code",
   "execution_count": 7,
   "metadata": {},
   "outputs": [
    {
     "name": "stdout",
     "output_type": "stream",
     "text": [
      "Array after rotation: [5, 7, 1, 2, 4]\n"
     ]
    }
   ],
   "source": [
    "def rotateArray(arr, k):\n",
    "    k = k % len(arr) \n",
    "    return arr[-k:] + arr[:-k]\n",
    "\n",
    "arr = list(map(int, input(\"Enter the array: \").split()))\n",
    "k = int(input(\"Enter the number of steps to rotate: \"))\n",
    "result = rotateArray(arr, k)\n",
    "print(f\"Array after rotation: {result}\")\n"
   ]
  },
  {
   "cell_type": "markdown",
   "metadata": {},
   "source": [
    "5. Merge Intervals "
   ]
  },
  {
   "cell_type": "code",
   "execution_count": 12,
   "metadata": {},
   "outputs": [
    {
     "name": "stdout",
     "output_type": "stream",
     "text": [
      "Merged intervals: [[1, 4]]\n"
     ]
    }
   ],
   "source": [
    "def mergeIntervals(intervals):\n",
    "    intervals.sort\n",
    "    (key=lambda x: x[0])  # Sort intervals by the starting value\n",
    "    merged = []\n",
    "    \n",
    "    for interval in intervals:\n",
    "        # If merged is empty or no overlap with the last interval\n",
    "        if not merged or merged[-1][1] < interval[0]:\n",
    "            merged.append(interval)\n",
    "        else:\n",
    "            # Merge the intervals by updating the end value\n",
    "            merged[-1][1] = max(merged[-1][1], interval[1])\n",
    "    \n",
    "    return merged\n",
    "\n",
    "# Example usage\n",
    "intervals = eval(input(\"Enter the list of intervals: \"))  # Input the list of intervals\n",
    "result = mergeIntervals(intervals)\n",
    "print(f\"Merged intervals: {result}\")\n"
   ]
  },
  {
   "cell_type": "markdown",
   "metadata": {},
   "source": [
    "\n",
    "1 . Find the Frequency of Each Character\n"
   ]
  },
  {
   "cell_type": "code",
   "execution_count": 13,
   "metadata": {},
   "outputs": [
    {
     "name": "stdout",
     "output_type": "stream",
     "text": [
      "Character frequency: {'P': 1, 'a': 2, 'v': 1, 'i': 1, 't': 1, 'r': 1}\n"
     ]
    }
   ],
   "source": [
    "def charFrequency(s):\n",
    "    freq = {}\n",
    "    for char in s:\n",
    "        if char in freq:\n",
    "            freq[char] += 1\n",
    "        else:\n",
    "            freq[char] = 1\n",
    "    return freq\n",
    "\n",
    "s = input(\"Enter a string: \")\n",
    "result = charFrequency(s)\n",
    "print(f\"Character frequency: {result}\")\n"
   ]
  },
  {
   "cell_type": "markdown",
   "metadata": {},
   "source": [
    "2. Remove Duplicates from a String"
   ]
  },
  {
   "cell_type": "code",
   "execution_count": 14,
   "metadata": {},
   "outputs": [
    {
     "name": "stdout",
     "output_type": "stream",
     "text": [
      "String after removing duplicates: Pavitr Yd\n"
     ]
    }
   ],
   "source": [
    "def removeDuplicates(s):\n",
    "    result = ''\n",
    "    for char in s:\n",
    "        if char not in result:\n",
    "            result += char\n",
    "    return result\n",
    "\n",
    "s = input(\"Enter a string: \")\n",
    "result = removeDuplicates(s)\n",
    "print(f\"String after removing duplicates: {result}\")\n"
   ]
  },
  {
   "cell_type": "markdown",
   "metadata": {},
   "source": [
    "3. Find the First Non-Repeating Character\n"
   ]
  },
  {
   "cell_type": "code",
   "execution_count": 15,
   "metadata": {},
   "outputs": [
    {
     "name": "stdout",
     "output_type": "stream",
     "text": [
      "First non-repeating character: M\n"
     ]
    }
   ],
   "source": [
    "def firstNonRepeating(s):\n",
    "    for char in s:\n",
    "        if s.count(char) == 1:\n",
    "            return char\n",
    "    return None\n",
    "\n",
    "s = input(\"Enter a string: \")\n",
    "result = firstNonRepeating(s)\n",
    "print(f\"First non-repeating character: {result}\")\n"
   ]
  },
  {
   "cell_type": "markdown",
   "metadata": {},
   "source": [
    "4 . Check if a String is a Rotation of Another"
   ]
  },
  {
   "cell_type": "code",
   "execution_count": 16,
   "metadata": {},
   "outputs": [
    {
     "name": "stdout",
     "output_type": "stream",
     "text": [
      "Is rotation: False\n"
     ]
    }
   ],
   "source": [
    "def isRotation(s1, s2):\n",
    "    return len(s1) == len(s2) and s2 in (s1 + s1)\n",
    "\n",
    "s1 = input(\"Enter the first string: \")\n",
    "s2 = input(\"Enter the second string: \")\n",
    "result = isRotation(s1, s2)\n",
    "print(f\"Is rotation: {result}\")\n"
   ]
  },
  {
   "cell_type": "markdown",
   "metadata": {},
   "source": [
    "5.Compress a String Using the Counts of Repeated Characters\n"
   ]
  },
  {
   "cell_type": "code",
   "execution_count": 17,
   "metadata": {},
   "outputs": [
    {
     "name": "stdout",
     "output_type": "stream",
     "text": [
      "Compressed string: a4b3r3u1h2g1\n"
     ]
    }
   ],
   "source": [
    "def compressString(s):\n",
    "    compressed = ''\n",
    "    count = 1\n",
    "    for i in range(1, len(s)):\n",
    "        if s[i] == s[i-1]:\n",
    "            count += 1\n",
    "        else:\n",
    "            compressed += s[i-1] + str(count)\n",
    "            count = 1\n",
    "    compressed += s[-1] + str(count)  # For the last character\n",
    "    return compressed\n",
    "\n",
    "s = input(\"Enter a string: \")\n",
    "result = compressString(s)\n",
    "print(f\"Compressed string: {result}\")\n"
   ]
  }
 ],
 "metadata": {
  "kernelspec": {
   "display_name": "Python 3",
   "language": "python",
   "name": "python3"
  },
  "language_info": {
   "codemirror_mode": {
    "name": "ipython",
    "version": 3
   },
   "file_extension": ".py",
   "mimetype": "text/x-python",
   "name": "python",
   "nbconvert_exporter": "python",
   "pygments_lexer": "ipython3",
   "version": "3.13.1"
  }
 },
 "nbformat": 4,
 "nbformat_minor": 2
}
